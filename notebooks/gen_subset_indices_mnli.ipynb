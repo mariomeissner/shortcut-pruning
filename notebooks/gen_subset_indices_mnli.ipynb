{
 "cells": [
  {
   "cell_type": "code",
   "execution_count": 1,
   "id": "664dbe44-5ef9-4dab-af7b-c961d0044912",
   "metadata": {},
   "outputs": [],
   "source": [
    "import datasets\n",
    "import torch\n",
    "import numpy as np\n",
    "import json\n",
    "import pickle\n",
    "from tqdm import tqdm"
   ]
  },
  {
   "cell_type": "markdown",
   "id": "aa181641-5ec6-424a-8357-d4bef8995753",
   "metadata": {},
   "source": [
    "## Get negation indices"
   ]
  },
  {
   "cell_type": "code",
   "execution_count": 2,
   "id": "dc9bf3b2-01dc-4b7e-bc1e-0c3b9d44bf47",
   "metadata": {},
   "outputs": [
    {
     "name": "stderr",
     "output_type": "stream",
     "text": [
      "Reusing dataset glue (/home/meissner/.cache/huggingface/datasets/glue/mnli/1.0.0/dacbe3125aa31d7f70367a07a8a9e72a5a0bfeb5fc42e75c9db75b96da6053ad)\n"
     ]
    },
    {
     "data": {
      "application/vnd.jupyter.widget-view+json": {
       "model_id": "fd44aa00ea1245e4bf433d72fece4597",
       "version_major": 2,
       "version_minor": 0
      },
      "text/plain": [
       "  0%|          | 0/5 [00:00<?, ?it/s]"
      ]
     },
     "metadata": {},
     "output_type": "display_data"
    }
   ],
   "source": [
    "mnli = datasets.load_dataset(\"glue\", \"mnli\")"
   ]
  },
  {
   "cell_type": "code",
   "execution_count": 32,
   "id": "02b989a9-8b0a-4ad1-a342-1faab6012fbb",
   "metadata": {},
   "outputs": [],
   "source": [
    "negation_words = [\" no \", \" not \", \" don't \", \" none \", \" nothing \", \n",
    "                  \" never \", \" aren’t \", \" isn’t \", \" weren’t \", \n",
    "                  \" neither \", \" don’t \", \" didn’t \", \" doesn’t \", \n",
    "                  \" cannot \", \" hasn’t \", \" won’t \"]"
   ]
  },
  {
   "cell_type": "code",
   "execution_count": 33,
   "id": "44008ba7-688b-49d8-8329-b47b25e0a800",
   "metadata": {},
   "outputs": [],
   "source": [
    "def find_negation_idxs(dataset):\n",
    "    ent_indices, cont_indices = [], []\n",
    "    for sample in dataset:\n",
    "        if any([word in sample[\"hypothesis\"].lower() for word in negation_words]):\n",
    "            if sample['label'] == 0:\n",
    "                ent_indices.append(sample['idx'])\n",
    "            elif sample['label'] == 2:\n",
    "                cont_indices.append(sample['idx'])\n",
    "    return ent_indices, cont_indices"
   ]
  },
  {
   "cell_type": "code",
   "execution_count": 34,
   "id": "004a0316-8e52-4f69-9a00-2ada64fda40e",
   "metadata": {},
   "outputs": [],
   "source": [
    "train_ents, train_conts = find_negation_idxs(mnli[\"train\"])\n",
    "val_m_ents, val_m_conts = find_negation_idxs(mnli[\"validation_matched\"])\n",
    "val_mm_ents, val_mm_conts = find_negation_idxs(mnli[\"validation_mismatched\"])"
   ]
  },
  {
   "cell_type": "code",
   "execution_count": 35,
   "id": "298c4951-675c-47bb-a1b1-5a6cbb8153af",
   "metadata": {},
   "outputs": [],
   "source": [
    "all_neg_indices = {\"train_ents\" : train_ents, \"train_conts\" : train_conts, \"val_m_ents\" : val_m_ents, \"val_m_conts\" : val_m_conts, \"val_mm_ents\" : val_mm_ents, \"val_mm_conts\" : val_mm_conts}"
   ]
  },
  {
   "cell_type": "code",
   "execution_count": 7,
   "id": "14115709-6585-45c1-bfda-f4884aaeff6e",
   "metadata": {},
   "outputs": [
    {
     "name": "stdout",
     "output_type": "stream",
     "text": [
      "mkdir: cannot create directory ‘/home/meissner/shortcut-pruning/data/subsets/’: File exists\n"
     ]
    }
   ],
   "source": [
    "!mkdir /home/meissner/shortcut-pruning/data/subsets/"
   ]
  },
  {
   "cell_type": "code",
   "execution_count": 8,
   "id": "bd07aebc-eba5-4be8-aeae-53eb98d23679",
   "metadata": {},
   "outputs": [],
   "source": [
    "with open(\"/home/meissner/shortcut-pruning/data/subsets/mnli_negation_indices.json\", \"w\") as _file:\n",
    "    _file.write(json.dumps(all_neg_indices))"
   ]
  },
  {
   "cell_type": "code",
   "execution_count": 38,
   "id": "5993b207-39db-4bf2-b65b-540a2868aceb",
   "metadata": {},
   "outputs": [
    {
     "name": "stdout",
     "output_type": "stream",
     "text": [
      "train_ents\n",
      "11718\n",
      "train_conts\n",
      "37681\n",
      "val_m_ents\n",
      "319\n",
      "val_m_conts\n",
      "906\n",
      "val_mm_ents\n",
      "251\n",
      "val_mm_conts\n",
      "1028\n"
     ]
    }
   ],
   "source": [
    "for key, value in all_neg_indices.items():\n",
    "    print(key)\n",
    "    print(len(value))"
   ]
  },
  {
   "cell_type": "markdown",
   "id": "9adac1f3-e962-4203-918c-19c91fc8db11",
   "metadata": {},
   "source": [
    "## Z-Score subsets"
   ]
  },
  {
   "cell_type": "code",
   "execution_count": 4,
   "id": "c6239d6c-def4-4137-b08f-2d2662b02dbf",
   "metadata": {},
   "outputs": [],
   "source": [
    "with open(\"/home/meissner/shortcut-pruning/MNLI_all_data.data\", \"rb\") as _file:\n",
    "    data = pickle.load(_file)"
   ]
  },
  {
   "cell_type": "code",
   "execution_count": 12,
   "id": "b18657e2-d0d4-4013-b36c-ab4c78055ef0",
   "metadata": {},
   "outputs": [],
   "source": [
    "cont_words = np.array(data[\"contradiction\"][\"tokens\"])\n",
    "ent_words = np.array(data[\"entailment\"][\"tokens\"])\n",
    "cont_zs = np.array(data[\"contradiction\"][\"z\"])\n",
    "ent_zs = np.array(data[\"entailment\"][\"z\"])"
   ]
  },
  {
   "cell_type": "code",
   "execution_count": 46,
   "id": "37fb101c-5e33-4025-83a0-eb1431369f60",
   "metadata": {
    "tags": []
   },
   "outputs": [
    {
     "name": "stdout",
     "output_type": "stream",
     "text": [
      "tokens 83147\n",
      "total_counts 83147\n",
      "z 83147\n",
      "label_count 83147\n",
      "p_hat 83147\n"
     ]
    }
   ],
   "source": [
    "for key, value in data['contradiction'].items():\n",
    "    print(key, len(value))"
   ]
  },
  {
   "cell_type": "code",
   "execution_count": 13,
   "id": "916446e5-b85c-457e-bece-2589da377388",
   "metadata": {},
   "outputs": [],
   "source": [
    "cont_sort_idx = np.argsort(cont_zs)[::-1]\n",
    "ent_sort_idx = np.argsort(ent_zs)[::-1]"
   ]
  },
  {
   "cell_type": "code",
   "execution_count": 47,
   "id": "8ce3356c-4a64-46ae-9e10-750e48a749ec",
   "metadata": {},
   "outputs": [],
   "source": [
    "cont_total_counts = np.array(data['contradiction']['total_counts'])\n",
    "cont_label_counts = np.array(data['contradiction']['label_count'])\n",
    "cont_p_hats = np.array(data['contradiction']['p_hat'])"
   ]
  },
  {
   "cell_type": "code",
   "execution_count": 48,
   "id": "a58e9f86-df45-4104-b924-e03ddbdfa6d7",
   "metadata": {},
   "outputs": [
    {
     "data": {
      "text/plain": [
       "(array([30948, 13209, 15643, 64200,  4884,  6381, 35115,  1799,  7990,\n",
       "        17898]),\n",
       " array([17310,  8215,  8065, 27115,  2797,  3254, 14007,  1058,  3546,\n",
       "         7275]),\n",
       " array([0.55932532, 0.62192445, 0.51556607, 0.42235202, 0.57268632,\n",
       "        0.50995142, 0.39888936, 0.5881045 , 0.44380476, 0.40647   ]))"
      ]
     },
     "execution_count": 48,
     "metadata": {},
     "output_type": "execute_result"
    }
   ],
   "source": [
    "cont_total_counts[cont_sort_idx][:10], cont_label_counts[cont_sort_idx][:10], cont_p_hats[cont_sort_idx][:10]"
   ]
  },
  {
   "cell_type": "code",
   "execution_count": 14,
   "id": "b6e602f5-b44f-4c2d-bfdc-9a9154ec748b",
   "metadata": {},
   "outputs": [
    {
     "data": {
      "text/plain": [
       "array(['no', 'never', 'any', 'not', 'nothing', 'anything', 'all',\n",
       "       'completely', 'does', 'only', 'none', 'refused', 'nobody', 'dont',\n",
       "       'doesnt', 'hate', 'anyone', 'didnt', 'cannot', 'did', 'definitely',\n",
       "       'stayed', 'boring', 'ever', 'always', 'remained', 'terrible',\n",
       "       'silent', 'ignored', 'perfectly'], dtype='<U60')"
      ]
     },
     "execution_count": 14,
     "metadata": {},
     "output_type": "execute_result"
    }
   ],
   "source": [
    "# Top cont words\n",
    "cont_words[cont_sort_idx][:30]"
   ]
  },
  {
   "cell_type": "code",
   "execution_count": 49,
   "id": "c9a9c513-ddaf-4cc7-bbe7-fc76a55121d9",
   "metadata": {},
   "outputs": [
    {
     "data": {
      "text/plain": [
       "(array([5466]),)"
      ]
     },
     "execution_count": 49,
     "metadata": {},
     "output_type": "execute_result"
    }
   ],
   "source": [
    "np.where(cont_words[cont_sort_idx] == \"sleeping\")"
   ]
  },
  {
   "cell_type": "code",
   "execution_count": 15,
   "id": "389431c8-2f8b-4e4b-8944-f7bf53c5e482",
   "metadata": {},
   "outputs": [
    {
     "data": {
      "text/plain": [
       "array(['a', 'some', 'can', 'by', 'that', 'something', 'of', 'an', 'yes',\n",
       "       'may', 'aware', 'according', 'sometimes', 'both', 'might',\n",
       "       'called', 'asked', 'located', 'you', 'if', 'someone', 'be',\n",
       "       'different', 'two', 'multiple', 'certain', 'similar', 'various',\n",
       "       'there', 'goodbye'], dtype='<U60')"
      ]
     },
     "execution_count": 15,
     "metadata": {},
     "output_type": "execute_result"
    }
   ],
   "source": [
    "ent_words[ent_sort_idx][:30]"
   ]
  },
  {
   "cell_type": "code",
   "execution_count": 30,
   "id": "571c29a2-4c0d-46d8-bdee-bed5a2327f1d",
   "metadata": {},
   "outputs": [
    {
     "data": {
      "text/plain": [
       "81941"
      ]
     },
     "execution_count": 30,
     "metadata": {},
     "output_type": "execute_result"
    }
   ],
   "source": [
    "len(ent_words)"
   ]
  },
  {
   "cell_type": "code",
   "execution_count": 16,
   "id": "fe677388-b538-4fbf-b325-a8365a48d1fe",
   "metadata": {},
   "outputs": [],
   "source": [
    "remove_punct = \"!.()[]{};:\\,?\\'\\\"\""
   ]
  },
  {
   "cell_type": "code",
   "execution_count": 107,
   "id": "2ca80f61-880c-4e20-94ef-17f3db596a91",
   "metadata": {},
   "outputs": [],
   "source": [
    "def get_set(sample):\n",
    "    full_input = \" \".join([sample[\"premise\"], sample[\"hypothesis\"]]).lower().strip()\n",
    "    for punct in remove_punct:\n",
    "        full_input = full_input.replace(punct, \"\")\n",
    "    input_set = set(full_input.split(\" \"))\n",
    "    return input_set"
   ]
  },
  {
   "cell_type": "code",
   "execution_count": 108,
   "id": "9c9b73cc-4e49-4544-9193-baab209a42cd",
   "metadata": {},
   "outputs": [],
   "source": [
    "val_sample_sets = [get_set(sample) for sample in mnli['validation_matched']]"
   ]
  },
  {
   "cell_type": "code",
   "execution_count": 109,
   "id": "7a3967d1-7e94-4ecc-9bcb-92ea1c93fd55",
   "metadata": {},
   "outputs": [],
   "source": [
    "labels = np.array(mnli['validation_matched']['label'])"
   ]
  },
  {
   "cell_type": "code",
   "execution_count": 110,
   "id": "4546a8db-3202-4df1-b184-c654918adb3f",
   "metadata": {},
   "outputs": [],
   "source": [
    "def get_samples_with_word(word):\n",
    "    cont_indices = []\n",
    "    ent_indices = []\n",
    "    for idx, (sett, label) in enumerate(zip(val_sample_sets, labels)):\n",
    "        if word in sett:\n",
    "            if label == 0:\n",
    "                ent_indices.append(idx)\n",
    "            elif label == 2:\n",
    "                cont_indices.append(idx)\n",
    "    return cont_indices, ent_indices"
   ]
  },
  {
   "cell_type": "code",
   "execution_count": 111,
   "id": "2b7b100d-0893-46e7-ad4f-ee347631066b",
   "metadata": {},
   "outputs": [
    {
     "name": "stderr",
     "output_type": "stream",
     "text": [
      "100%|██████████████████████████████████████████████████████████████████████████████████████| 200/200 [00:00<00:00, 451.70it/s]\n"
     ]
    },
    {
     "data": {
      "text/plain": [
       "'Skipped 116 of 200 words.'"
      ]
     },
     "execution_count": 111,
     "metadata": {},
     "output_type": "execute_result"
    }
   ],
   "source": [
    "cont_bias_indices, cont_antibias_indices = [], []\n",
    "total_count, skip_count = 0, 0\n",
    "for word in tqdm(cont_words[cont_sort_idx][:200]):\n",
    "    total_count += 1\n",
    "    cont_indices, ent_indices = get_samples_with_word(word)\n",
    "    if len(cont_indices) < 5 or len(ent_indices) < 5:\n",
    "        skip_count += 1\n",
    "    else:\n",
    "        cont_bias_indices.extend(cont_indices)\n",
    "        cont_antibias_indices.extend(ent_indices)\n",
    "f\"Skipped {skip_count} of {total_count} words.\""
   ]
  },
  {
   "cell_type": "code",
   "execution_count": 112,
   "id": "4540e380-dd39-442b-a081-eac2b0fa88c9",
   "metadata": {},
   "outputs": [],
   "source": [
    "cont_bias_indices, cont_antibias_indices = set(cont_bias_indices), set(cont_antibias_indices)"
   ]
  },
  {
   "cell_type": "code",
   "execution_count": 113,
   "id": "3b6328ba-117c-49b7-88c0-3f3d14369763",
   "metadata": {},
   "outputs": [
    {
     "data": {
      "text/plain": [
       "(2405, 1885)"
      ]
     },
     "execution_count": 113,
     "metadata": {},
     "output_type": "execute_result"
    }
   ],
   "source": [
    "len(cont_bias_indices), len(cont_antibias_indices)"
   ]
  },
  {
   "cell_type": "code",
   "execution_count": 114,
   "id": "f26fd786-e201-47d0-8f36-b1a9953dc996",
   "metadata": {},
   "outputs": [
    {
     "data": {
      "text/plain": [
       "0"
      ]
     },
     "execution_count": 114,
     "metadata": {},
     "output_type": "execute_result"
    }
   ],
   "source": [
    "intersection = cont_bias_indices.intersection(cont_antibias_indices)\n",
    "len(intersection)"
   ]
  },
  {
   "cell_type": "code",
   "execution_count": 124,
   "id": "f8c3c496-7df0-4aa4-a637-1de6ad7f047b",
   "metadata": {},
   "outputs": [
    {
     "name": "stderr",
     "output_type": "stream",
     "text": [
      "100%|██████████████████████████████████████████████████████████████████████████████████████| 200/200 [00:00<00:00, 422.39it/s]\n"
     ]
    },
    {
     "data": {
      "text/plain": [
       "'Skipped 56 of 200 words.'"
      ]
     },
     "execution_count": 124,
     "metadata": {},
     "output_type": "execute_result"
    }
   ],
   "source": [
    "ent_bias_indices, ent_antibias_indices = [], []\n",
    "total_count, skip_count = 0, 0\n",
    "for word in tqdm(ent_words[ent_sort_idx][:200]):\n",
    "    total_count += 1\n",
    "    cont_indices, ent_indices = get_samples_with_word(word)\n",
    "    if len(ent_indices) < 1 or len(cont_indices) < 1:\n",
    "        skip_count += 1\n",
    "    else:\n",
    "        ent_bias_indices.extend(ent_indices)\n",
    "        ent_antibias_indices.extend(cont_indices)\n",
    "f\"Skipped {skip_count} of {total_count} words.\""
   ]
  },
  {
   "cell_type": "code",
   "execution_count": 125,
   "id": "930bec63-bd36-4449-b6b1-62f69b90da9a",
   "metadata": {},
   "outputs": [],
   "source": [
    "ent_bias_indices, ent_antibias_indices = set(ent_bias_indices), set(ent_antibias_indices)"
   ]
  },
  {
   "cell_type": "code",
   "execution_count": 126,
   "id": "6bfe3b7a-ead3-413b-8c67-8f278b05bd98",
   "metadata": {},
   "outputs": [
    {
     "data": {
      "text/plain": [
       "(3235, 2981)"
      ]
     },
     "execution_count": 126,
     "metadata": {},
     "output_type": "execute_result"
    }
   ],
   "source": [
    "len(ent_bias_indices), len(ent_antibias_indices)"
   ]
  },
  {
   "cell_type": "code",
   "execution_count": 127,
   "id": "aec5d02d-4430-4205-8e88-43aa180913d8",
   "metadata": {},
   "outputs": [
    {
     "data": {
      "text/plain": [
       "0"
      ]
     },
     "execution_count": 127,
     "metadata": {},
     "output_type": "execute_result"
    }
   ],
   "source": [
    "intersection = ent_bias_indices.intersection(ent_antibias_indices)\n",
    "len(intersection)"
   ]
  },
  {
   "cell_type": "code",
   "execution_count": 128,
   "id": "275ca57f-1152-4b88-9ce6-a31a0eb4a1c8",
   "metadata": {},
   "outputs": [],
   "source": [
    "all_indices = {\n",
    "    \"cont_bias_indices\" : list(cont_bias_indices), \n",
    "    \"cont_antibias_indices\" : list(cont_antibias_indices), \n",
    "    \"ent_bias_indices\" : list(ent_bias_indices), \n",
    "    \"ent_antibias_indices\" : list(ent_antibias_indices),\n",
    "}\n",
    "with open(\"/home/meissner/shortcut-pruning/data/subsets/mnli_z_statistic_indices.json\", \"w\") as _file:\n",
    "    _file.write(json.dumps(all_indices))"
   ]
  },
  {
   "cell_type": "markdown",
   "id": "d3241d21-6d4f-4682-a96e-5283ab3fe439",
   "metadata": {},
   "source": [
    "## Get lexically similar words"
   ]
  },
  {
   "cell_type": "code",
   "execution_count": 7,
   "id": "f435b8fb-3f05-43e3-a1d8-99832c21cb6e",
   "metadata": {},
   "outputs": [],
   "source": [
    "import nltk\n",
    "import string\n",
    "from nltk.tokenize import word_tokenize"
   ]
  },
  {
   "cell_type": "code",
   "execution_count": 8,
   "id": "cd14a39b-349d-44c8-a169-23da97b4d2ba",
   "metadata": {},
   "outputs": [
    {
     "name": "stderr",
     "output_type": "stream",
     "text": [
      "[nltk_data] Downloading package punkt to /home/meissner/nltk_data...\n",
      "[nltk_data]   Package punkt is already up-to-date!\n"
     ]
    },
    {
     "data": {
      "text/plain": [
       "True"
      ]
     },
     "execution_count": 8,
     "metadata": {},
     "output_type": "execute_result"
    }
   ],
   "source": [
    "nltk.download('punkt')"
   ]
  },
  {
   "cell_type": "code",
   "execution_count": 9,
   "id": "97c9496f-0f7b-40d3-8afd-5d33b37a68e9",
   "metadata": {},
   "outputs": [
    {
     "name": "stdout",
     "output_type": "stream",
     "text": [
      "{'#', '^', '|', '@', '+', '~', ')', ']', '%', '?', '<', '_', '$', ',', '/', ';', '`', '&', '.', ':', '}', '[', '*', \"'\", '!', '{', '=', '-', '\\\\', '>', '\"', '('}\n"
     ]
    }
   ],
   "source": [
    "puncts = set(string.punctuation)\n",
    "print(puncts)"
   ]
  },
  {
   "cell_type": "code",
   "execution_count": 10,
   "id": "cb05103a-b567-499d-94da-0adb7b085fbf",
   "metadata": {},
   "outputs": [],
   "source": [
    "def jaccard_similarity(set1, set2):\n",
    "    return float(len(set1.intersection(set2)) / len(set1.union(set2)))"
   ]
  },
  {
   "cell_type": "code",
   "execution_count": 11,
   "id": "21527867-630d-4201-a414-5a7309c606fe",
   "metadata": {},
   "outputs": [
    {
     "data": {
      "text/plain": [
       "['Leading',\n",
       " 'organizations',\n",
       " 'want',\n",
       " 'to',\n",
       " 'be',\n",
       " 'sure',\n",
       " 'their',\n",
       " 'employees',\n",
       " 'are',\n",
       " 'safe',\n",
       " '.']"
      ]
     },
     "execution_count": 11,
     "metadata": {},
     "output_type": "execute_result"
    }
   ],
   "source": [
    "word_tokenize(mnli['validation_matched'][23]['hypothesis'])"
   ]
  },
  {
   "cell_type": "code",
   "execution_count": 12,
   "id": "3cd7f72d-9b67-4043-af1d-b30bc31e3199",
   "metadata": {},
   "outputs": [
    {
     "ename": "KeyboardInterrupt",
     "evalue": "",
     "output_type": "error",
     "traceback": [
      "\u001b[0;31m---------------------------------------------------------------------------\u001b[0m",
      "\u001b[0;31mKeyboardInterrupt\u001b[0m                         Traceback (most recent call last)",
      "\u001b[0;32m/tmp/ipykernel_30413/3149020284.py\u001b[0m in \u001b[0;36m<module>\u001b[0;34m\u001b[0m\n\u001b[1;32m      1\u001b[0m \u001b[0mjaccards\u001b[0m \u001b[0;34m=\u001b[0m \u001b[0;34m[\u001b[0m\u001b[0;34m]\u001b[0m\u001b[0;34m\u001b[0m\u001b[0;34m\u001b[0m\u001b[0m\n\u001b[1;32m      2\u001b[0m \u001b[0;32mfor\u001b[0m \u001b[0msample\u001b[0m \u001b[0;32min\u001b[0m \u001b[0mmnli\u001b[0m\u001b[0;34m[\u001b[0m\u001b[0;34m'train'\u001b[0m\u001b[0;34m]\u001b[0m\u001b[0;34m:\u001b[0m\u001b[0;34m\u001b[0m\u001b[0;34m\u001b[0m\u001b[0m\n\u001b[0;32m----> 3\u001b[0;31m     \u001b[0mhyposet\u001b[0m \u001b[0;34m=\u001b[0m \u001b[0mset\u001b[0m\u001b[0;34m(\u001b[0m\u001b[0mword_tokenize\u001b[0m\u001b[0;34m(\u001b[0m\u001b[0msample\u001b[0m\u001b[0;34m[\u001b[0m\u001b[0;34m'hypothesis'\u001b[0m\u001b[0;34m]\u001b[0m\u001b[0;34m.\u001b[0m\u001b[0mlower\u001b[0m\u001b[0;34m(\u001b[0m\u001b[0;34m)\u001b[0m\u001b[0;34m)\u001b[0m\u001b[0;34m)\u001b[0m \u001b[0;34m-\u001b[0m \u001b[0mpuncts\u001b[0m\u001b[0;34m\u001b[0m\u001b[0;34m\u001b[0m\u001b[0m\n\u001b[0m\u001b[1;32m      4\u001b[0m     \u001b[0mpremset\u001b[0m \u001b[0;34m=\u001b[0m \u001b[0mset\u001b[0m\u001b[0;34m(\u001b[0m\u001b[0mword_tokenize\u001b[0m\u001b[0;34m(\u001b[0m\u001b[0msample\u001b[0m\u001b[0;34m[\u001b[0m\u001b[0;34m'premise'\u001b[0m\u001b[0;34m]\u001b[0m\u001b[0;34m.\u001b[0m\u001b[0mlower\u001b[0m\u001b[0;34m(\u001b[0m\u001b[0;34m)\u001b[0m\u001b[0;34m)\u001b[0m\u001b[0;34m)\u001b[0m \u001b[0;34m-\u001b[0m \u001b[0mpuncts\u001b[0m\u001b[0;34m\u001b[0m\u001b[0;34m\u001b[0m\u001b[0m\n\u001b[1;32m      5\u001b[0m     \u001b[0mjaccards\u001b[0m\u001b[0;34m.\u001b[0m\u001b[0mappend\u001b[0m\u001b[0;34m(\u001b[0m\u001b[0mjaccard_similarity\u001b[0m\u001b[0;34m(\u001b[0m\u001b[0mhyposet\u001b[0m\u001b[0;34m,\u001b[0m \u001b[0mpremset\u001b[0m\u001b[0;34m)\u001b[0m\u001b[0;34m)\u001b[0m\u001b[0;34m\u001b[0m\u001b[0;34m\u001b[0m\u001b[0m\n",
      "\u001b[0;32m~/miniconda3/envs/lightning/lib/python3.8/site-packages/nltk/tokenize/__init__.py\u001b[0m in \u001b[0;36mword_tokenize\u001b[0;34m(text, language, preserve_line)\u001b[0m\n\u001b[1;32m    128\u001b[0m     \"\"\"\n\u001b[1;32m    129\u001b[0m     \u001b[0msentences\u001b[0m \u001b[0;34m=\u001b[0m \u001b[0;34m[\u001b[0m\u001b[0mtext\u001b[0m\u001b[0;34m]\u001b[0m \u001b[0;32mif\u001b[0m \u001b[0mpreserve_line\u001b[0m \u001b[0;32melse\u001b[0m \u001b[0msent_tokenize\u001b[0m\u001b[0;34m(\u001b[0m\u001b[0mtext\u001b[0m\u001b[0;34m,\u001b[0m \u001b[0mlanguage\u001b[0m\u001b[0;34m)\u001b[0m\u001b[0;34m\u001b[0m\u001b[0;34m\u001b[0m\u001b[0m\n\u001b[0;32m--> 130\u001b[0;31m     return [\n\u001b[0m\u001b[1;32m    131\u001b[0m         \u001b[0mtoken\u001b[0m \u001b[0;32mfor\u001b[0m \u001b[0msent\u001b[0m \u001b[0;32min\u001b[0m \u001b[0msentences\u001b[0m \u001b[0;32mfor\u001b[0m \u001b[0mtoken\u001b[0m \u001b[0;32min\u001b[0m \u001b[0m_treebank_word_tokenizer\u001b[0m\u001b[0;34m.\u001b[0m\u001b[0mtokenize\u001b[0m\u001b[0;34m(\u001b[0m\u001b[0msent\u001b[0m\u001b[0;34m)\u001b[0m\u001b[0;34m\u001b[0m\u001b[0;34m\u001b[0m\u001b[0m\n\u001b[1;32m    132\u001b[0m     ]\n",
      "\u001b[0;32m~/miniconda3/envs/lightning/lib/python3.8/site-packages/nltk/tokenize/__init__.py\u001b[0m in \u001b[0;36m<listcomp>\u001b[0;34m(.0)\u001b[0m\n\u001b[1;32m    129\u001b[0m     \u001b[0msentences\u001b[0m \u001b[0;34m=\u001b[0m \u001b[0;34m[\u001b[0m\u001b[0mtext\u001b[0m\u001b[0;34m]\u001b[0m \u001b[0;32mif\u001b[0m \u001b[0mpreserve_line\u001b[0m \u001b[0;32melse\u001b[0m \u001b[0msent_tokenize\u001b[0m\u001b[0;34m(\u001b[0m\u001b[0mtext\u001b[0m\u001b[0;34m,\u001b[0m \u001b[0mlanguage\u001b[0m\u001b[0;34m)\u001b[0m\u001b[0;34m\u001b[0m\u001b[0;34m\u001b[0m\u001b[0m\n\u001b[1;32m    130\u001b[0m     return [\n\u001b[0;32m--> 131\u001b[0;31m         \u001b[0mtoken\u001b[0m \u001b[0;32mfor\u001b[0m \u001b[0msent\u001b[0m \u001b[0;32min\u001b[0m \u001b[0msentences\u001b[0m \u001b[0;32mfor\u001b[0m \u001b[0mtoken\u001b[0m \u001b[0;32min\u001b[0m \u001b[0m_treebank_word_tokenizer\u001b[0m\u001b[0;34m.\u001b[0m\u001b[0mtokenize\u001b[0m\u001b[0;34m(\u001b[0m\u001b[0msent\u001b[0m\u001b[0;34m)\u001b[0m\u001b[0;34m\u001b[0m\u001b[0;34m\u001b[0m\u001b[0m\n\u001b[0m\u001b[1;32m    132\u001b[0m     ]\n",
      "\u001b[0;32m~/miniconda3/envs/lightning/lib/python3.8/site-packages/nltk/tokenize/destructive.py\u001b[0m in \u001b[0;36mtokenize\u001b[0;34m(self, text, convert_parentheses, return_str)\u001b[0m\n\u001b[1;32m    137\u001b[0m \u001b[0;34m\u001b[0m\u001b[0m\n\u001b[1;32m    138\u001b[0m         \u001b[0;32mfor\u001b[0m \u001b[0mregexp\u001b[0m \u001b[0;32min\u001b[0m \u001b[0mself\u001b[0m\u001b[0;34m.\u001b[0m\u001b[0mCONTRACTIONS2\u001b[0m\u001b[0;34m:\u001b[0m\u001b[0;34m\u001b[0m\u001b[0;34m\u001b[0m\u001b[0m\n\u001b[0;32m--> 139\u001b[0;31m             \u001b[0mtext\u001b[0m \u001b[0;34m=\u001b[0m \u001b[0mregexp\u001b[0m\u001b[0;34m.\u001b[0m\u001b[0msub\u001b[0m\u001b[0;34m(\u001b[0m\u001b[0;34mr\" \\1 \\2 \"\u001b[0m\u001b[0;34m,\u001b[0m \u001b[0mtext\u001b[0m\u001b[0;34m)\u001b[0m\u001b[0;34m\u001b[0m\u001b[0;34m\u001b[0m\u001b[0m\n\u001b[0m\u001b[1;32m    140\u001b[0m         \u001b[0;32mfor\u001b[0m \u001b[0mregexp\u001b[0m \u001b[0;32min\u001b[0m \u001b[0mself\u001b[0m\u001b[0;34m.\u001b[0m\u001b[0mCONTRACTIONS3\u001b[0m\u001b[0;34m:\u001b[0m\u001b[0;34m\u001b[0m\u001b[0;34m\u001b[0m\u001b[0m\n\u001b[1;32m    141\u001b[0m             \u001b[0mtext\u001b[0m \u001b[0;34m=\u001b[0m \u001b[0mregexp\u001b[0m\u001b[0;34m.\u001b[0m\u001b[0msub\u001b[0m\u001b[0;34m(\u001b[0m\u001b[0;34mr\" \\1 \\2 \"\u001b[0m\u001b[0;34m,\u001b[0m \u001b[0mtext\u001b[0m\u001b[0;34m)\u001b[0m\u001b[0;34m\u001b[0m\u001b[0;34m\u001b[0m\u001b[0m\n",
      "\u001b[0;32m~/miniconda3/envs/lightning/lib/python3.8/re.py\u001b[0m in \u001b[0;36m_subx\u001b[0;34m(pattern, template)\u001b[0m\n\u001b[1;32m    323\u001b[0m     \u001b[0;32mreturn\u001b[0m \u001b[0msre_parse\u001b[0m\u001b[0;34m.\u001b[0m\u001b[0mexpand_template\u001b[0m\u001b[0;34m(\u001b[0m\u001b[0mtemplate\u001b[0m\u001b[0;34m,\u001b[0m \u001b[0mmatch\u001b[0m\u001b[0;34m)\u001b[0m\u001b[0;34m\u001b[0m\u001b[0;34m\u001b[0m\u001b[0m\n\u001b[1;32m    324\u001b[0m \u001b[0;34m\u001b[0m\u001b[0m\n\u001b[0;32m--> 325\u001b[0;31m \u001b[0;32mdef\u001b[0m \u001b[0m_subx\u001b[0m\u001b[0;34m(\u001b[0m\u001b[0mpattern\u001b[0m\u001b[0;34m,\u001b[0m \u001b[0mtemplate\u001b[0m\u001b[0;34m)\u001b[0m\u001b[0;34m:\u001b[0m\u001b[0;34m\u001b[0m\u001b[0;34m\u001b[0m\u001b[0m\n\u001b[0m\u001b[1;32m    326\u001b[0m     \u001b[0;31m# internal: Pattern.sub/subn implementation helper\u001b[0m\u001b[0;34m\u001b[0m\u001b[0;34m\u001b[0m\u001b[0;34m\u001b[0m\u001b[0m\n\u001b[1;32m    327\u001b[0m     \u001b[0mtemplate\u001b[0m \u001b[0;34m=\u001b[0m \u001b[0m_compile_repl\u001b[0m\u001b[0;34m(\u001b[0m\u001b[0mtemplate\u001b[0m\u001b[0;34m,\u001b[0m \u001b[0mpattern\u001b[0m\u001b[0;34m)\u001b[0m\u001b[0;34m\u001b[0m\u001b[0;34m\u001b[0m\u001b[0m\n",
      "\u001b[0;31mKeyboardInterrupt\u001b[0m: "
     ]
    }
   ],
   "source": [
    "jaccards = []\n",
    "for sample in mnli['train']:\n",
    "    hyposet = set(word_tokenize(sample['hypothesis'].lower())) - puncts\n",
    "    premset = set(word_tokenize(sample['premise'].lower())) - puncts\n",
    "    jaccards.append(jaccard_similarity(hyposet, premset))\n",
    "jaccards = np.array(jaccards)"
   ]
  },
  {
   "cell_type": "code",
   "execution_count": null,
   "id": "6bbb56ea-0c10-4af9-9a56-3e70bb8e9ca9",
   "metadata": {},
   "outputs": [],
   "source": [
    "np.min(jaccards), np.mean(jaccards), np.max(jaccards), np.argmax(jaccards), np.argmin(jaccards)"
   ]
  },
  {
   "cell_type": "code",
   "execution_count": null,
   "id": "297698ae-1205-4f86-9ff8-7df422d24485",
   "metadata": {},
   "outputs": [],
   "source": [
    "from matplotlib import pyplot as plt"
   ]
  },
  {
   "cell_type": "code",
   "execution_count": null,
   "id": "4a54bbbe-71a1-4bb8-bceb-ac09aa9ff5d5",
   "metadata": {},
   "outputs": [],
   "source": [
    "bins = np.linspace(0.0, 1.0, 25)\n",
    "labels = np.array(mnli['train']['label'])\n",
    "ent_jaccards = jaccards[labels == 0]\n",
    "cont_jaccards = jaccards[labels == 2]\n",
    "plt.hist(ent_jaccards, bins, alpha=0.5, label=\"Entailment\")\n",
    "plt.hist(cont_jaccards, bins, alpha=0.5, label=\"Contradiction\")\n",
    "plt.legend()\n",
    "plt.show()"
   ]
  },
  {
   "cell_type": "code",
   "execution_count": 21,
   "id": "02993841-3346-4a13-8018-d06f7d7b1478",
   "metadata": {},
   "outputs": [],
   "source": [
    "top_indices = np.argsort(jaccards)[-4000:]"
   ]
  },
  {
   "cell_type": "code",
   "execution_count": 22,
   "id": "76446bc3-802c-46a3-83a3-d86f0f83c8cf",
   "metadata": {},
   "outputs": [
    {
     "data": {
      "text/plain": [
       "0.7857142857142857"
      ]
     },
     "execution_count": 22,
     "metadata": {},
     "output_type": "execute_result"
    }
   ],
   "source": [
    "jaccards[top_indices[0]] # Cut rate"
   ]
  },
  {
   "cell_type": "code",
   "execution_count": 23,
   "id": "b809ccf8-31d3-4fcf-9f5a-d293c2c343ed",
   "metadata": {},
   "outputs": [
    {
     "data": {
      "text/plain": [
       "0.79475"
      ]
     },
     "execution_count": 23,
     "metadata": {},
     "output_type": "execute_result"
    }
   ],
   "source": [
    "np.mean(labels[top_indices] == 0) # "
   ]
  },
  {
   "cell_type": "code",
   "execution_count": 13,
   "id": "d0a5a1bb-b085-4d8e-9610-a530e74d7b40",
   "metadata": {},
   "outputs": [],
   "source": [
    "def find_high_lex_overlap_idxs(dataset, count_lim=400):\n",
    "    jaccards = []\n",
    "    labels = np.array(dataset['label'])\n",
    "    for sample in dataset:\n",
    "        hyposet = set(word_tokenize(sample['hypothesis'].lower())) - puncts\n",
    "        premset = set(word_tokenize(sample['premise'].lower())) - puncts\n",
    "        jaccards.append(jaccard_similarity(hyposet, premset))\n",
    "    jaccards = np.array(jaccards)\n",
    "    top_indices = np.argsort(jaccards)[-count_lim:]\n",
    "    ent_indices = top_indices[labels[top_indices] == 0]\n",
    "    cont_indices = top_indices[labels[top_indices] == 2]\n",
    "    return ent_indices, cont_indices"
   ]
  },
  {
   "cell_type": "code",
   "execution_count": 14,
   "id": "9c55c564-311b-491a-9603-ff2797ed284b",
   "metadata": {},
   "outputs": [],
   "source": [
    "# train_ents, train_conts = find_high_lex_overlap_idxs(mnli[\"train\"], count_lim=4000)\n",
    "val_m_ents, val_m_conts = find_high_lex_overlap_idxs(mnli[\"validation_matched\"], count_lim=200)\n",
    "val_mm_ents, val_mm_conts = find_high_lex_overlap_idxs(mnli[\"validation_mismatched\"], count_lim=200)"
   ]
  },
  {
   "cell_type": "code",
   "execution_count": 26,
   "id": "5264cc18-d5a5-4b22-a0b4-c075c97f4e89",
   "metadata": {},
   "outputs": [
    {
     "data": {
      "text/plain": [
       "3262"
      ]
     },
     "execution_count": 26,
     "metadata": {},
     "output_type": "execute_result"
    }
   ],
   "source": [
    "val_m_ents[0]"
   ]
  },
  {
   "cell_type": "code",
   "execution_count": 27,
   "id": "d517e8c6-c018-4da8-8c18-6de49cd4422a",
   "metadata": {},
   "outputs": [
    {
     "data": {
      "text/plain": [
       "({'premise': 'Shoot only the ones that face us, Jon had told Adrin.',\n",
       "  'hypothesis': 'Jon instructed Adrin to only shoot the ones that face us.',\n",
       "  'label': 0,\n",
       "  'idx': 3262},\n",
       " {'premise': 'The rain had stopped, but the green glow painted everything around them.',\n",
       "  'hypothesis': 'The red glow painted everything around them after the rain had stopped.',\n",
       "  'label': 2,\n",
       "  'idx': 8901})"
      ]
     },
     "execution_count": 27,
     "metadata": {},
     "output_type": "execute_result"
    }
   ],
   "source": [
    "mnli['validation_matched'][int(val_m_ents[0])], mnli['validation_matched'][int(val_m_conts[0])]"
   ]
  },
  {
   "cell_type": "code",
   "execution_count": 28,
   "id": "1816d35e-c4cd-4b4d-8aae-e5b032ca99c1",
   "metadata": {},
   "outputs": [],
   "source": [
    "all_indices = {\"train_ents\" : list(train_ents), \"train_conts\" : list(train_conts), \"val_m_ents\" : list(val_m_ents), \"val_m_conts\" : list(val_m_conts), \"val_mm_ents\" : list(val_mm_ents), \"val_mm_conts\" : list(val_mm_conts)}"
   ]
  },
  {
   "cell_type": "code",
   "execution_count": 29,
   "id": "5947acdc-5805-4c9d-ba09-43de5a4f6b92",
   "metadata": {},
   "outputs": [
    {
     "name": "stdout",
     "output_type": "stream",
     "text": [
      "train_ents\n",
      "3179\n",
      "train_conts\n",
      "504\n",
      "val_m_ents\n",
      "144\n",
      "val_m_conts\n",
      "36\n",
      "val_mm_ents\n",
      "144\n",
      "val_mm_conts\n",
      "28\n"
     ]
    }
   ],
   "source": [
    "for key, value in all_indices.items():\n",
    "    print(key)\n",
    "    print(len(value))"
   ]
  },
  {
   "cell_type": "code",
   "execution_count": 30,
   "id": "b6bf5b26-e313-4aef-ace3-f17fcb77469b",
   "metadata": {},
   "outputs": [
    {
     "data": {
      "text/plain": [
       "numpy.int64"
      ]
     },
     "execution_count": 30,
     "metadata": {},
     "output_type": "execute_result"
    }
   ],
   "source": [
    "type(all_indices['val_m_ents'][0])"
   ]
  },
  {
   "cell_type": "code",
   "execution_count": 31,
   "id": "97b63487-a845-4823-b8e9-8c6b326b8db5",
   "metadata": {},
   "outputs": [],
   "source": [
    "import numpy\n",
    "import json\n",
    "\n",
    "class MyEncoder(json.JSONEncoder):\n",
    "    def default(self, obj):\n",
    "        if isinstance(obj, numpy.integer):\n",
    "            return int(obj)\n",
    "        elif isinstance(obj, numpy.floating):\n",
    "            return float(obj)\n",
    "        elif isinstance(obj, numpy.ndarray):\n",
    "            return obj.tolist()\n",
    "        else:\n",
    "            return super(MyEncoder, self).default(obj)"
   ]
  },
  {
   "cell_type": "code",
   "execution_count": 32,
   "id": "ba57cf14-de3f-4853-8ffe-dd563d5d6814",
   "metadata": {},
   "outputs": [],
   "source": [
    "with open(\"/home/meissner/shortcut-pruning/data/subsets/mnli_lex_overlap_indices.json\", \"w\") as _file:\n",
    "    _file.write(json.dumps(all_indices, cls=MyEncoder))"
   ]
  },
  {
   "cell_type": "markdown",
   "id": "ee5d498c-4348-4748-9f27-f9bc3ea8e63f",
   "metadata": {},
   "source": [
    "## Negation without lexical overlap"
   ]
  },
  {
   "cell_type": "code",
   "execution_count": 39,
   "id": "730c8365-2704-46c6-b58b-3c51deb052b3",
   "metadata": {},
   "outputs": [],
   "source": [
    "val_negs = all_neg_indices[\"val_m_ents\"]"
   ]
  },
  {
   "cell_type": "code",
   "execution_count": 40,
   "id": "2fffb379-0071-4df3-a747-4cb3535ee18c",
   "metadata": {},
   "outputs": [],
   "source": [
    "val_neg_ent_samples = mnli['validation_matched'].select(val_negs)"
   ]
  },
  {
   "cell_type": "code",
   "execution_count": 41,
   "id": "35f68a83-e7ee-409a-b7f7-04fb4bdb2c6c",
   "metadata": {},
   "outputs": [],
   "source": [
    "top_ent_arr, top_cont_arr = find_high_lex_overlap_idxs(val_neg_ent_samples, count_lim=0)"
   ]
  },
  {
   "cell_type": "code",
   "execution_count": 31,
   "id": "5e6ab227-3b9f-4b1e-aed2-fbaf68c68899",
   "metadata": {
    "collapsed": true,
    "jupyter": {
     "outputs_hidden": true
    },
    "tags": []
   },
   "outputs": [
    {
     "data": {
      "text/plain": [
       "array([284,  87, 186, 150, 471, 466, 595, 553, 274, 318,   3,   1, 567,\n",
       "       465, 242, 425, 478, 299, 387, 126, 199, 217, 569, 128, 346, 434,\n",
       "       428, 545, 506, 502, 234, 246, 268, 243, 447, 120, 556,  63, 517,\n",
       "       539, 152, 170, 207, 280, 245, 116, 522, 562, 123, 139, 205, 203,\n",
       "       481, 554, 140, 297, 563, 163, 173, 209, 108, 578, 180, 586, 229,\n",
       "       571,  17, 546, 550, 508, 467, 371, 518, 175, 459, 415,  45, 135,\n",
       "       394, 104, 480, 392,  97, 399, 412, 460, 379, 505,  67, 233, 343,\n",
       "       498, 538, 141,  53, 212, 112,  41, 368, 252, 166, 362, 125, 489,\n",
       "       106, 319, 367, 220, 321, 192, 335,  92, 581, 464, 155, 390, 598,\n",
       "       285, 499, 194, 329, 105, 408, 317,  78, 584, 146, 406, 475, 528,\n",
       "       336, 202, 369, 386, 440, 495,  66, 544, 560, 168,  39, 215, 491,\n",
       "       119, 383, 332, 345, 354, 124, 353, 342, 366, 527, 130,  19, 298,\n",
       "       521,  76, 174, 444, 303, 251,  70,  14, 576, 441,  20,  81,  30,\n",
       "       237, 497, 501, 289, 219, 402, 277, 424,  62, 312, 283, 484, 450,\n",
       "        96,   2, 250, 263, 417, 453, 149, 504, 165,  83,  58, 158, 575,\n",
       "       591, 271, 461,  74, 585, 426, 257, 111, 282,  46, 281, 197, 577,\n",
       "       169, 463, 442, 286, 157, 118, 258, 351, 200, 261,  82, 487, 132,\n",
       "       445, 122, 564, 418, 276, 227,  37, 384, 296, 470,  52, 208, 293,\n",
       "       172, 573, 403,  15, 117, 327,  34, 349, 260, 262, 435,  27, 446,\n",
       "       131, 574, 407, 228, 269, 496, 143,  98,  85,  99, 596, 292, 422,\n",
       "         8,  64, 543, 232,  55, 350, 548, 113, 421,  68, 240, 291, 473,\n",
       "       566,  86, 187, 177, 443, 433, 457, 136, 307,   4, 361, 302,  36,\n",
       "       311, 107, 359, 198,  95, 301, 397, 159, 509, 432, 309, 201, 164,\n",
       "       328,   0, 190, 533,   5, 552, 154,  65, 254, 503, 557, 249,  23,\n",
       "       411, 138, 400,  32, 222, 537,  91, 536, 377, 287,  10,  33, 376,\n",
       "       129, 241, 587, 153,  75, 515, 414,  60,  48,  12,  84, 468, 398,\n",
       "       114, 230,  38,  73, 356, 364, 375, 438, 223, 344, 144, 360, 265,\n",
       "         9, 305,  13, 594, 427, 259, 255, 458, 239, 423, 437,  56, 479,\n",
       "       507, 393, 127, 395, 551,  42, 191, 531, 304, 231,  71, 510, 601,\n",
       "       454, 456, 469, 137,  44, 582, 561, 316, 513,  79, 235,  47,   7,\n",
       "       270, 100, 490,  93, 580, 429, 413,  69, 322, 171, 592, 436,  54,\n",
       "        89, 593, 264, 102, 462, 523, 493, 511, 290, 483,  25, 148, 485,\n",
       "       314, 176, 218, 382, 236, 266, 449, 589, 565, 597,  21, 216,  61,\n",
       "       324,  88, 325,  80, 133, 358, 391,  57, 279, 472, 331, 278, 500,\n",
       "       288, 492, 338,  35, 142, 323,  28, 183, 572, 145, 181, 339,  40,\n",
       "       535, 372, 477, 416, 334,  49, 430, 337, 599, 514, 189, 488, 431,\n",
       "       167, 253, 151, 221,  43, 579, 193, 308, 330, 519, 320, 103, 405,\n",
       "       549,  90, 256, 294, 525,  72, 381, 540, 583, 333, 244, 534, 541,\n",
       "       378, 196, 588, 121, 161, 448, 315,  11, 341,  29, 295, 482, 178,\n",
       "       396, 101,  22, 306, 214, 326,  24, 348, 532,  59, 380, 494,  16,\n",
       "       363, 352, 365, 300, 110, 267, 210, 590, 224, 162, 272, 109, 385,\n",
       "       570, 226, 559, 204,  50, 313, 370,  31, 419, 340,  77, 310, 524,\n",
       "       409, 600, 355, 238, 347, 451,  51, 184, 455, 179, 420, 275, 476,\n",
       "       213, 558, 526,  94, 374, 404, 516, 115, 211, 156, 188, 547, 147,\n",
       "       373, 182, 512, 357, 410, 195,   6, 388, 401, 520, 439, 206, 225,\n",
       "       273, 530, 486, 452, 185, 568, 474,  18, 542, 555, 134, 248, 160,\n",
       "       389, 247,  26, 529])"
      ]
     },
     "execution_count": 31,
     "metadata": {},
     "output_type": "execute_result"
    }
   ],
   "source": [
    "top_ent_arr"
   ]
  },
  {
   "cell_type": "code",
   "execution_count": 42,
   "id": "7bf3e34c-28ae-4c09-b16f-d9f1b61c72ed",
   "metadata": {},
   "outputs": [
    {
     "data": {
      "text/plain": [
       "(319, 319, 0)"
      ]
     },
     "execution_count": 42,
     "metadata": {},
     "output_type": "execute_result"
    }
   ],
   "source": [
    "len(val_negs), len(top_ent_arr), len(top_cont_arr)"
   ]
  },
  {
   "cell_type": "code",
   "execution_count": 43,
   "id": "52412c68-b1df-4402-aaab-a6fbec2192a8",
   "metadata": {},
   "outputs": [
    {
     "data": {
      "text/plain": [
       "4052"
      ]
     },
     "execution_count": 43,
     "metadata": {},
     "output_type": "execute_result"
    }
   ],
   "source": [
    "val_negs[top_ent_arr[-1]]"
   ]
  },
  {
   "cell_type": "code",
   "execution_count": 48,
   "id": "5a67a183-4023-45f5-b55b-7b2d8796cd05",
   "metadata": {},
   "outputs": [
    {
     "name": "stdout",
     "output_type": "stream",
     "text": [
      "{'premise': 'In short, most of the whale is incompressible.', 'hypothesis': 'Whales cannot be compressed well.', 'label': 0, 'idx': 1445}\n",
      "{'premise': \"Several of its beaches are officially designated for nudism (known locally as naturisme) the most popular being Pointe Tarare and a functionary who is a Chevalier de la L??gion d'Honneur has been appointed to supervise all aspects of sunning in the buff.\", 'hypothesis': 'They do not mind having nude people.', 'label': 0, 'idx': 2517}\n",
      "{'premise': 'Normally, these discussions are kept secret.', 'hypothesis': 'In usual circumstances, what is said is not to be shared..', 'label': 0, 'idx': 7252}\n",
      "{'premise': 'Others watched them with cold eyes and expressionless faces.', 'hypothesis': 'Some people who were not emotive were watching.', 'label': 0, 'idx': 4671}\n",
      "{'premise': 'Even though national saving remains relatively low by U.S. historical standards, economic growth in recent years has been high because more and better investments were made.', 'hypothesis': 'Americans are not saving much.', 'label': 0, 'idx': 8887}\n"
     ]
    }
   ],
   "source": [
    "for i in top_ent_arr[:5]:\n",
    "    print(mnli['validation_matched'][val_negs[i]])"
   ]
  },
  {
   "cell_type": "code",
   "execution_count": 44,
   "id": "29a1113d-7eef-43c3-88e2-edd5d363ecce",
   "metadata": {},
   "outputs": [
    {
     "data": {
      "text/plain": [
       "{'premise': 'Part of the reason for the difference in pieces per possible delivery may be due to the fact that five percent of possible residential deliveries are businesses, and it is thought, but not known, that a lesser percentage of possible deliveries on rural routes are businesses.',\n",
       " 'hypothesis': 'It is thought, but not known, that a lesser percentage of possible deliveries on rural routes are businesses, and part of the reason for the difference in pieces per possible delivery, may be due to the fact that five percent of possible residential deliveries are businesses.',\n",
       " 'label': 0,\n",
       " 'idx': 4052}"
      ]
     },
     "execution_count": 44,
     "metadata": {},
     "output_type": "execute_result"
    }
   ],
   "source": [
    "mnli['validation_matched'][4052]"
   ]
  },
  {
   "cell_type": "code",
   "execution_count": 53,
   "id": "12ba9c8c-9166-448c-a53d-e219b946e4dd",
   "metadata": {},
   "outputs": [
    {
     "data": {
      "text/plain": [
       "int"
      ]
     },
     "execution_count": 53,
     "metadata": {},
     "output_type": "execute_result"
    }
   ],
   "source": [
    "type(val_negs[0])"
   ]
  },
  {
   "cell_type": "code",
   "execution_count": 54,
   "id": "3431279d-c0d5-4ff0-9e27-d84d9fd28e6d",
   "metadata": {},
   "outputs": [],
   "source": [
    "neg_ent_new_indices = [val_negs[i] for i in top_ent_arr[:50]] "
   ]
  },
  {
   "cell_type": "code",
   "execution_count": 55,
   "id": "2393b6f7-89d2-4d4e-90a8-cb8645828fe3",
   "metadata": {},
   "outputs": [],
   "source": [
    "with open(\"/home/meissner/shortcut-pruning/data/subsets/mnli_neg_ent_new2.json\", \"w\") as _file:\n",
    "    _file.write(json.dumps(neg_ent_new_indices))"
   ]
  },
  {
   "cell_type": "code",
   "execution_count": null,
   "id": "80e6be87-6e94-43e5-b1b9-af21767a356f",
   "metadata": {},
   "outputs": [],
   "source": []
  }
 ],
 "metadata": {
  "kernelspec": {
   "display_name": "Python 3 (ipykernel)",
   "language": "python",
   "name": "python3"
  },
  "language_info": {
   "codemirror_mode": {
    "name": "ipython",
    "version": 3
   },
   "file_extension": ".py",
   "mimetype": "text/x-python",
   "name": "python",
   "nbconvert_exporter": "python",
   "pygments_lexer": "ipython3",
   "version": "3.8.12"
  }
 },
 "nbformat": 4,
 "nbformat_minor": 5
}
