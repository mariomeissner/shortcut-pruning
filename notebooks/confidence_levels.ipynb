{
 "cells": [
  {
   "cell_type": "code",
   "execution_count": 24,
   "id": "505f3eed-b0f2-4a74-a3cf-88df2ea7cb38",
   "metadata": {},
   "outputs": [],
   "source": [
    "# Imports\n",
    "import json\n",
    "import numpy as np\n",
    "from scipy.stats import entropy"
   ]
  },
  {
   "cell_type": "code",
   "execution_count": 14,
   "id": "4bd2ab5d-2a90-41dc-a181-415876541722",
   "metadata": {},
   "outputs": [],
   "source": [
    "# Load files\n",
    "def load_probs(path):\n",
    "    with open(path, \"r\") as _file:\n",
    "        probs = json.load(_file)\n",
    "    return probs\n",
    "\n",
    "tiny_mnli_path = \"/home/meissner/shortcut-pruning/data/weak_models/tinybert/mnli/tiny-mnli-\"\n",
    "# Pending better mnli undertrains (REPLACE WHEN READY!)\n",
    "undertrain_mnli_path = \"/home/meissner/shortcut-pruning/data/weak_models/undertrained/mnli/batch32/2k-5epoch-32batch-\"\n",
    "epochs_comp_path = \"/home/meissner/shortcut-pruning/data/weak_models/undertrained/\"\n",
    "tiny_mnlis = [load_probs(tiny_mnli_path + \"1\" + str(i) + \".json\") for i in range(5)]\n",
    "undertrain_mnlis = [load_probs(undertrain_mnli_path + str(i)*3 + \".json\") for i in range(1,4)]\n",
    "# undertrain_epochs_comp = ["
   ]
  },
  {
   "cell_type": "code",
   "execution_count": 20,
   "id": "721af82b-3342-476b-bcdf-b87fa8664c3c",
   "metadata": {},
   "outputs": [
    {
     "data": {
      "text/plain": [
       "[('0', [0.768073558807373, 0.17574362456798553, 0.056182861328125]),\n",
       " ('1', [0.8410807251930237, 0.08569326996803284, 0.07322598248720169]),\n",
       " ('2', [0.1369360387325287, 0.665156900882721, 0.1979069858789444]),\n",
       " ('3', [0.8453270196914673, 0.07444250583648682, 0.08023039251565933]),\n",
       " ('4', [0.8367674350738525, 0.10277853161096573, 0.060453951358795166])]"
      ]
     },
     "execution_count": 20,
     "metadata": {},
     "output_type": "execute_result"
    }
   ],
   "source": [
    "list(tiny_mnlis[0].items())[:5]"
   ]
  },
  {
   "cell_type": "code",
   "execution_count": 17,
   "id": "be31bad1-34bc-4f99-9a4b-ffeecfea52c3",
   "metadata": {},
   "outputs": [
    {
     "data": {
      "text/plain": [
       "[[0.768073558807373, 0.17574362456798553, 0.056182861328125],\n",
       " [0.8410807251930237, 0.08569326996803284, 0.07322598248720169],\n",
       " [0.1369360387325287, 0.665156900882721, 0.1979069858789444],\n",
       " [0.8453270196914673, 0.07444250583648682, 0.08023039251565933],\n",
       " [0.8367674350738525, 0.10277853161096573, 0.060453951358795166]]"
      ]
     },
     "execution_count": 17,
     "metadata": {},
     "output_type": "execute_result"
    }
   ],
   "source": [
    "list(tiny_mnlis[0].values())[:5]"
   ]
  },
  {
   "cell_type": "code",
   "execution_count": 31,
   "id": "4c7e8ec4-d1fb-4c5e-96a6-f2bab7f6610f",
   "metadata": {},
   "outputs": [],
   "source": [
    "tiny_arrays = [np.array(list(element.values())) for element in tiny_mnlis]\n",
    "under_arrays = [np.array(list(element.values())) for element in undertrain_mnlis]"
   ]
  },
  {
   "cell_type": "code",
   "execution_count": 32,
   "id": "2a242570-1b0e-4ed7-a7b0-d1b954ff698a",
   "metadata": {},
   "outputs": [
    {
     "data": {
      "text/plain": [
       "array([[0.76807356, 0.17574362, 0.05618286],\n",
       "       [0.84108073, 0.08569327, 0.07322598],\n",
       "       [0.13693604, 0.6651569 , 0.19790699],\n",
       "       [0.84532702, 0.07444251, 0.08023039],\n",
       "       [0.83676744, 0.10277853, 0.06045395]])"
      ]
     },
     "execution_count": 32,
     "metadata": {},
     "output_type": "execute_result"
    }
   ],
   "source": [
    "tiny_arrays[0][:5]"
   ]
  },
  {
   "cell_type": "code",
   "execution_count": 37,
   "id": "4561da11-5aba-463b-96cd-d76dc6afdcbf",
   "metadata": {
    "tags": []
   },
   "outputs": [
    {
     "data": {
      "text/plain": [
       "[0.7756311089916963,\n",
       " 0.801001112517637,\n",
       " 0.7969153752067625,\n",
       " 0.80803932114998,\n",
       " 0.78539154165671]"
      ]
     },
     "execution_count": 37,
     "metadata": {},
     "output_type": "execute_result"
    }
   ],
   "source": [
    "# Compare average entropy of undertrain vs tiny\n",
    "tiny_entropies = [np.apply_along_axis(entropy, axis=1, arr=tiny_array) for tiny_array in tiny_arrays]\n",
    "[np.mean(tiny_entropy) for tiny_entropy in tiny_entropies]"
   ]
  },
  {
   "cell_type": "code",
   "execution_count": 40,
   "id": "c25a58f3-d3bc-4b33-b8b4-263fd5aa160d",
   "metadata": {},
   "outputs": [
    {
     "data": {
      "text/plain": [
       "[0.5056443848684365, 0.4761106952249296, 0.4761106952249296]"
      ]
     },
     "execution_count": 40,
     "metadata": {},
     "output_type": "execute_result"
    }
   ],
   "source": [
    "under_entropies = [np.apply_along_axis(entropy, axis=1, arr=under_array) for under_array in under_arrays]\n",
    "[np.mean(under_entropy) for under_entropy in under_entropies]"
   ]
  },
  {
   "cell_type": "code",
   "execution_count": null,
   "id": "52c5141e-517d-4d4d-8d9b-66f69f237a2b",
   "metadata": {},
   "outputs": [],
   "source": [
    "# Compare average entroyy of undertrain 3epoch vs 5epoch"
   ]
  }
 ],
 "metadata": {
  "kernelspec": {
   "display_name": "Python 3 (ipykernel)",
   "language": "python",
   "name": "python3"
  },
  "language_info": {
   "codemirror_mode": {
    "name": "ipython",
    "version": 3
   },
   "file_extension": ".py",
   "mimetype": "text/x-python",
   "name": "python",
   "nbconvert_exporter": "python",
   "pygments_lexer": "ipython3",
   "version": "3.8.12"
  }
 },
 "nbformat": 4,
 "nbformat_minor": 5
}
