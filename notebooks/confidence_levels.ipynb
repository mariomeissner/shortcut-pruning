{
 "cells": [
  {
   "cell_type": "code",
   "execution_count": 44,
   "id": "505f3eed-b0f2-4a74-a3cf-88df2ea7cb38",
   "metadata": {},
   "outputs": [],
   "source": [
    "# Imports\n",
    "import json\n",
    "import numpy as np\n",
    "from scipy.stats import entropy\n",
    "import matplotlib.pyplot as plt"
   ]
  },
  {
   "cell_type": "code",
   "execution_count": 61,
   "id": "4bd2ab5d-2a90-41dc-a181-415876541722",
   "metadata": {},
   "outputs": [],
   "source": [
    "# Load files\n",
    "def load_probs(path):\n",
    "    with open(path, \"r\") as _file:\n",
    "        probs = json.load(_file)\n",
    "    return probs\n",
    "\n",
    "tiny_mnli_path = \"/home/meissner/shortcut-pruning/data/weak_models/tinybert/mnli/tiny-mnli-\"\n",
    "undertrain_mnli_path = \"/home/meissner/shortcut-pruning/data/weak_models/undertrained/mnli/undertrain-mnli-\"\n",
    "epochs_comp_path = \"/home/meissner/shortcut-pruning/data/weak_models/undertrained/mnli/confidence_exp/epoch-\"\n",
    "tiny_mnlis = [load_probs(tiny_mnli_path + \"1\" + str(i) + \".json\") for i in range(5)]\n",
    "undertrain_mnlis = [load_probs(undertrain_mnli_path + \"1\" + str(i) + \".json\") for i in range(5)]\n",
    "undertrain_epochs_comp = [load_probs(epochs_comp_path + str(i) + \".json\") for i in range(1,6)]"
   ]
  },
  {
   "cell_type": "code",
   "execution_count": 20,
   "id": "721af82b-3342-476b-bcdf-b87fa8664c3c",
   "metadata": {},
   "outputs": [
    {
     "data": {
      "text/plain": [
       "[('0', [0.768073558807373, 0.17574362456798553, 0.056182861328125]),\n",
       " ('1', [0.8410807251930237, 0.08569326996803284, 0.07322598248720169]),\n",
       " ('2', [0.1369360387325287, 0.665156900882721, 0.1979069858789444]),\n",
       " ('3', [0.8453270196914673, 0.07444250583648682, 0.08023039251565933]),\n",
       " ('4', [0.8367674350738525, 0.10277853161096573, 0.060453951358795166])]"
      ]
     },
     "execution_count": 20,
     "metadata": {},
     "output_type": "execute_result"
    }
   ],
   "source": [
    "list(tiny_mnlis[0].items())[:5]"
   ]
  },
  {
   "cell_type": "code",
   "execution_count": 17,
   "id": "be31bad1-34bc-4f99-9a4b-ffeecfea52c3",
   "metadata": {},
   "outputs": [
    {
     "data": {
      "text/plain": [
       "[[0.768073558807373, 0.17574362456798553, 0.056182861328125],\n",
       " [0.8410807251930237, 0.08569326996803284, 0.07322598248720169],\n",
       " [0.1369360387325287, 0.665156900882721, 0.1979069858789444],\n",
       " [0.8453270196914673, 0.07444250583648682, 0.08023039251565933],\n",
       " [0.8367674350738525, 0.10277853161096573, 0.060453951358795166]]"
      ]
     },
     "execution_count": 17,
     "metadata": {},
     "output_type": "execute_result"
    }
   ],
   "source": [
    "list(tiny_mnlis[0].values())[:5]"
   ]
  },
  {
   "cell_type": "code",
   "execution_count": 42,
   "id": "4c7e8ec4-d1fb-4c5e-96a6-f2bab7f6610f",
   "metadata": {},
   "outputs": [],
   "source": [
    "tiny_arrays = [np.array(list(element.values())) for element in tiny_mnlis]\n",
    "under_arrays = [np.array(list(element.values())) for element in undertrain_mnlis]"
   ]
  },
  {
   "cell_type": "code",
   "execution_count": 32,
   "id": "2a242570-1b0e-4ed7-a7b0-d1b954ff698a",
   "metadata": {},
   "outputs": [
    {
     "data": {
      "text/plain": [
       "array([[0.76807356, 0.17574362, 0.05618286],\n",
       "       [0.84108073, 0.08569327, 0.07322598],\n",
       "       [0.13693604, 0.6651569 , 0.19790699],\n",
       "       [0.84532702, 0.07444251, 0.08023039],\n",
       "       [0.83676744, 0.10277853, 0.06045395]])"
      ]
     },
     "execution_count": 32,
     "metadata": {},
     "output_type": "execute_result"
    }
   ],
   "source": [
    "tiny_arrays[0][:5]"
   ]
  },
  {
   "cell_type": "code",
   "execution_count": 47,
   "id": "4561da11-5aba-463b-96cd-d76dc6afdcbf",
   "metadata": {
    "tags": []
   },
   "outputs": [],
   "source": [
    "# Compare average entropy of undertrain vs tiny\n",
    "tiny_entropies = [np.apply_along_axis(entropy, axis=1, arr=tiny_array) for tiny_array in tiny_arrays]\n",
    "tiny_entropies = [np.mean(tiny_entropy) for tiny_entropy in tiny_entropies]"
   ]
  },
  {
   "cell_type": "code",
   "execution_count": 48,
   "id": "c25a58f3-d3bc-4b33-b8b4-263fd5aa160d",
   "metadata": {},
   "outputs": [],
   "source": [
    "under_entropies = [np.apply_along_axis(entropy, axis=1, arr=under_array) for under_array in under_arrays]\n",
    "under_entropies = [np.mean(under_entropy) for under_entropy in under_entropies]"
   ]
  },
  {
   "cell_type": "code",
   "execution_count": 52,
   "id": "f3be011d-7197-450f-841a-a76e2cd644be",
   "metadata": {},
   "outputs": [],
   "source": [
    "data = np.array([under_entropies, tiny_entropies]).transpose()"
   ]
  },
  {
   "cell_type": "code",
   "execution_count": 53,
   "id": "cf1fafb3-312b-4f9f-beff-7f11f008596c",
   "metadata": {},
   "outputs": [
    {
     "data": {
      "text/plain": [
       "array([[0.56939415, 0.77563111],\n",
       "       [0.55566785, 0.80100111],\n",
       "       [0.68523112, 0.79691538],\n",
       "       [0.72698146, 0.80803932],\n",
       "       [0.66274228, 0.78539154]])"
      ]
     },
     "execution_count": 53,
     "metadata": {},
     "output_type": "execute_result"
    }
   ],
   "source": [
    "data"
   ]
  },
  {
   "cell_type": "code",
   "execution_count": 58,
   "id": "4a19f380-e13a-4296-b0ca-0d2424b1d6db",
   "metadata": {},
   "outputs": [
    {
     "data": {
      "image/png": "[encoded data removed]",
      "text/plain": [
       "<Figure size 432x288 with 1 Axes>"
      ]
     },
     "metadata": {
      "needs_background": "light"
     },
     "output_type": "display_data"
    }
   ],
   "source": [
    "plt.boxplot(data, labels=[\"Tiny\", \"Under\"])\n",
    "plt.show()"
   ]
  },
  {
   "cell_type": "code",
   "execution_count": 63,
   "id": "52c5141e-517d-4d4d-8d9b-66f69f237a2b",
   "metadata": {},
   "outputs": [
    {
     "data": {
      "text/plain": [
       "(392702, 3)"
      ]
     },
     "execution_count": 63,
     "metadata": {},
     "output_type": "execute_result"
    }
   ],
   "source": [
    "# Plot entropy across epochs\n",
    "comp_arrays = [np.array(list(element.values())) for element in undertrain_epochs_comp]\n",
    "comp_arrays[0].shape"
   ]
  },
  {
   "cell_type": "code",
   "execution_count": 64,
   "id": "163b6fc5-d4bb-4ee4-9ee9-e05b05427697",
   "metadata": {},
   "outputs": [],
   "source": [
    "comp_entropies = [np.apply_along_axis(entropy, axis=1, arr=array) for array in comp_arrays]\n",
    "comp_entropies = [np.mean(array) for array in comp_entropies]"
   ]
  },
  {
   "cell_type": "code",
   "execution_count": 65,
   "id": "db9025db-73d7-493b-88ad-a74dffcecb25",
   "metadata": {},
   "outputs": [
    {
     "data": {
      "image/png": "[encoded data removed]",
      "text/plain": [
       "<Figure size 432x288 with 1 Axes>"
      ]
     },
     "metadata": {
      "needs_background": "light"
     },
     "output_type": "display_data"
    }
   ],
   "source": [
    "plt.plot(comp_entropies)\n",
    "plt.show()"
   ]
  },
  {
   "cell_type": "code",
   "execution_count": null,
   "id": "fc4622da-2831-440e-90d8-0aee2dc0d4c9",
   "metadata": {},
   "outputs": [],
   "source": []
  }
 ],
 "metadata": {
  "kernelspec": {
   "display_name": "Python 3 (ipykernel)",
   "language": "python",
   "name": "python3"
  },
  "language_info": {
   "codemirror_mode": {
    "name": "ipython",
    "version": 3
   },
   "file_extension": ".py",
   "mimetype": "text/x-python",
   "name": "python",
   "nbconvert_exporter": "python",
   "pygments_lexer": "ipython3",
   "version": "3.8.12"
  }
 },
 "nbformat": 4,
 "nbformat_minor": 5
}
