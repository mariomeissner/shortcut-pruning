{
 "cells": [
  {
   "cell_type": "markdown",
   "id": "7040cfb3-22ec-4d1e-905d-8bfa58f51f23",
   "metadata": {},
   "source": [
    "## Preparation"
   ]
  },
  {
   "cell_type": "code",
   "execution_count": 1,
   "id": "505f3eed-b0f2-4a74-a3cf-88df2ea7cb38",
   "metadata": {},
   "outputs": [],
   "source": [
    "# Imports\n",
    "import json\n",
    "import numpy as np\n",
    "from scipy.stats import entropy\n",
    "import matplotlib.pyplot as plt"
   ]
  },
  {
   "cell_type": "code",
   "execution_count": 2,
   "id": "4bd2ab5d-2a90-41dc-a181-415876541722",
   "metadata": {},
   "outputs": [],
   "source": [
    "# Load files\n",
    "def load_probs(path):\n",
    "    with open(path, \"r\") as _file:\n",
    "        probs = json.load(_file)\n",
    "    return probs\n",
    "\n",
    "tiny_mnli_path = \"/home/meissner/shortcut-pruning/data/weak_models/tinybert/mnli/tiny-mnli-\"\n",
    "undertrain_mnli_path = \"/home/meissner/shortcut-pruning/data/weak_models/undertrained/mnli/undertrain-mnli-\"\n",
    "epochs_comp_path = \"/home/meissner/shortcut-pruning/data/weak_models/undertrained/mnli/confidence_exp/epoch-\"\n",
    "tiny_mnlis = [load_probs(tiny_mnli_path + \"1\" + str(i) + \".json\") for i in range(5)]\n",
    "undertrain_mnlis = [load_probs(undertrain_mnli_path + \"1\" + str(i) + \".json\") for i in range(5)]\n",
    "undertrain_epochs_comp = [load_probs(epochs_comp_path + str(i) + \".json\") for i in range(1,6)]"
   ]
  },
  {
   "cell_type": "code",
   "execution_count": 3,
   "id": "721af82b-3342-476b-bcdf-b87fa8664c3c",
   "metadata": {},
   "outputs": [
    {
     "data": {
      "text/plain": [
       "[('0', [0.768073558807373, 0.17574362456798553, 0.056182861328125]),\n",
       " ('1', [0.8410807251930237, 0.08569326996803284, 0.07322598248720169]),\n",
       " ('2', [0.1369360387325287, 0.665156900882721, 0.1979069858789444]),\n",
       " ('3', [0.8453270196914673, 0.07444250583648682, 0.08023039251565933]),\n",
       " ('4', [0.8367674350738525, 0.10277853161096573, 0.060453951358795166])]"
      ]
     },
     "execution_count": 3,
     "metadata": {},
     "output_type": "execute_result"
    }
   ],
   "source": [
    "list(tiny_mnlis[0].items())[:5]"
   ]
  },
  {
   "cell_type": "code",
   "execution_count": 4,
   "id": "be31bad1-34bc-4f99-9a4b-ffeecfea52c3",
   "metadata": {},
   "outputs": [
    {
     "data": {
      "text/plain": [
       "[[0.768073558807373, 0.17574362456798553, 0.056182861328125],\n",
       " [0.8410807251930237, 0.08569326996803284, 0.07322598248720169],\n",
       " [0.1369360387325287, 0.665156900882721, 0.1979069858789444],\n",
       " [0.8453270196914673, 0.07444250583648682, 0.08023039251565933],\n",
       " [0.8367674350738525, 0.10277853161096573, 0.060453951358795166]]"
      ]
     },
     "execution_count": 4,
     "metadata": {},
     "output_type": "execute_result"
    }
   ],
   "source": [
    "list(tiny_mnlis[0].values())[:5]"
   ]
  },
  {
   "cell_type": "code",
   "execution_count": 5,
   "id": "4c7e8ec4-d1fb-4c5e-96a6-f2bab7f6610f",
   "metadata": {},
   "outputs": [],
   "source": [
    "tiny_arrays = np.array([list(element.values()) for element in tiny_mnlis])\n",
    "under_arrays = np.array([list(element.values()) for element in undertrain_mnlis])"
   ]
  },
  {
   "cell_type": "code",
   "execution_count": 6,
   "id": "2a242570-1b0e-4ed7-a7b0-d1b954ff698a",
   "metadata": {},
   "outputs": [
    {
     "data": {
      "text/plain": [
       "array([[0.76807356, 0.17574362, 0.05618286],\n",
       "       [0.84108073, 0.08569327, 0.07322598],\n",
       "       [0.13693604, 0.6651569 , 0.19790699],\n",
       "       [0.84532702, 0.07444251, 0.08023039],\n",
       "       [0.83676744, 0.10277853, 0.06045395]])"
      ]
     },
     "execution_count": 6,
     "metadata": {},
     "output_type": "execute_result"
    }
   ],
   "source": [
    "tiny_arrays[0][:5]"
   ]
  },
  {
   "cell_type": "markdown",
   "id": "5cb6e59f-5834-419c-9aa2-7033e602b577",
   "metadata": {},
   "source": [
    "## Stability across seeds"
   ]
  },
  {
   "cell_type": "code",
   "execution_count": 7,
   "id": "76a407f9-2c64-4815-a068-c62771f49b41",
   "metadata": {},
   "outputs": [
    {
     "data": {
      "image/png": "[encoded data removed]",
      "text/plain": [
       "<Figure size 432x288 with 1 Axes>"
      ]
     },
     "metadata": {
      "needs_background": "light"
     },
     "output_type": "display_data"
    }
   ],
   "source": [
    "tiny_stdmean, under_stdmean = tiny_arrays.std(axis=0).mean(axis=0), under_arrays.std(axis=0).mean(axis=0)\n",
    "fig, ax = plt.subplots()\n",
    "index = np.arange(3)\n",
    "bar_width = 0.35\n",
    "ax.bar(index, tiny_stdmean, bar_width, label=\"Underparam.\")\n",
    "ax.bar(index+bar_width, under_stdmean, bar_width, label=\"Undertrained\")\n",
    "\n",
    "ax.set_xlabel('Label')\n",
    "ax.set_ylabel('Average of Standard Deviations')\n",
    "ax.set_xticks(index + bar_width / 2)\n",
    "ax.set_xticklabels([\"Entail.\", \"Neutral\", \"Cont\"])\n",
    "ax.legend()\n",
    "\n",
    "plt.show()"
   ]
  },
  {
   "cell_type": "markdown",
   "id": "92db1970-fe0e-46c6-b404-7bdde8633880",
   "metadata": {},
   "source": [
    "## Undertrained vs underparameterized"
   ]
  },
  {
   "cell_type": "code",
   "execution_count": 8,
   "id": "4561da11-5aba-463b-96cd-d76dc6afdcbf",
   "metadata": {
    "tags": []
   },
   "outputs": [],
   "source": [
    "# Compare average entropy of undertrain vs tiny\n",
    "tiny_entropies = [np.apply_along_axis(entropy, axis=1, arr=tiny_array) for tiny_array in tiny_arrays]\n",
    "tiny_entropies = [np.mean(tiny_entropy) for tiny_entropy in tiny_entropies]"
   ]
  },
  {
   "cell_type": "code",
   "execution_count": 9,
   "id": "c25a58f3-d3bc-4b33-b8b4-263fd5aa160d",
   "metadata": {},
   "outputs": [],
   "source": [
    "under_entropies = [np.apply_along_axis(entropy, axis=1, arr=under_array) for under_array in under_arrays]\n",
    "under_entropies = [np.mean(under_entropy) for under_entropy in under_entropies]"
   ]
  },
  {
   "cell_type": "code",
   "execution_count": 10,
   "id": "f3be011d-7197-450f-841a-a76e2cd644be",
   "metadata": {},
   "outputs": [],
   "source": [
    "data = np.array([under_entropies, tiny_entropies]).transpose() # matplotlib wants each vector in one column"
   ]
  },
  {
   "cell_type": "code",
   "execution_count": 11,
   "id": "cf1fafb3-312b-4f9f-beff-7f11f008596c",
   "metadata": {},
   "outputs": [
    {
     "data": {
      "text/plain": [
       "array([[0.56939415, 0.77563111],\n",
       "       [0.55566785, 0.80100111],\n",
       "       [0.68523112, 0.79691538],\n",
       "       [0.72698146, 0.80803932],\n",
       "       [0.66274228, 0.78539154]])"
      ]
     },
     "execution_count": 11,
     "metadata": {},
     "output_type": "execute_result"
    }
   ],
   "source": [
    "data"
   ]
  },
  {
   "cell_type": "code",
   "execution_count": 12,
   "id": "4a19f380-e13a-4296-b0ca-0d2424b1d6db",
   "metadata": {},
   "outputs": [
    {
     "data": {
      "image/png": "[encoded data removed]",
      "text/plain": [
       "<Figure size 432x288 with 1 Axes>"
      ]
     },
     "metadata": {
      "needs_background": "light"
     },
     "output_type": "display_data"
    }
   ],
   "source": [
    "plt.boxplot(data, labels=[\"Undertrained\", \"Underparam.\"])\n",
    "plt.ylabel(\"Entropy\")\n",
    "plt.show()"
   ]
  },
  {
   "cell_type": "markdown",
   "id": "fc5582bb-c98a-48b1-80cd-6fa92513e931",
   "metadata": {},
   "source": [
    "## Undertrained confidence across epochs"
   ]
  },
  {
   "cell_type": "code",
   "execution_count": 13,
   "id": "52c5141e-517d-4d4d-8d9b-66f69f237a2b",
   "metadata": {},
   "outputs": [
    {
     "data": {
      "text/plain": [
       "(392702, 3)"
      ]
     },
     "execution_count": 13,
     "metadata": {},
     "output_type": "execute_result"
    }
   ],
   "source": [
    "# Plot entropy across epochs\n",
    "comp_arrays = np.array([list(element.values()) for element in undertrain_epochs_comp])\n",
    "comp_arrays[0].shape"
   ]
  },
  {
   "cell_type": "code",
   "execution_count": 14,
   "id": "163b6fc5-d4bb-4ee4-9ee9-e05b05427697",
   "metadata": {},
   "outputs": [],
   "source": [
    "comp_entropies = [np.apply_along_axis(entropy, axis=1, arr=array) for array in comp_arrays]\n",
    "comp_entropies = [np.mean(array) for array in comp_entropies]"
   ]
  },
  {
   "cell_type": "code",
   "execution_count": 15,
   "id": "4310e924-52a7-4ded-a0f3-0b4cfc716919",
   "metadata": {},
   "outputs": [],
   "source": [
    "# Taken from Wandb\n",
    "hans_acc = [0.5559, 0.6413, 0.5716, 0.6087, 0.5927]\n",
    "m_hard_acc = [0.7473, 0.7571, 0.7434, 0.749, 0.7308]"
   ]
  },
  {
   "cell_type": "code",
   "execution_count": 16,
   "id": "db9025db-73d7-493b-88ad-a74dffcecb25",
   "metadata": {},
   "outputs": [
    {
     "data": {
      "image/png": "[encoded data removed]",
      "text/plain": [
       "<Figure size 432x288 with 1 Axes>"
      ]
     },
     "metadata": {
      "needs_background": "light"
     },
     "output_type": "display_data"
    }
   ],
   "source": [
    "plt.plot(range(1,6), comp_entropies)\n",
    "# plt.xlim([0,6])\n",
    "plt.xlabel(\"Train Epochs\")\n",
    "plt.ylabel(\"Entropy\")\n",
    "plt.show()"
   ]
  },
  {
   "cell_type": "code",
   "execution_count": 17,
   "id": "fc4622da-2831-440e-90d8-0aee2dc0d4c9",
   "metadata": {},
   "outputs": [
    {
     "data": {
      "image/png": "[encoded data removed]",
      "text/plain": [
       "<Figure size 432x288 with 2 Axes>"
      ]
     },
     "metadata": {
      "needs_background": "light"
     },
     "output_type": "display_data"
    }
   ],
   "source": [
    "fig, ax1 = plt.subplots()\n",
    "epochs = range(1,6)\n",
    "\n",
    "ax1.set_xlabel(\"Train Epochs\")\n",
    "ax1.set_ylabel('Entropy')\n",
    "ax1.plot(epochs, comp_entropies)\n",
    "# ax1.tick_params(axis='y', labelcolor=color)\n",
    "\n",
    "ax2 = ax1.twinx()  # instantiate a second axes that shares the same x-axis\n",
    "\n",
    "# color = 'tab:blue'\n",
    "ax2.set_ylabel('Challenge Set Accuracy')  # we already handled the x-label with ax1\n",
    "ax2.plot(epochs, hans_acc, label=\"HANS\", color=\"slategray\")\n",
    "ax2.plot(epochs, m_hard_acc, label=\"MNLI Hard\", color=\"brown\")\n",
    "ax2.legend()\n",
    "# ax2.tick_params(axis='y', labelcolor=color)\n",
    "\n",
    "fig.tight_layout()  # otherwise the right y-label is slightly clipped\n",
    "plt.show()"
   ]
  },
  {
   "cell_type": "markdown",
   "id": "aa7f72fb-1b1f-4e39-8513-7911f5617e4f",
   "metadata": {},
   "source": [
    "Weak model subset performance"
   ]
  },
  {
   "cell_type": "code",
   "execution_count": 18,
   "id": "e10cec67-6993-459c-9ede-fe0e9bfd1601",
   "metadata": {},
   "outputs": [],
   "source": [
    "with open(\"/home/meissner/shortcut-pruning/data/subsets/mnli_negation_indices.json\", \"r\") as _file:\n",
    "    indices = json.loads(_file.read())"
   ]
  },
  {
   "cell_type": "code",
   "execution_count": 23,
   "id": "dc23d939-07b5-44b1-90b6-70e57a30540c",
   "metadata": {},
   "outputs": [],
   "source": [
    "train_conts = np.array(indices[\"train_conts\"])\n",
    "train_ents = np.array(indices[\"train_ents\"])"
   ]
  },
  {
   "cell_type": "code",
   "execution_count": 28,
   "id": "dc19f89d-b990-424a-83ad-3fcf62c316a1",
   "metadata": {},
   "outputs": [],
   "source": [
    "tiny_cont_mean = (tiny_arrays[:, train_conts, :].argmax(axis=2) == 2).mean()"
   ]
  },
  {
   "cell_type": "code",
   "execution_count": 29,
   "id": "05d2ccf2-fef3-4703-ab4f-35d7cd103d32",
   "metadata": {},
   "outputs": [],
   "source": [
    "tiny_ent_mean = (tiny_arrays[:, train_ents, :].argmax(axis=2) == 2).mean()"
   ]
  },
  {
   "cell_type": "code",
   "execution_count": 30,
   "id": "d56b1ad2-d0c3-4ce4-91ef-f9d4f1ce3c81",
   "metadata": {},
   "outputs": [],
   "source": [
    "under_cont_mean = (under_arrays[:, train_conts, :].argmax(axis=2) == 2).mean()"
   ]
  },
  {
   "cell_type": "code",
   "execution_count": 31,
   "id": "e8b9ec9e-49d8-445b-ae45-629c090a797c",
   "metadata": {},
   "outputs": [],
   "source": [
    "under_ent_mean = (under_arrays[:, train_ents, :].argmax(axis=2) == 2).mean()"
   ]
  },
  {
   "cell_type": "code",
   "execution_count": 36,
   "id": "a46f864e-bff5-47b8-96bd-c9d7836902b8",
   "metadata": {},
   "outputs": [
    {
     "data": {
      "image/png": "[encoded data removed]",
      "text/plain": [
       "<Figure size 432x288 with 1 Axes>"
      ]
     },
     "metadata": {
      "needs_background": "light"
     },
     "output_type": "display_data"
    }
   ],
   "source": [
    "fig, ax = plt.subplots()\n",
    "index = np.arange(2)\n",
    "bar_width = 0.35\n",
    "ax.bar(index, [tiny_cont_mean, tiny_ent_mean], bar_width, label=\"Underparam.\")\n",
    "ax.bar(index+bar_width, [under_cont_mean, under_ent_mean], bar_width, label=\"Undertrained\")\n",
    "\n",
    "ax.set_xlabel('Label')\n",
    "ax.set_ylabel('Accuracy')\n",
    "ax.set_xticks(index + bar_width / 2)\n",
    "ax.set_xticklabels([\"Contradiction\", \"Entailment\"])\n",
    "ax.set_title('Average performance in the \"negation in hypothesis\" subset.')\n",
    "ax.legend()\n",
    "\n",
    "plt.show()"
   ]
  },
  {
   "cell_type": "code",
   "execution_count": null,
   "id": "d99b98eb-63f9-4882-a465-8b25836468f1",
   "metadata": {},
   "outputs": [],
   "source": []
  }
 ],
 "metadata": {
  "kernelspec": {
   "display_name": "Python 3 (ipykernel)",
   "language": "python",
   "name": "python3"
  },
  "language_info": {
   "codemirror_mode": {
    "name": "ipython",
    "version": 3
   },
   "file_extension": ".py",
   "mimetype": "text/x-python",
   "name": "python",
   "nbconvert_exporter": "python",
   "pygments_lexer": "ipython3",
   "version": "3.8.12"
  }
 },
 "nbformat": 4,
 "nbformat_minor": 5
}
