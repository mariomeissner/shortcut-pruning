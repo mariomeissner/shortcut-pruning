{
 "cells": [
  {
   "cell_type": "code",
   "execution_count": 2,
   "id": "ab334fd9-8097-4d7c-857c-027a650cdaa5",
   "metadata": {},
   "outputs": [],
   "source": [
    "import datasets\n",
    "import torch\n",
    "import numpy as np\n",
    "import json"
   ]
  },
  {
   "cell_type": "markdown",
   "id": "e4b93b45-d4d2-41a2-9e04-270f71fbe6de",
   "metadata": {},
   "source": [
    "## Get negation indices"
   ]
  },
  {
   "cell_type": "code",
   "execution_count": 3,
   "id": "3e7676df-6b6b-46d3-9042-861d2ef4a881",
   "metadata": {},
   "outputs": [
    {
     "data": {
      "application/vnd.jupyter.widget-view+json": {
       "model_id": "b43c8907c06545c29e9febc9e20989ea",
       "version_major": 2,
       "version_minor": 0
      },
      "text/plain": [
       "Downloading:   0%|          | 0.00/1.63k [00:00<?, ?B/s]"
      ]
     },
     "metadata": {},
     "output_type": "display_data"
    },
    {
     "data": {
      "application/vnd.jupyter.widget-view+json": {
       "model_id": "43e526d7907a4585989a236da6188532",
       "version_major": 2,
       "version_minor": 0
      },
      "text/plain": [
       "Downloading:   0%|          | 0.00/938 [00:00<?, ?B/s]"
      ]
     },
     "metadata": {},
     "output_type": "display_data"
    },
    {
     "name": "stderr",
     "output_type": "stream",
     "text": [
      "Reusing dataset snli (/home/meissner/.cache/huggingface/datasets/snli/plain_text/1.0.0/1f60b67533b65ae0275561ff7828aad5ee4282d0e6f844fd148d05d3c6ea251b)\n"
     ]
    },
    {
     "data": {
      "application/vnd.jupyter.widget-view+json": {
       "model_id": "0ce5043502f14fd18338067f5bce1e46",
       "version_major": 2,
       "version_minor": 0
      },
      "text/plain": [
       "  0%|          | 0/3 [00:00<?, ?it/s]"
      ]
     },
     "metadata": {},
     "output_type": "display_data"
    }
   ],
   "source": [
    "snli = datasets.load_dataset(\"snli\")"
   ]
  },
  {
   "cell_type": "code",
   "execution_count": 10,
   "id": "99529e46-7507-40c0-8eb3-ddb65e632bbc",
   "metadata": {},
   "outputs": [
    {
     "data": {
      "text/plain": [
       "DatasetDict({\n",
       "    test: Dataset({\n",
       "        features: ['premise', 'hypothesis', 'label'],\n",
       "        num_rows: 10000\n",
       "    })\n",
       "    train: Dataset({\n",
       "        features: ['premise', 'hypothesis', 'label'],\n",
       "        num_rows: 550152\n",
       "    })\n",
       "    validation: Dataset({\n",
       "        features: ['premise', 'hypothesis', 'label'],\n",
       "        num_rows: 10000\n",
       "    })\n",
       "})"
      ]
     },
     "execution_count": 10,
     "metadata": {},
     "output_type": "execute_result"
    }
   ],
   "source": [
    "snli"
   ]
  },
  {
   "cell_type": "code",
   "execution_count": 4,
   "id": "e633c413-f3a8-4764-86b0-091d7b41619f",
   "metadata": {},
   "outputs": [],
   "source": [
    "negation_words = [\"no\", \"not\", \"don't\", \"none\", \"nothing\", \n",
    "                  \"never\", \"aren’t\", \"isn’t\", \"weren’t\", \n",
    "                  \"neither\", \"don’t\", \"didn’t\", \"doesn’t\", \n",
    "                  \"cannot\", \"hasn’t\", \"won’t\"]"
   ]
  },
  {
   "cell_type": "code",
   "execution_count": 11,
   "id": "e97193ad-1055-4385-83f5-56fa11496655",
   "metadata": {},
   "outputs": [],
   "source": [
    "def find_negation_idxs(dataset):\n",
    "    ent_indices, cont_indices = [], []\n",
    "    for idx, sample in enumerate(dataset):\n",
    "        if any([word in sample[\"hypothesis\"].lower() for word in negation_words]):\n",
    "            if sample['label'] == 0:\n",
    "                ent_indices.append(idx)\n",
    "            elif sample['label'] == 2:\n",
    "                cont_indices.append(idx)\n",
    "    return ent_indices, cont_indices"
   ]
  },
  {
   "cell_type": "code",
   "execution_count": 12,
   "id": "56e29bb1-3df7-4244-80e7-76c360a6ad09",
   "metadata": {},
   "outputs": [],
   "source": [
    "train_ents, train_conts = find_negation_idxs(snli[\"train\"])\n",
    "val_ents, val_conts = find_negation_idxs(snli[\"validation\"])\n",
    "test_ents, test_conts = find_negation_idxs(snli[\"test\"])"
   ]
  },
  {
   "cell_type": "code",
   "execution_count": 14,
   "id": "ef41feba-5d22-445e-82c8-ea7d2384c233",
   "metadata": {},
   "outputs": [],
   "source": [
    "all_indices = {\"train_ents\" : train_ents, \"train_conts\" : train_conts, \"val_ents\" : val_ents, \"val_conts\" : val_conts, \"test_ents\" : test_ents, \"test_conts\" : test_conts}"
   ]
  },
  {
   "cell_type": "code",
   "execution_count": 16,
   "id": "353a3c8b-59a5-485d-9dd6-797ef07b3e9e",
   "metadata": {},
   "outputs": [
    {
     "name": "stdout",
     "output_type": "stream",
     "text": [
      "train_ents\n",
      "6002\n",
      "train_conts\n",
      "12537\n",
      "val_ents\n",
      "110\n",
      "val_conts\n",
      "206\n",
      "test_ents\n",
      "119\n",
      "test_conts\n",
      "223\n"
     ]
    }
   ],
   "source": [
    "for key, value in all_indices.items():\n",
    "    print(key)\n",
    "    print(len(value))"
   ]
  },
  {
   "cell_type": "code",
   "execution_count": 15,
   "id": "d8c0c485-906f-4518-b5db-8900f8dcb0f3",
   "metadata": {},
   "outputs": [],
   "source": [
    "with open(\"/home/meissner/shortcut-pruning/data/subsets/snli_negation_indices.json\", \"w\") as _file:\n",
    "    _file.write(json.dumps(all_indices))"
   ]
  },
  {
   "cell_type": "markdown",
   "id": "0c97ae22-0f02-40a3-b338-4ff1938de937",
   "metadata": {},
   "source": [
    "## Get lexically similar words"
   ]
  },
  {
   "cell_type": "code",
   "execution_count": 17,
   "id": "7b727ea8-d961-4d98-9eeb-48443113219d",
   "metadata": {},
   "outputs": [],
   "source": [
    "import nltk\n",
    "import string\n",
    "from nltk.tokenize import word_tokenize"
   ]
  },
  {
   "cell_type": "code",
   "execution_count": 18,
   "id": "a1b63131-6120-43b2-8540-dad582149515",
   "metadata": {},
   "outputs": [
    {
     "name": "stderr",
     "output_type": "stream",
     "text": [
      "[nltk_data] Downloading package punkt to /home/meissner/nltk_data...\n",
      "[nltk_data]   Package punkt is already up-to-date!\n"
     ]
    },
    {
     "data": {
      "text/plain": [
       "True"
      ]
     },
     "execution_count": 18,
     "metadata": {},
     "output_type": "execute_result"
    }
   ],
   "source": [
    "nltk.download('punkt')"
   ]
  },
  {
   "cell_type": "code",
   "execution_count": 19,
   "id": "7cd952f7-38d0-468e-8729-512aa305e6ca",
   "metadata": {},
   "outputs": [
    {
     "name": "stdout",
     "output_type": "stream",
     "text": [
      "{'/', ',', '\"', '=', '-', '.', '@', ';', '$', \"'\", '*', '<', '#', '\\\\', '}', '~', ':', '%', '!', '^', '&', '(', ')', '>', '[', '?', '_', '|', '`', ']', '{', '+'}\n"
     ]
    }
   ],
   "source": [
    "puncts = set(string.punctuation)\n",
    "print(puncts)"
   ]
  },
  {
   "cell_type": "code",
   "execution_count": 20,
   "id": "730390d9-05ac-4dee-a35c-afc9064974d4",
   "metadata": {},
   "outputs": [],
   "source": [
    "def jaccard_similarity(set1, set2):\n",
    "    return float(len(set1.intersection(set2)) / len(set1.union(set2)))"
   ]
  },
  {
   "cell_type": "code",
   "execution_count": 43,
   "id": "4f8ba0b5-c55a-4c21-9982-be748b9df5bf",
   "metadata": {},
   "outputs": [],
   "source": [
    "subset = \"validation\""
   ]
  },
  {
   "cell_type": "code",
   "execution_count": 44,
   "id": "2b8f978f-a9e6-415a-8524-2361aa33ffb3",
   "metadata": {},
   "outputs": [
    {
     "data": {
      "text/plain": [
       "['A', 'few', 'people', 'are', 'catching', 'fish', '.']"
      ]
     },
     "execution_count": 44,
     "metadata": {},
     "output_type": "execute_result"
    }
   ],
   "source": [
    "word_tokenize(snli['validation'][23]['hypothesis'])"
   ]
  },
  {
   "cell_type": "code",
   "execution_count": 45,
   "id": "6044679a-bbe0-415f-a7cf-2229f4c41fe0",
   "metadata": {},
   "outputs": [],
   "source": [
    "jaccards = []\n",
    "for sample in snli[subset]:\n",
    "    hyposet = set(word_tokenize(sample['hypothesis'].lower())) - puncts\n",
    "    premset = set(word_tokenize(sample['premise'].lower())) - puncts\n",
    "    jaccards.append(jaccard_similarity(hyposet, premset))\n",
    "jaccards = np.array(jaccards)"
   ]
  },
  {
   "cell_type": "code",
   "execution_count": 46,
   "id": "d8fba867-06f1-4f0c-8a7f-c08100fc538d",
   "metadata": {},
   "outputs": [
    {
     "data": {
      "text/plain": [
       "(0.0, 0.22310500682878054, 1.0, 241, 21)"
      ]
     },
     "execution_count": 46,
     "metadata": {},
     "output_type": "execute_result"
    }
   ],
   "source": [
    "np.min(jaccards), np.mean(jaccards), np.max(jaccards), np.argmax(jaccards), np.argmin(jaccards)"
   ]
  },
  {
   "cell_type": "code",
   "execution_count": 47,
   "id": "54bd6ea6-6358-44d7-977e-291afb4a6cf2",
   "metadata": {},
   "outputs": [],
   "source": [
    "from matplotlib import pyplot as plt"
   ]
  },
  {
   "cell_type": "code",
   "execution_count": 49,
   "id": "a02195b1-55f8-45b4-8600-eda4e69cecdd",
   "metadata": {},
   "outputs": [
    {
     "data": {
      "image/png": "[encoded data removed]",
      "text/plain": [
       "<Figure size 432x288 with 1 Axes>"
      ]
     },
     "metadata": {
      "needs_background": "light"
     },
     "output_type": "display_data"
    }
   ],
   "source": [
    "bins = np.linspace(0.0, 1.0, 25)\n",
    "labels = np.array(snli[subset]['label'])\n",
    "ent_jaccards = jaccards[labels == 0]\n",
    "cont_jaccards = jaccards[labels == 2]\n",
    "plt.hist(ent_jaccards, bins, alpha=0.5, label=\"Entailment\")\n",
    "plt.hist(cont_jaccards, bins, alpha=0.5, label=\"Contradiction\")\n",
    "plt.legend()\n",
    "plt.show()"
   ]
  },
  {
   "cell_type": "code",
   "execution_count": 54,
   "id": "e294f656-8b6b-4e4a-9f9d-e6578f0f0ec5",
   "metadata": {},
   "outputs": [
    {
     "data": {
      "text/plain": [
       "10000"
      ]
     },
     "execution_count": 54,
     "metadata": {},
     "output_type": "execute_result"
    }
   ],
   "source": [
    "len(snli[subset])"
   ]
  },
  {
   "cell_type": "code",
   "execution_count": 55,
   "id": "4036d1a7-357b-4cad-ad27-1863d3126b0e",
   "metadata": {},
   "outputs": [],
   "source": [
    "num_samples=1000"
   ]
  },
  {
   "cell_type": "code",
   "execution_count": 56,
   "id": "cb82a5c1-8d33-4d7a-ab69-4b4add4d16a9",
   "metadata": {},
   "outputs": [],
   "source": [
    "top_indices = np.argsort(jaccards)[-num_samples:]"
   ]
  },
  {
   "cell_type": "code",
   "execution_count": 57,
   "id": "60273e71-3069-40bb-aa28-f7377f038fe7",
   "metadata": {},
   "outputs": [
    {
     "data": {
      "text/plain": [
       "0.4375"
      ]
     },
     "execution_count": 57,
     "metadata": {},
     "output_type": "execute_result"
    }
   ],
   "source": [
    "jaccards[top_indices[0]] # Cut rate"
   ]
  },
  {
   "cell_type": "code",
   "execution_count": 58,
   "id": "6f54f367-43d6-49a7-b509-ccad8fa2c3e9",
   "metadata": {},
   "outputs": [
    {
     "data": {
      "text/plain": [
       "0.545"
      ]
     },
     "execution_count": 58,
     "metadata": {},
     "output_type": "execute_result"
    }
   ],
   "source": [
    "np.mean(labels[top_indices] == 0) # "
   ]
  },
  {
   "cell_type": "code",
   "execution_count": 60,
   "id": "e368b149-d4f0-40fe-970a-8ab04b455371",
   "metadata": {},
   "outputs": [],
   "source": [
    "def find_high_lex_overlap_idxs(dataset, count_lim=400):\n",
    "    jaccards = []\n",
    "    labels = np.array(dataset['label'])\n",
    "    for sample in dataset:\n",
    "        hyposet = set(word_tokenize(sample['hypothesis'].lower())) - puncts\n",
    "        premset = set(word_tokenize(sample['premise'].lower())) - puncts\n",
    "        jaccards.append(jaccard_similarity(hyposet, premset))\n",
    "    jaccards = np.array(jaccards)\n",
    "    top_indices = np.argsort(jaccards)[-count_lim:]\n",
    "    ent_indices = top_indices[labels[top_indices] == 0]\n",
    "    cont_indices = top_indices[labels[top_indices] == 2]\n",
    "    return ent_indices, cont_indices"
   ]
  },
  {
   "cell_type": "code",
   "execution_count": 62,
   "id": "46cec9ec-2d7a-449c-b909-695c5196c16b",
   "metadata": {},
   "outputs": [],
   "source": [
    "train_ents, train_conts = find_high_lex_overlap_idxs(snli[\"train\"], count_lim=60000)\n",
    "val_ents, val_conts = find_high_lex_overlap_idxs(snli[\"validation\"], count_lim=1000)\n",
    "test_ents, test_conts = find_high_lex_overlap_idxs(snli[\"test\"], count_lim=1000)"
   ]
  },
  {
   "cell_type": "code",
   "execution_count": 63,
   "id": "8d96cfff-2290-4492-b148-8c2cff0264c2",
   "metadata": {},
   "outputs": [
    {
     "data": {
      "text/plain": [
       "9872"
      ]
     },
     "execution_count": 63,
     "metadata": {},
     "output_type": "execute_result"
    }
   ],
   "source": [
    "test_ents[0]"
   ]
  },
  {
   "cell_type": "code",
   "execution_count": 64,
   "id": "19948843-5b10-425b-8e90-7009cca56a69",
   "metadata": {},
   "outputs": [
    {
     "data": {
      "text/plain": [
       "({'premise': 'A bearded man sits near a white van.',\n",
       "  'hypothesis': 'a man sitting outside near a van.',\n",
       "  'label': 0},\n",
       " {'premise': 'A nighttime street scene of a restaurant.',\n",
       "  'hypothesis': 'A nighttime scene of an apartment building.',\n",
       "  'label': 2})"
      ]
     },
     "execution_count": 64,
     "metadata": {},
     "output_type": "execute_result"
    }
   ],
   "source": [
    "snli['test'][int(test_ents[0])], snli['test'][int(test_conts[0])]"
   ]
  },
  {
   "cell_type": "code",
   "execution_count": 66,
   "id": "24c2a3cc-f714-41bc-b132-43a053bd136c",
   "metadata": {},
   "outputs": [],
   "source": [
    "all_indices = {\"train_ents\" : list(train_ents), \"train_conts\" : list(train_conts), \"val_ents\" : list(val_ents), \"val_conts\" : list(val_conts), \"test_ents\" : list(test_ents), \"test_conts\" : list(test_conts)}"
   ]
  },
  {
   "cell_type": "code",
   "execution_count": 68,
   "id": "e968d376-21e4-455c-8ae5-79e2cc461723",
   "metadata": {},
   "outputs": [
    {
     "name": "stdout",
     "output_type": "stream",
     "text": [
      "train_ents\n",
      "30805\n",
      "train_conts\n",
      "11118\n",
      "val_ents\n",
      "545\n",
      "val_conts\n",
      "170\n",
      "test_ents\n",
      "571\n",
      "test_conts\n",
      "156\n"
     ]
    }
   ],
   "source": [
    "for key, value in all_indices.items():\n",
    "    print(key)\n",
    "    print(len(value))"
   ]
  },
  {
   "cell_type": "code",
   "execution_count": 69,
   "id": "e5a24183-d38a-4fef-b482-a1f69c1f5e58",
   "metadata": {},
   "outputs": [],
   "source": [
    "import numpy\n",
    "import json\n",
    "\n",
    "class MyEncoder(json.JSONEncoder):\n",
    "    def default(self, obj):\n",
    "        if isinstance(obj, numpy.integer):\n",
    "            return int(obj)\n",
    "        elif isinstance(obj, numpy.floating):\n",
    "            return float(obj)\n",
    "        elif isinstance(obj, numpy.ndarray):\n",
    "            return obj.tolist()\n",
    "        else:\n",
    "            return super(MyEncoder, self).default(obj)"
   ]
  },
  {
   "cell_type": "code",
   "execution_count": 71,
   "id": "7574a1d7-fd1d-41c7-8ef7-30f7200b3d89",
   "metadata": {},
   "outputs": [],
   "source": [
    "with open(\"/home/meissner/shortcut-pruning/data/subsets/snli_lex_overlap_indices.json\", \"w\") as _file:\n",
    "    _file.write(json.dumps(all_indices, cls=MyEncoder))"
   ]
  },
  {
   "cell_type": "code",
   "execution_count": null,
   "id": "3f00d983-eb4e-4947-9fd4-e95d7b46551e",
   "metadata": {},
   "outputs": [],
   "source": []
  }
 ],
 "metadata": {
  "kernelspec": {
   "display_name": "Python 3 (ipykernel)",
   "language": "python",
   "name": "python3"
  },
  "language_info": {
   "codemirror_mode": {
    "name": "ipython",
    "version": 3
   },
   "file_extension": ".py",
   "mimetype": "text/x-python",
   "name": "python",
   "nbconvert_exporter": "python",
   "pygments_lexer": "ipython3",
   "version": "3.8.12"
  }
 },
 "nbformat": 4,
 "nbformat_minor": 5
}
