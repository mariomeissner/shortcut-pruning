{
 "cells": [
  {
   "cell_type": "code",
   "execution_count": 40,
   "id": "664dbe44-5ef9-4dab-af7b-c961d0044912",
   "metadata": {},
   "outputs": [],
   "source": [
    "import datasets\n",
    "import json"
   ]
  },
  {
   "cell_type": "code",
   "execution_count": 2,
   "id": "dc9bf3b2-01dc-4b7e-bc1e-0c3b9d44bf47",
   "metadata": {},
   "outputs": [
    {
     "name": "stderr",
     "output_type": "stream",
     "text": [
      "Reusing dataset glue (/home/meissner/.cache/huggingface/datasets/glue/mnli/1.0.0/dacbe3125aa31d7f70367a07a8a9e72a5a0bfeb5fc42e75c9db75b96da6053ad)\n"
     ]
    },
    {
     "data": {
      "application/vnd.jupyter.widget-view+json": {
       "model_id": "ae99fa32f8464a78b45b43efc658be50",
       "version_major": 2,
       "version_minor": 0
      },
      "text/plain": [
       "  0%|          | 0/5 [00:00<?, ?it/s]"
      ]
     },
     "metadata": {},
     "output_type": "display_data"
    }
   ],
   "source": [
    "mnli = datasets.load_dataset(\"glue\", \"mnli\")"
   ]
  },
  {
   "cell_type": "code",
   "execution_count": 4,
   "id": "02b989a9-8b0a-4ad1-a342-1faab6012fbb",
   "metadata": {},
   "outputs": [],
   "source": [
    "negation_words = [\"no\", \"not\", \"don't\", \"none\", \"nothing\", \n",
    "                  \"never\", \"aren’t\", \"isn’t\", \"weren’t\", \n",
    "                  \"neither\", \"don’t\", \"didn’t\", \"doesn’t\", \n",
    "                  \"cannot\", \"hasn’t\", \"won’t\"]"
   ]
  },
  {
   "cell_type": "code",
   "execution_count": 29,
   "id": "44008ba7-688b-49d8-8329-b47b25e0a800",
   "metadata": {},
   "outputs": [],
   "source": [
    "def find_negation_idxs(dataset):\n",
    "    ent_indices, cont_indices = [], []\n",
    "    for sample in dataset:\n",
    "        if any([word in sample[\"hypothesis\"] for word in negation_words]):\n",
    "            if sample['label'] == 0:\n",
    "                ent_indices.append(sample['idx'])\n",
    "            elif sample['label'] == 2:\n",
    "                cont_indices.append(sample['idx'])\n",
    "    return ent_indices, cont_indices"
   ]
  },
  {
   "cell_type": "code",
   "execution_count": 33,
   "id": "004a0316-8e52-4f69-9a00-2ada64fda40e",
   "metadata": {},
   "outputs": [],
   "source": [
    "train_ents, train_conts = find_negation_idxs(mnli[\"train\"])\n",
    "val_ents, val_conts = find_negation_idxs(mnli[\"validation_matched\"])"
   ]
  },
  {
   "cell_type": "code",
   "execution_count": 34,
   "id": "298c4951-675c-47bb-a1b1-5a6cbb8153af",
   "metadata": {},
   "outputs": [],
   "source": [
    "all_indices = {\"train_ents\" : train_ents, \"train_conts\" : train_conts, \"val_ents\" : val_ents, \"val_conts\" : val_conts}"
   ]
  },
  {
   "cell_type": "code",
   "execution_count": 41,
   "id": "bd07aebc-eba5-4be8-aeae-53eb98d23679",
   "metadata": {},
   "outputs": [],
   "source": [
    "with open(\"/home/meissner/shortcut-pruning/data/subsets/mnli_negation_indices.json\", \"w\") as _file:\n",
    "    _file.write(json.dumps(all_indices))"
   ]
  },
  {
   "cell_type": "code",
   "execution_count": 38,
   "id": "14115709-6585-45c1-bfda-f4884aaeff6e",
   "metadata": {},
   "outputs": [],
   "source": [
    "!mkdir /home/meissner/shortcut-pruning/data/subsets/"
   ]
  },
  {
   "cell_type": "code",
   "execution_count": null,
   "id": "18a13d43-664d-4b5e-a8ee-86818a5c717a",
   "metadata": {},
   "outputs": [],
   "source": []
  }
 ],
 "metadata": {
  "kernelspec": {
   "display_name": "Python 3 (ipykernel)",
   "language": "python",
   "name": "python3"
  },
  "language_info": {
   "codemirror_mode": {
    "name": "ipython",
    "version": 3
   },
   "file_extension": ".py",
   "mimetype": "text/x-python",
   "name": "python",
   "nbconvert_exporter": "python",
   "pygments_lexer": "ipython3",
   "version": "3.8.12"
  }
 },
 "nbformat": 4,
 "nbformat_minor": 5
}
