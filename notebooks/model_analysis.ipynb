{
 "cells": [
  {
   "cell_type": "markdown",
   "id": "7040cfb3-22ec-4d1e-905d-8bfa58f51f23",
   "metadata": {},
   "source": [
    "## Preparation"
   ]
  },
  {
   "cell_type": "code",
   "execution_count": 26,
   "id": "505f3eed-b0f2-4a74-a3cf-88df2ea7cb38",
   "metadata": {},
   "outputs": [],
   "source": [
    "# Imports\n",
    "import json\n",
    "import torch\n",
    "import datasets\n",
    "import numpy as np\n",
    "import pandas as pd\n",
    "from scipy.stats import entropy\n",
    "import matplotlib.pyplot as plt"
   ]
  },
  {
   "cell_type": "code",
   "execution_count": 2,
   "id": "4bd2ab5d-2a90-41dc-a181-415876541722",
   "metadata": {},
   "outputs": [],
   "source": [
    "# Load files\n",
    "def load_probs(path):\n",
    "    with open(path, \"r\") as _file:\n",
    "        probs = json.load(_file)\n",
    "    return probs\n",
    "\n",
    "tiny_mnli_path = \"/home/meissner/shortcut-pruning/data/weak_models/tinybert/mnli/tiny-mnli-\"\n",
    "undertrain_mnli_path = \"/home/meissner/shortcut-pruning/data/weak_models/undertrained/mnli/undertrain-mnli-\"\n",
    "epochs_comp_path = \"/home/meissner/shortcut-pruning/data/weak_models/undertrained/mnli/confidence_exp/epoch-\"\n",
    "tiny_mnlis = [load_probs(tiny_mnli_path + \"1\" + str(i) + \".json\") for i in range(5)]\n",
    "undertrain_mnlis = [load_probs(undertrain_mnli_path + \"1\" + str(i) + \".json\") for i in range(5)]\n",
    "undertrain_epochs_comp = [load_probs(epochs_comp_path + str(i) + \".json\") for i in range(1,6)]"
   ]
  },
  {
   "cell_type": "code",
   "execution_count": 3,
   "id": "721af82b-3342-476b-bcdf-b87fa8664c3c",
   "metadata": {},
   "outputs": [
    {
     "data": {
      "text/plain": [
       "[('0', [0.768073558807373, 0.17574362456798553, 0.056182861328125]),\n",
       " ('1', [0.8410807251930237, 0.08569326996803284, 0.07322598248720169]),\n",
       " ('2', [0.1369360387325287, 0.665156900882721, 0.1979069858789444]),\n",
       " ('3', [0.8453270196914673, 0.07444250583648682, 0.08023039251565933]),\n",
       " ('4', [0.8367674350738525, 0.10277853161096573, 0.060453951358795166])]"
      ]
     },
     "execution_count": 3,
     "metadata": {},
     "output_type": "execute_result"
    }
   ],
   "source": [
    "list(tiny_mnlis[0].items())[:5]"
   ]
  },
  {
   "cell_type": "code",
   "execution_count": 4,
   "id": "be31bad1-34bc-4f99-9a4b-ffeecfea52c3",
   "metadata": {},
   "outputs": [
    {
     "data": {
      "text/plain": [
       "[[0.768073558807373, 0.17574362456798553, 0.056182861328125],\n",
       " [0.8410807251930237, 0.08569326996803284, 0.07322598248720169],\n",
       " [0.1369360387325287, 0.665156900882721, 0.1979069858789444],\n",
       " [0.8453270196914673, 0.07444250583648682, 0.08023039251565933],\n",
       " [0.8367674350738525, 0.10277853161096573, 0.060453951358795166]]"
      ]
     },
     "execution_count": 4,
     "metadata": {},
     "output_type": "execute_result"
    }
   ],
   "source": [
    "list(tiny_mnlis[0].values())[:5]"
   ]
  },
  {
   "cell_type": "code",
   "execution_count": 5,
   "id": "4c7e8ec4-d1fb-4c5e-96a6-f2bab7f6610f",
   "metadata": {},
   "outputs": [],
   "source": [
    "tiny_arrays = np.array([list(element.values()) for element in tiny_mnlis])\n",
    "under_arrays = np.array([list(element.values()) for element in undertrain_mnlis])"
   ]
  },
  {
   "cell_type": "code",
   "execution_count": 6,
   "id": "2a242570-1b0e-4ed7-a7b0-d1b954ff698a",
   "metadata": {},
   "outputs": [
    {
     "data": {
      "text/plain": [
       "array([[0.76807356, 0.17574362, 0.05618286],\n",
       "       [0.84108073, 0.08569327, 0.07322598],\n",
       "       [0.13693604, 0.6651569 , 0.19790699],\n",
       "       [0.84532702, 0.07444251, 0.08023039],\n",
       "       [0.83676744, 0.10277853, 0.06045395]])"
      ]
     },
     "execution_count": 6,
     "metadata": {},
     "output_type": "execute_result"
    }
   ],
   "source": [
    "tiny_arrays[0][:5]"
   ]
  },
  {
   "cell_type": "markdown",
   "id": "5cb6e59f-5834-419c-9aa2-7033e602b577",
   "metadata": {},
   "source": [
    "## Stability across seeds"
   ]
  },
  {
   "cell_type": "code",
   "execution_count": 7,
   "id": "76a407f9-2c64-4815-a068-c62771f49b41",
   "metadata": {},
   "outputs": [
    {
     "data": {
      "image/png": "[encoded data removed]",
      "text/plain": [
       "<Figure size 432x288 with 1 Axes>"
      ]
     },
     "metadata": {
      "needs_background": "light"
     },
     "output_type": "display_data"
    }
   ],
   "source": [
    "tiny_stdmean, under_stdmean = tiny_arrays.std(axis=0).mean(axis=0), under_arrays.std(axis=0).mean(axis=0)\n",
    "fig, ax = plt.subplots()\n",
    "index = np.arange(3)\n",
    "bar_width = 0.35\n",
    "ax.bar(index, tiny_stdmean, bar_width, label=\"Underparam.\")\n",
    "ax.bar(index+bar_width, under_stdmean, bar_width, label=\"Undertrained\")\n",
    "\n",
    "ax.set_xlabel('Label')\n",
    "ax.set_ylabel('Average of Standard Deviations')\n",
    "ax.set_xticks(index + bar_width / 2)\n",
    "ax.set_xticklabels([\"Entail.\", \"Neutral\", \"Cont\"])\n",
    "ax.legend()\n",
    "\n",
    "plt.show()"
   ]
  },
  {
   "cell_type": "markdown",
   "id": "92db1970-fe0e-46c6-b404-7bdde8633880",
   "metadata": {},
   "source": [
    "## Undertrained vs underparameterized"
   ]
  },
  {
   "cell_type": "code",
   "execution_count": 8,
   "id": "4561da11-5aba-463b-96cd-d76dc6afdcbf",
   "metadata": {
    "collapsed": true,
    "jupyter": {
     "outputs_hidden": true
    },
    "tags": []
   },
   "outputs": [
    {
     "ename": "KeyboardInterrupt",
     "evalue": "",
     "output_type": "error",
     "traceback": [
      "\u001b[0;31m---------------------------------------------------------------------------\u001b[0m",
      "\u001b[0;31mKeyboardInterrupt\u001b[0m                         Traceback (most recent call last)",
      "\u001b[0;32m/tmp/ipykernel_2952722/1222518257.py\u001b[0m in \u001b[0;36m<module>\u001b[0;34m\u001b[0m\n\u001b[1;32m      1\u001b[0m \u001b[0;31m# Compare average entropy of undertrain vs tiny\u001b[0m\u001b[0;34m\u001b[0m\u001b[0;34m\u001b[0m\u001b[0;34m\u001b[0m\u001b[0m\n\u001b[0;32m----> 2\u001b[0;31m \u001b[0mtiny_entropies\u001b[0m \u001b[0;34m=\u001b[0m \u001b[0;34m[\u001b[0m\u001b[0mnp\u001b[0m\u001b[0;34m.\u001b[0m\u001b[0mapply_along_axis\u001b[0m\u001b[0;34m(\u001b[0m\u001b[0mentropy\u001b[0m\u001b[0;34m,\u001b[0m \u001b[0maxis\u001b[0m\u001b[0;34m=\u001b[0m\u001b[0;36m1\u001b[0m\u001b[0;34m,\u001b[0m \u001b[0marr\u001b[0m\u001b[0;34m=\u001b[0m\u001b[0mtiny_array\u001b[0m\u001b[0;34m)\u001b[0m \u001b[0;32mfor\u001b[0m \u001b[0mtiny_array\u001b[0m \u001b[0;32min\u001b[0m \u001b[0mtiny_arrays\u001b[0m\u001b[0;34m]\u001b[0m\u001b[0;34m\u001b[0m\u001b[0;34m\u001b[0m\u001b[0m\n\u001b[0m\u001b[1;32m      3\u001b[0m \u001b[0mtiny_entropies\u001b[0m \u001b[0;34m=\u001b[0m \u001b[0;34m[\u001b[0m\u001b[0mnp\u001b[0m\u001b[0;34m.\u001b[0m\u001b[0mmean\u001b[0m\u001b[0;34m(\u001b[0m\u001b[0mtiny_entropy\u001b[0m\u001b[0;34m)\u001b[0m \u001b[0;32mfor\u001b[0m \u001b[0mtiny_entropy\u001b[0m \u001b[0;32min\u001b[0m \u001b[0mtiny_entropies\u001b[0m\u001b[0;34m]\u001b[0m\u001b[0;34m\u001b[0m\u001b[0;34m\u001b[0m\u001b[0m\n",
      "\u001b[0;32m/tmp/ipykernel_2952722/1222518257.py\u001b[0m in \u001b[0;36m<listcomp>\u001b[0;34m(.0)\u001b[0m\n\u001b[1;32m      1\u001b[0m \u001b[0;31m# Compare average entropy of undertrain vs tiny\u001b[0m\u001b[0;34m\u001b[0m\u001b[0;34m\u001b[0m\u001b[0;34m\u001b[0m\u001b[0m\n\u001b[0;32m----> 2\u001b[0;31m \u001b[0mtiny_entropies\u001b[0m \u001b[0;34m=\u001b[0m \u001b[0;34m[\u001b[0m\u001b[0mnp\u001b[0m\u001b[0;34m.\u001b[0m\u001b[0mapply_along_axis\u001b[0m\u001b[0;34m(\u001b[0m\u001b[0mentropy\u001b[0m\u001b[0;34m,\u001b[0m \u001b[0maxis\u001b[0m\u001b[0;34m=\u001b[0m\u001b[0;36m1\u001b[0m\u001b[0;34m,\u001b[0m \u001b[0marr\u001b[0m\u001b[0;34m=\u001b[0m\u001b[0mtiny_array\u001b[0m\u001b[0;34m)\u001b[0m \u001b[0;32mfor\u001b[0m \u001b[0mtiny_array\u001b[0m \u001b[0;32min\u001b[0m \u001b[0mtiny_arrays\u001b[0m\u001b[0;34m]\u001b[0m\u001b[0;34m\u001b[0m\u001b[0;34m\u001b[0m\u001b[0m\n\u001b[0m\u001b[1;32m      3\u001b[0m \u001b[0mtiny_entropies\u001b[0m \u001b[0;34m=\u001b[0m \u001b[0;34m[\u001b[0m\u001b[0mnp\u001b[0m\u001b[0;34m.\u001b[0m\u001b[0mmean\u001b[0m\u001b[0;34m(\u001b[0m\u001b[0mtiny_entropy\u001b[0m\u001b[0;34m)\u001b[0m \u001b[0;32mfor\u001b[0m \u001b[0mtiny_entropy\u001b[0m \u001b[0;32min\u001b[0m \u001b[0mtiny_entropies\u001b[0m\u001b[0;34m]\u001b[0m\u001b[0;34m\u001b[0m\u001b[0;34m\u001b[0m\u001b[0m\n",
      "\u001b[0;32m<__array_function__ internals>\u001b[0m in \u001b[0;36mapply_along_axis\u001b[0;34m(*args, **kwargs)\u001b[0m\n",
      "\u001b[0;32m~/miniconda3/envs/lightning/lib/python3.8/site-packages/numpy/lib/shape_base.py\u001b[0m in \u001b[0;36mapply_along_axis\u001b[0;34m(func1d, axis, arr, *args, **kwargs)\u001b[0m\n\u001b[1;32m    400\u001b[0m     \u001b[0mbuff\u001b[0m\u001b[0;34m[\u001b[0m\u001b[0mind0\u001b[0m\u001b[0;34m]\u001b[0m \u001b[0;34m=\u001b[0m \u001b[0mres\u001b[0m\u001b[0;34m\u001b[0m\u001b[0;34m\u001b[0m\u001b[0m\n\u001b[1;32m    401\u001b[0m     \u001b[0;32mfor\u001b[0m \u001b[0mind\u001b[0m \u001b[0;32min\u001b[0m \u001b[0minds\u001b[0m\u001b[0;34m:\u001b[0m\u001b[0;34m\u001b[0m\u001b[0;34m\u001b[0m\u001b[0m\n\u001b[0;32m--> 402\u001b[0;31m         \u001b[0mbuff\u001b[0m\u001b[0;34m[\u001b[0m\u001b[0mind\u001b[0m\u001b[0;34m]\u001b[0m \u001b[0;34m=\u001b[0m \u001b[0masanyarray\u001b[0m\u001b[0;34m(\u001b[0m\u001b[0mfunc1d\u001b[0m\u001b[0;34m(\u001b[0m\u001b[0minarr_view\u001b[0m\u001b[0;34m[\u001b[0m\u001b[0mind\u001b[0m\u001b[0;34m]\u001b[0m\u001b[0;34m,\u001b[0m \u001b[0;34m*\u001b[0m\u001b[0margs\u001b[0m\u001b[0;34m,\u001b[0m \u001b[0;34m**\u001b[0m\u001b[0mkwargs\u001b[0m\u001b[0;34m)\u001b[0m\u001b[0;34m)\u001b[0m\u001b[0;34m\u001b[0m\u001b[0;34m\u001b[0m\u001b[0m\n\u001b[0m\u001b[1;32m    403\u001b[0m \u001b[0;34m\u001b[0m\u001b[0m\n\u001b[1;32m    404\u001b[0m     \u001b[0;32mif\u001b[0m \u001b[0;32mnot\u001b[0m \u001b[0misinstance\u001b[0m\u001b[0;34m(\u001b[0m\u001b[0mres\u001b[0m\u001b[0;34m,\u001b[0m \u001b[0mmatrix\u001b[0m\u001b[0;34m)\u001b[0m\u001b[0;34m:\u001b[0m\u001b[0;34m\u001b[0m\u001b[0;34m\u001b[0m\u001b[0m\n",
      "\u001b[0;32m~/miniconda3/envs/lightning/lib/python3.8/site-packages/scipy/stats/_entropy.py\u001b[0m in \u001b[0;36mentropy\u001b[0;34m(pk, qk, base, axis)\u001b[0m\n\u001b[1;32m     78\u001b[0m         \u001b[0mqk\u001b[0m \u001b[0;34m=\u001b[0m \u001b[0;36m1.0\u001b[0m\u001b[0;34m*\u001b[0m\u001b[0mqk\u001b[0m \u001b[0;34m/\u001b[0m \u001b[0mnp\u001b[0m\u001b[0;34m.\u001b[0m\u001b[0msum\u001b[0m\u001b[0;34m(\u001b[0m\u001b[0mqk\u001b[0m\u001b[0;34m,\u001b[0m \u001b[0maxis\u001b[0m\u001b[0;34m=\u001b[0m\u001b[0maxis\u001b[0m\u001b[0;34m,\u001b[0m \u001b[0mkeepdims\u001b[0m\u001b[0;34m=\u001b[0m\u001b[0;32mTrue\u001b[0m\u001b[0;34m)\u001b[0m\u001b[0;34m\u001b[0m\u001b[0;34m\u001b[0m\u001b[0m\n\u001b[1;32m     79\u001b[0m         \u001b[0mvec\u001b[0m \u001b[0;34m=\u001b[0m \u001b[0mspecial\u001b[0m\u001b[0;34m.\u001b[0m\u001b[0mrel_entr\u001b[0m\u001b[0;34m(\u001b[0m\u001b[0mpk\u001b[0m\u001b[0;34m,\u001b[0m \u001b[0mqk\u001b[0m\u001b[0;34m)\u001b[0m\u001b[0;34m\u001b[0m\u001b[0;34m\u001b[0m\u001b[0m\n\u001b[0;32m---> 80\u001b[0;31m     \u001b[0mS\u001b[0m \u001b[0;34m=\u001b[0m \u001b[0mnp\u001b[0m\u001b[0;34m.\u001b[0m\u001b[0msum\u001b[0m\u001b[0;34m(\u001b[0m\u001b[0mvec\u001b[0m\u001b[0;34m,\u001b[0m \u001b[0maxis\u001b[0m\u001b[0;34m=\u001b[0m\u001b[0maxis\u001b[0m\u001b[0;34m)\u001b[0m\u001b[0;34m\u001b[0m\u001b[0;34m\u001b[0m\u001b[0m\n\u001b[0m\u001b[1;32m     81\u001b[0m     \u001b[0;32mif\u001b[0m \u001b[0mbase\u001b[0m \u001b[0;32mis\u001b[0m \u001b[0;32mnot\u001b[0m \u001b[0;32mNone\u001b[0m\u001b[0;34m:\u001b[0m\u001b[0;34m\u001b[0m\u001b[0;34m\u001b[0m\u001b[0m\n\u001b[1;32m     82\u001b[0m         \u001b[0mS\u001b[0m \u001b[0;34m/=\u001b[0m \u001b[0mnp\u001b[0m\u001b[0;34m.\u001b[0m\u001b[0mlog\u001b[0m\u001b[0;34m(\u001b[0m\u001b[0mbase\u001b[0m\u001b[0;34m)\u001b[0m\u001b[0;34m\u001b[0m\u001b[0;34m\u001b[0m\u001b[0m\n",
      "\u001b[0;32m<__array_function__ internals>\u001b[0m in \u001b[0;36msum\u001b[0;34m(*args, **kwargs)\u001b[0m\n",
      "\u001b[0;32m~/miniconda3/envs/lightning/lib/python3.8/site-packages/numpy/core/fromnumeric.py\u001b[0m in \u001b[0;36msum\u001b[0;34m(a, axis, dtype, out, keepdims, initial, where)\u001b[0m\n\u001b[1;32m   2239\u001b[0m         \u001b[0;32mreturn\u001b[0m \u001b[0mres\u001b[0m\u001b[0;34m\u001b[0m\u001b[0;34m\u001b[0m\u001b[0m\n\u001b[1;32m   2240\u001b[0m \u001b[0;34m\u001b[0m\u001b[0m\n\u001b[0;32m-> 2241\u001b[0;31m     return _wrapreduction(a, np.add, 'sum', axis, dtype, out, keepdims=keepdims,\n\u001b[0m\u001b[1;32m   2242\u001b[0m                           initial=initial, where=where)\n\u001b[1;32m   2243\u001b[0m \u001b[0;34m\u001b[0m\u001b[0m\n",
      "\u001b[0;32m~/miniconda3/envs/lightning/lib/python3.8/site-packages/numpy/core/fromnumeric.py\u001b[0m in \u001b[0;36m_wrapreduction\u001b[0;34m(obj, ufunc, method, axis, dtype, out, **kwargs)\u001b[0m\n\u001b[1;32m     85\u001b[0m                 \u001b[0;32mreturn\u001b[0m \u001b[0mreduction\u001b[0m\u001b[0;34m(\u001b[0m\u001b[0maxis\u001b[0m\u001b[0;34m=\u001b[0m\u001b[0maxis\u001b[0m\u001b[0;34m,\u001b[0m \u001b[0mout\u001b[0m\u001b[0;34m=\u001b[0m\u001b[0mout\u001b[0m\u001b[0;34m,\u001b[0m \u001b[0;34m**\u001b[0m\u001b[0mpasskwargs\u001b[0m\u001b[0;34m)\u001b[0m\u001b[0;34m\u001b[0m\u001b[0;34m\u001b[0m\u001b[0m\n\u001b[1;32m     86\u001b[0m \u001b[0;34m\u001b[0m\u001b[0m\n\u001b[0;32m---> 87\u001b[0;31m     \u001b[0;32mreturn\u001b[0m \u001b[0mufunc\u001b[0m\u001b[0;34m.\u001b[0m\u001b[0mreduce\u001b[0m\u001b[0;34m(\u001b[0m\u001b[0mobj\u001b[0m\u001b[0;34m,\u001b[0m \u001b[0maxis\u001b[0m\u001b[0;34m,\u001b[0m \u001b[0mdtype\u001b[0m\u001b[0;34m,\u001b[0m \u001b[0mout\u001b[0m\u001b[0;34m,\u001b[0m \u001b[0;34m**\u001b[0m\u001b[0mpasskwargs\u001b[0m\u001b[0;34m)\u001b[0m\u001b[0;34m\u001b[0m\u001b[0;34m\u001b[0m\u001b[0m\n\u001b[0m\u001b[1;32m     88\u001b[0m \u001b[0;34m\u001b[0m\u001b[0m\n\u001b[1;32m     89\u001b[0m \u001b[0;34m\u001b[0m\u001b[0m\n",
      "\u001b[0;31mKeyboardInterrupt\u001b[0m: "
     ]
    }
   ],
   "source": [
    "# Compare average entropy of undertrain vs tiny\n",
    "tiny_entropies = [np.apply_along_axis(entropy, axis=1, arr=tiny_array) for tiny_array in tiny_arrays]\n",
    "tiny_entropies = [np.mean(tiny_entropy) for tiny_entropy in tiny_entropies]"
   ]
  },
  {
   "cell_type": "code",
   "execution_count": null,
   "id": "c25a58f3-d3bc-4b33-b8b4-263fd5aa160d",
   "metadata": {},
   "outputs": [],
   "source": [
    "under_entropies = [np.apply_along_axis(entropy, axis=1, arr=under_array) for under_array in under_arrays]\n",
    "under_entropies = [np.mean(under_entropy) for under_entropy in under_entropies]"
   ]
  },
  {
   "cell_type": "code",
   "execution_count": null,
   "id": "f3be011d-7197-450f-841a-a76e2cd644be",
   "metadata": {},
   "outputs": [],
   "source": [
    "data = np.array([under_entropies, tiny_entropies]).transpose() # matplotlib wants each vector in one column"
   ]
  },
  {
   "cell_type": "code",
   "execution_count": null,
   "id": "cf1fafb3-312b-4f9f-beff-7f11f008596c",
   "metadata": {},
   "outputs": [],
   "source": [
    "data"
   ]
  },
  {
   "cell_type": "code",
   "execution_count": null,
   "id": "4a19f380-e13a-4296-b0ca-0d2424b1d6db",
   "metadata": {},
   "outputs": [],
   "source": [
    "plt.boxplot(data, labels=[\"Undertrained\", \"Underparam.\"])\n",
    "plt.ylabel(\"Entropy\")\n",
    "plt.show()"
   ]
  },
  {
   "cell_type": "markdown",
   "id": "fc5582bb-c98a-48b1-80cd-6fa92513e931",
   "metadata": {},
   "source": [
    "## Undertrained confidence across epochs"
   ]
  },
  {
   "cell_type": "code",
   "execution_count": null,
   "id": "52c5141e-517d-4d4d-8d9b-66f69f237a2b",
   "metadata": {},
   "outputs": [],
   "source": [
    "# Plot entropy across epochs\n",
    "comp_arrays = np.array([list(element.values()) for element in undertrain_epochs_comp])\n",
    "comp_arrays[0].shape"
   ]
  },
  {
   "cell_type": "code",
   "execution_count": null,
   "id": "163b6fc5-d4bb-4ee4-9ee9-e05b05427697",
   "metadata": {},
   "outputs": [],
   "source": [
    "comp_entropies = [np.apply_along_axis(entropy, axis=1, arr=array) for array in comp_arrays]\n",
    "comp_entropies = [np.mean(array) for array in comp_entropies]"
   ]
  },
  {
   "cell_type": "code",
   "execution_count": null,
   "id": "4310e924-52a7-4ded-a0f3-0b4cfc716919",
   "metadata": {},
   "outputs": [],
   "source": [
    "# Taken from Wandb\n",
    "hans_acc = [0.5559, 0.6413, 0.5716, 0.6087, 0.5927]\n",
    "m_hard_acc = [0.7473, 0.7571, 0.7434, 0.749, 0.7308]"
   ]
  },
  {
   "cell_type": "code",
   "execution_count": null,
   "id": "db9025db-73d7-493b-88ad-a74dffcecb25",
   "metadata": {},
   "outputs": [],
   "source": [
    "plt.plot(range(1,6), comp_entropies)\n",
    "# plt.xlim([0,6])\n",
    "plt.xlabel(\"Train Epochs\")\n",
    "plt.ylabel(\"Entropy\")\n",
    "plt.show()"
   ]
  },
  {
   "cell_type": "code",
   "execution_count": null,
   "id": "fc4622da-2831-440e-90d8-0aee2dc0d4c9",
   "metadata": {},
   "outputs": [],
   "source": [
    "fig, ax1 = plt.subplots()\n",
    "epochs = range(1,6)\n",
    "\n",
    "ax1.set_xlabel(\"Train Epochs\")\n",
    "ax1.set_ylabel(\"Entropy\")\n",
    "ax1.plot(epochs, comp_entropies, label=\"Eentropy\")\n",
    "\n",
    "ax2 = ax1.twinx()  # instantiate a second axes that shares the same x-axis\n",
    "\n",
    "# color = 'tab:blue'\n",
    "ax2.set_ylabel('Challenge Set Accuracy')\n",
    "ax2.plot(epochs, hans_acc, label=\"HANS\", color=\"slategray\")\n",
    "ax2.plot(epochs, m_hard_acc, label=\"MNLI Hard\", color=\"brown\")\n",
    "\n",
    "fig.legend()\n",
    "fig.tight_layout()  # otherwise the right y-label is slightly clipped\n",
    "plt.show()"
   ]
  },
  {
   "cell_type": "markdown",
   "id": "aa7f72fb-1b1f-4e39-8513-7911f5617e4f",
   "metadata": {},
   "source": [
    "## Weak model subset performance"
   ]
  },
  {
   "cell_type": "code",
   "execution_count": 9,
   "id": "e10cec67-6993-459c-9ede-fe0e9bfd1601",
   "metadata": {},
   "outputs": [],
   "source": [
    "with open(\"/home/meissner/shortcut-pruning/data/subsets/mnli_negation_indices.json\", \"r\") as _file:\n",
    "    indices = json.loads(_file.read())"
   ]
  },
  {
   "cell_type": "code",
   "execution_count": 11,
   "id": "dc23d939-07b5-44b1-90b6-70e57a30540c",
   "metadata": {},
   "outputs": [],
   "source": [
    "train_conts = np.array(indices[\"train_conts\"])\n",
    "train_ents = np.array(indices[\"train_ents\"])\n",
    "val_conts = np.array(indices[\"val_m_conts\"])\n",
    "val_ents = np.array(indices[\"val_m_ents\"])"
   ]
  },
  {
   "cell_type": "code",
   "execution_count": 12,
   "id": "dc19f89d-b990-424a-83ad-3fcf62c316a1",
   "metadata": {},
   "outputs": [],
   "source": [
    "tiny_cont_mean = (tiny_arrays[:, train_conts, :].argmax(axis=2) == 2).mean()"
   ]
  },
  {
   "cell_type": "code",
   "execution_count": 13,
   "id": "05d2ccf2-fef3-4703-ab4f-35d7cd103d32",
   "metadata": {},
   "outputs": [],
   "source": [
    "tiny_ent_mean = (tiny_arrays[:, train_ents, :].argmax(axis=2) == 0).mean()"
   ]
  },
  {
   "cell_type": "code",
   "execution_count": 14,
   "id": "d56b1ad2-d0c3-4ce4-91ef-f9d4f1ce3c81",
   "metadata": {},
   "outputs": [],
   "source": [
    "under_cont_mean = (under_arrays[:, train_conts, :].argmax(axis=2) == 2).mean()"
   ]
  },
  {
   "cell_type": "code",
   "execution_count": 15,
   "id": "e8b9ec9e-49d8-445b-ae45-629c090a797c",
   "metadata": {},
   "outputs": [],
   "source": [
    "under_ent_mean = (under_arrays[:, train_ents, :].argmax(axis=2) == 0).mean()"
   ]
  },
  {
   "cell_type": "code",
   "execution_count": 16,
   "id": "a46f864e-bff5-47b8-96bd-c9d7836902b8",
   "metadata": {},
   "outputs": [
    {
     "data": {
      "image/png": "[encoded data removed]",
      "text/plain": [
       "<Figure size 432x288 with 1 Axes>"
      ]
     },
     "metadata": {
      "needs_background": "light"
     },
     "output_type": "display_data"
    }
   ],
   "source": [
    "fig, ax = plt.subplots()\n",
    "index = np.arange(2)\n",
    "bar_width = 0.20\n",
    "ax.bar(index, [tiny_cont_mean, tiny_ent_mean], bar_width, label=\"Underparam.\")\n",
    "ax.bar(index+bar_width, [under_cont_mean, under_ent_mean], bar_width, label=\"Undertrained\")\n",
    "\n",
    "ax.set_xlabel('Label')\n",
    "ax.set_ylabel('Accuracy')\n",
    "ax.set_xticks(index + bar_width / 2)\n",
    "ax.set_xticklabels([\"Contradiction\", \"Entailment\"])\n",
    "ax.set_title('Average performance in the \"negation in hypothesis\" subset.')\n",
    "ax.legend()\n",
    "\n",
    "plt.show()"
   ]
  },
  {
   "cell_type": "markdown",
   "id": "5656c1c9-e135-473f-b4e2-b4c0e5f2c93b",
   "metadata": {},
   "source": [
    "## Subset Training Dynamics"
   ]
  },
  {
   "cell_type": "code",
   "execution_count": 17,
   "id": "4a5d8675-17a3-45ac-b42c-a41f9faca87c",
   "metadata": {},
   "outputs": [],
   "source": [
    "# Short + High Precision Run\n",
    "\n",
    "base_path = \"/remote/csifs1/disk0/meissner/shortcut-pruning/experiments/record_preds/800_it_train_20_step/runs/2022-04-25/14-55-07/\"\n",
    "batch_size = 32\n",
    "recording_rate = 20"
   ]
  },
  {
   "cell_type": "code",
   "execution_count": 18,
   "id": "6ba2103d-2a72-4d8b-a6dd-72a19949a137",
   "metadata": {},
   "outputs": [],
   "source": [
    "# Longer and Lower Precision Run\n",
    "\n",
    "# base_path = \"/remote/csifs1/disk0/meissner/shortcut-pruning/experiments/record_preds/50_percent_train_200_step/multiruns/2022-04-24/18-55-00/0/\"\n",
    "# batch_size = 32\n",
    "# recording_rate = 200"
   ]
  },
  {
   "cell_type": "code",
   "execution_count": 19,
   "id": "a764ecc8-2c24-4727-9ee4-adca4e88937c",
   "metadata": {
    "collapsed": true,
    "jupyter": {
     "outputs_hidden": true
    },
    "tags": []
   },
   "outputs": [
    {
     "data": {
      "text/plain": [
       "(['/remote/csifs1/disk0/meissner/shortcut-pruning/experiments/record_preds/800_it_train_20_step/runs/2022-04-25/14-55-07/train_predictions/0.npy',\n",
       "  '/remote/csifs1/disk0/meissner/shortcut-pruning/experiments/record_preds/800_it_train_20_step/runs/2022-04-25/14-55-07/train_predictions/1.npy',\n",
       "  '/remote/csifs1/disk0/meissner/shortcut-pruning/experiments/record_preds/800_it_train_20_step/runs/2022-04-25/14-55-07/train_predictions/2.npy',\n",
       "  '/remote/csifs1/disk0/meissner/shortcut-pruning/experiments/record_preds/800_it_train_20_step/runs/2022-04-25/14-55-07/train_predictions/3.npy',\n",
       "  '/remote/csifs1/disk0/meissner/shortcut-pruning/experiments/record_preds/800_it_train_20_step/runs/2022-04-25/14-55-07/train_predictions/4.npy',\n",
       "  '/remote/csifs1/disk0/meissner/shortcut-pruning/experiments/record_preds/800_it_train_20_step/runs/2022-04-25/14-55-07/train_predictions/5.npy',\n",
       "  '/remote/csifs1/disk0/meissner/shortcut-pruning/experiments/record_preds/800_it_train_20_step/runs/2022-04-25/14-55-07/train_predictions/6.npy',\n",
       "  '/remote/csifs1/disk0/meissner/shortcut-pruning/experiments/record_preds/800_it_train_20_step/runs/2022-04-25/14-55-07/train_predictions/7.npy',\n",
       "  '/remote/csifs1/disk0/meissner/shortcut-pruning/experiments/record_preds/800_it_train_20_step/runs/2022-04-25/14-55-07/train_predictions/8.npy',\n",
       "  '/remote/csifs1/disk0/meissner/shortcut-pruning/experiments/record_preds/800_it_train_20_step/runs/2022-04-25/14-55-07/train_predictions/9.npy',\n",
       "  '/remote/csifs1/disk0/meissner/shortcut-pruning/experiments/record_preds/800_it_train_20_step/runs/2022-04-25/14-55-07/train_predictions/10.npy',\n",
       "  '/remote/csifs1/disk0/meissner/shortcut-pruning/experiments/record_preds/800_it_train_20_step/runs/2022-04-25/14-55-07/train_predictions/11.npy',\n",
       "  '/remote/csifs1/disk0/meissner/shortcut-pruning/experiments/record_preds/800_it_train_20_step/runs/2022-04-25/14-55-07/train_predictions/12.npy',\n",
       "  '/remote/csifs1/disk0/meissner/shortcut-pruning/experiments/record_preds/800_it_train_20_step/runs/2022-04-25/14-55-07/train_predictions/13.npy',\n",
       "  '/remote/csifs1/disk0/meissner/shortcut-pruning/experiments/record_preds/800_it_train_20_step/runs/2022-04-25/14-55-07/train_predictions/14.npy',\n",
       "  '/remote/csifs1/disk0/meissner/shortcut-pruning/experiments/record_preds/800_it_train_20_step/runs/2022-04-25/14-55-07/train_predictions/15.npy',\n",
       "  '/remote/csifs1/disk0/meissner/shortcut-pruning/experiments/record_preds/800_it_train_20_step/runs/2022-04-25/14-55-07/train_predictions/16.npy',\n",
       "  '/remote/csifs1/disk0/meissner/shortcut-pruning/experiments/record_preds/800_it_train_20_step/runs/2022-04-25/14-55-07/train_predictions/17.npy',\n",
       "  '/remote/csifs1/disk0/meissner/shortcut-pruning/experiments/record_preds/800_it_train_20_step/runs/2022-04-25/14-55-07/train_predictions/18.npy',\n",
       "  '/remote/csifs1/disk0/meissner/shortcut-pruning/experiments/record_preds/800_it_train_20_step/runs/2022-04-25/14-55-07/train_predictions/19.npy',\n",
       "  '/remote/csifs1/disk0/meissner/shortcut-pruning/experiments/record_preds/800_it_train_20_step/runs/2022-04-25/14-55-07/train_predictions/20.npy',\n",
       "  '/remote/csifs1/disk0/meissner/shortcut-pruning/experiments/record_preds/800_it_train_20_step/runs/2022-04-25/14-55-07/train_predictions/21.npy',\n",
       "  '/remote/csifs1/disk0/meissner/shortcut-pruning/experiments/record_preds/800_it_train_20_step/runs/2022-04-25/14-55-07/train_predictions/22.npy',\n",
       "  '/remote/csifs1/disk0/meissner/shortcut-pruning/experiments/record_preds/800_it_train_20_step/runs/2022-04-25/14-55-07/train_predictions/23.npy',\n",
       "  '/remote/csifs1/disk0/meissner/shortcut-pruning/experiments/record_preds/800_it_train_20_step/runs/2022-04-25/14-55-07/train_predictions/24.npy',\n",
       "  '/remote/csifs1/disk0/meissner/shortcut-pruning/experiments/record_preds/800_it_train_20_step/runs/2022-04-25/14-55-07/train_predictions/25.npy',\n",
       "  '/remote/csifs1/disk0/meissner/shortcut-pruning/experiments/record_preds/800_it_train_20_step/runs/2022-04-25/14-55-07/train_predictions/26.npy',\n",
       "  '/remote/csifs1/disk0/meissner/shortcut-pruning/experiments/record_preds/800_it_train_20_step/runs/2022-04-25/14-55-07/train_predictions/27.npy',\n",
       "  '/remote/csifs1/disk0/meissner/shortcut-pruning/experiments/record_preds/800_it_train_20_step/runs/2022-04-25/14-55-07/train_predictions/28.npy',\n",
       "  '/remote/csifs1/disk0/meissner/shortcut-pruning/experiments/record_preds/800_it_train_20_step/runs/2022-04-25/14-55-07/train_predictions/29.npy',\n",
       "  '/remote/csifs1/disk0/meissner/shortcut-pruning/experiments/record_preds/800_it_train_20_step/runs/2022-04-25/14-55-07/train_predictions/30.npy',\n",
       "  '/remote/csifs1/disk0/meissner/shortcut-pruning/experiments/record_preds/800_it_train_20_step/runs/2022-04-25/14-55-07/train_predictions/31.npy',\n",
       "  '/remote/csifs1/disk0/meissner/shortcut-pruning/experiments/record_preds/800_it_train_20_step/runs/2022-04-25/14-55-07/train_predictions/32.npy',\n",
       "  '/remote/csifs1/disk0/meissner/shortcut-pruning/experiments/record_preds/800_it_train_20_step/runs/2022-04-25/14-55-07/train_predictions/33.npy',\n",
       "  '/remote/csifs1/disk0/meissner/shortcut-pruning/experiments/record_preds/800_it_train_20_step/runs/2022-04-25/14-55-07/train_predictions/34.npy',\n",
       "  '/remote/csifs1/disk0/meissner/shortcut-pruning/experiments/record_preds/800_it_train_20_step/runs/2022-04-25/14-55-07/train_predictions/35.npy',\n",
       "  '/remote/csifs1/disk0/meissner/shortcut-pruning/experiments/record_preds/800_it_train_20_step/runs/2022-04-25/14-55-07/train_predictions/36.npy',\n",
       "  '/remote/csifs1/disk0/meissner/shortcut-pruning/experiments/record_preds/800_it_train_20_step/runs/2022-04-25/14-55-07/train_predictions/37.npy',\n",
       "  '/remote/csifs1/disk0/meissner/shortcut-pruning/experiments/record_preds/800_it_train_20_step/runs/2022-04-25/14-55-07/train_predictions/38.npy',\n",
       "  '/remote/csifs1/disk0/meissner/shortcut-pruning/experiments/record_preds/800_it_train_20_step/runs/2022-04-25/14-55-07/train_predictions/39.npy',\n",
       "  '/remote/csifs1/disk0/meissner/shortcut-pruning/experiments/record_preds/800_it_train_20_step/runs/2022-04-25/14-55-07/train_predictions/40.npy'],\n",
       " ['/remote/csifs1/disk0/meissner/shortcut-pruning/experiments/record_preds/800_it_train_20_step/runs/2022-04-25/14-55-07/val_predictions/0.npy',\n",
       "  '/remote/csifs1/disk0/meissner/shortcut-pruning/experiments/record_preds/800_it_train_20_step/runs/2022-04-25/14-55-07/val_predictions/1.npy',\n",
       "  '/remote/csifs1/disk0/meissner/shortcut-pruning/experiments/record_preds/800_it_train_20_step/runs/2022-04-25/14-55-07/val_predictions/2.npy',\n",
       "  '/remote/csifs1/disk0/meissner/shortcut-pruning/experiments/record_preds/800_it_train_20_step/runs/2022-04-25/14-55-07/val_predictions/3.npy',\n",
       "  '/remote/csifs1/disk0/meissner/shortcut-pruning/experiments/record_preds/800_it_train_20_step/runs/2022-04-25/14-55-07/val_predictions/4.npy',\n",
       "  '/remote/csifs1/disk0/meissner/shortcut-pruning/experiments/record_preds/800_it_train_20_step/runs/2022-04-25/14-55-07/val_predictions/5.npy',\n",
       "  '/remote/csifs1/disk0/meissner/shortcut-pruning/experiments/record_preds/800_it_train_20_step/runs/2022-04-25/14-55-07/val_predictions/6.npy',\n",
       "  '/remote/csifs1/disk0/meissner/shortcut-pruning/experiments/record_preds/800_it_train_20_step/runs/2022-04-25/14-55-07/val_predictions/7.npy',\n",
       "  '/remote/csifs1/disk0/meissner/shortcut-pruning/experiments/record_preds/800_it_train_20_step/runs/2022-04-25/14-55-07/val_predictions/8.npy',\n",
       "  '/remote/csifs1/disk0/meissner/shortcut-pruning/experiments/record_preds/800_it_train_20_step/runs/2022-04-25/14-55-07/val_predictions/9.npy',\n",
       "  '/remote/csifs1/disk0/meissner/shortcut-pruning/experiments/record_preds/800_it_train_20_step/runs/2022-04-25/14-55-07/val_predictions/10.npy',\n",
       "  '/remote/csifs1/disk0/meissner/shortcut-pruning/experiments/record_preds/800_it_train_20_step/runs/2022-04-25/14-55-07/val_predictions/11.npy',\n",
       "  '/remote/csifs1/disk0/meissner/shortcut-pruning/experiments/record_preds/800_it_train_20_step/runs/2022-04-25/14-55-07/val_predictions/12.npy',\n",
       "  '/remote/csifs1/disk0/meissner/shortcut-pruning/experiments/record_preds/800_it_train_20_step/runs/2022-04-25/14-55-07/val_predictions/13.npy',\n",
       "  '/remote/csifs1/disk0/meissner/shortcut-pruning/experiments/record_preds/800_it_train_20_step/runs/2022-04-25/14-55-07/val_predictions/14.npy',\n",
       "  '/remote/csifs1/disk0/meissner/shortcut-pruning/experiments/record_preds/800_it_train_20_step/runs/2022-04-25/14-55-07/val_predictions/15.npy',\n",
       "  '/remote/csifs1/disk0/meissner/shortcut-pruning/experiments/record_preds/800_it_train_20_step/runs/2022-04-25/14-55-07/val_predictions/16.npy',\n",
       "  '/remote/csifs1/disk0/meissner/shortcut-pruning/experiments/record_preds/800_it_train_20_step/runs/2022-04-25/14-55-07/val_predictions/17.npy',\n",
       "  '/remote/csifs1/disk0/meissner/shortcut-pruning/experiments/record_preds/800_it_train_20_step/runs/2022-04-25/14-55-07/val_predictions/18.npy',\n",
       "  '/remote/csifs1/disk0/meissner/shortcut-pruning/experiments/record_preds/800_it_train_20_step/runs/2022-04-25/14-55-07/val_predictions/19.npy',\n",
       "  '/remote/csifs1/disk0/meissner/shortcut-pruning/experiments/record_preds/800_it_train_20_step/runs/2022-04-25/14-55-07/val_predictions/20.npy',\n",
       "  '/remote/csifs1/disk0/meissner/shortcut-pruning/experiments/record_preds/800_it_train_20_step/runs/2022-04-25/14-55-07/val_predictions/21.npy',\n",
       "  '/remote/csifs1/disk0/meissner/shortcut-pruning/experiments/record_preds/800_it_train_20_step/runs/2022-04-25/14-55-07/val_predictions/22.npy',\n",
       "  '/remote/csifs1/disk0/meissner/shortcut-pruning/experiments/record_preds/800_it_train_20_step/runs/2022-04-25/14-55-07/val_predictions/23.npy',\n",
       "  '/remote/csifs1/disk0/meissner/shortcut-pruning/experiments/record_preds/800_it_train_20_step/runs/2022-04-25/14-55-07/val_predictions/24.npy',\n",
       "  '/remote/csifs1/disk0/meissner/shortcut-pruning/experiments/record_preds/800_it_train_20_step/runs/2022-04-25/14-55-07/val_predictions/25.npy',\n",
       "  '/remote/csifs1/disk0/meissner/shortcut-pruning/experiments/record_preds/800_it_train_20_step/runs/2022-04-25/14-55-07/val_predictions/26.npy',\n",
       "  '/remote/csifs1/disk0/meissner/shortcut-pruning/experiments/record_preds/800_it_train_20_step/runs/2022-04-25/14-55-07/val_predictions/27.npy',\n",
       "  '/remote/csifs1/disk0/meissner/shortcut-pruning/experiments/record_preds/800_it_train_20_step/runs/2022-04-25/14-55-07/val_predictions/28.npy',\n",
       "  '/remote/csifs1/disk0/meissner/shortcut-pruning/experiments/record_preds/800_it_train_20_step/runs/2022-04-25/14-55-07/val_predictions/29.npy',\n",
       "  '/remote/csifs1/disk0/meissner/shortcut-pruning/experiments/record_preds/800_it_train_20_step/runs/2022-04-25/14-55-07/val_predictions/30.npy',\n",
       "  '/remote/csifs1/disk0/meissner/shortcut-pruning/experiments/record_preds/800_it_train_20_step/runs/2022-04-25/14-55-07/val_predictions/31.npy',\n",
       "  '/remote/csifs1/disk0/meissner/shortcut-pruning/experiments/record_preds/800_it_train_20_step/runs/2022-04-25/14-55-07/val_predictions/32.npy',\n",
       "  '/remote/csifs1/disk0/meissner/shortcut-pruning/experiments/record_preds/800_it_train_20_step/runs/2022-04-25/14-55-07/val_predictions/33.npy',\n",
       "  '/remote/csifs1/disk0/meissner/shortcut-pruning/experiments/record_preds/800_it_train_20_step/runs/2022-04-25/14-55-07/val_predictions/34.npy',\n",
       "  '/remote/csifs1/disk0/meissner/shortcut-pruning/experiments/record_preds/800_it_train_20_step/runs/2022-04-25/14-55-07/val_predictions/35.npy',\n",
       "  '/remote/csifs1/disk0/meissner/shortcut-pruning/experiments/record_preds/800_it_train_20_step/runs/2022-04-25/14-55-07/val_predictions/36.npy',\n",
       "  '/remote/csifs1/disk0/meissner/shortcut-pruning/experiments/record_preds/800_it_train_20_step/runs/2022-04-25/14-55-07/val_predictions/37.npy',\n",
       "  '/remote/csifs1/disk0/meissner/shortcut-pruning/experiments/record_preds/800_it_train_20_step/runs/2022-04-25/14-55-07/val_predictions/38.npy',\n",
       "  '/remote/csifs1/disk0/meissner/shortcut-pruning/experiments/record_preds/800_it_train_20_step/runs/2022-04-25/14-55-07/val_predictions/39.npy',\n",
       "  '/remote/csifs1/disk0/meissner/shortcut-pruning/experiments/record_preds/800_it_train_20_step/runs/2022-04-25/14-55-07/val_predictions/40.npy'])"
      ]
     },
     "execution_count": 19,
     "metadata": {},
     "output_type": "execute_result"
    }
   ],
   "source": [
    "import glob\n",
    "train_files = glob.glob(base_path + \"train_predictions/*.npy\")\n",
    "val_files = glob.glob(base_path + \"val_predictions/*.npy\")\n",
    "num_recordings = len(train_files)\n",
    "\n",
    "# Sanity check: order of files must be the \"natural order\"\n",
    "train_files, val_files"
   ]
  },
  {
   "cell_type": "code",
   "execution_count": 20,
   "id": "456ceff5-914c-40de-a5f6-6ed80f4d6477",
   "metadata": {},
   "outputs": [],
   "source": [
    "train_preds = [np.load(_file) for _file in train_files]\n",
    "val_preds = [np.load(_file) for _file in val_files]"
   ]
  },
  {
   "cell_type": "code",
   "execution_count": 21,
   "id": "4c8db7bc-fde5-40ad-8b4a-47cdca043fe9",
   "metadata": {},
   "outputs": [],
   "source": [
    "steps = [i * batch_size * recording_rate for i in range(num_recordings)]"
   ]
  },
  {
   "cell_type": "code",
   "execution_count": 22,
   "id": "41278596-b347-4942-a366-d2e610106d71",
   "metadata": {},
   "outputs": [],
   "source": [
    "train_cont_levels = [preds[train_conts, 2].mean() for preds in train_preds]\n",
    "train_ent_levels = [preds[train_ents, 0].mean() for preds in train_preds]\n",
    "val_cont_levels = [preds[val_conts, 2].mean() for preds in val_preds]\n",
    "val_ent_levels = [preds[val_ents, 0].mean() for preds in val_preds]"
   ]
  },
  {
   "cell_type": "code",
   "execution_count": 24,
   "id": "b16e6c56-8c51-445f-94ac-5c4f8d39c2c3",
   "metadata": {},
   "outputs": [
    {
     "data": {
      "text/plain": [
       "<matplotlib.legend.Legend at 0x7f9049d84f40>"
      ]
     },
     "execution_count": 24,
     "metadata": {},
     "output_type": "execute_result"
    },
    {
     "data": {
      "image/png": "[encoded data removed]",
      "text/plain": [
       "<Figure size 432x288 with 1 Axes>"
      ]
     },
     "metadata": {
      "needs_background": "light"
     },
     "output_type": "display_data"
    }
   ],
   "source": [
    "plt.plot(steps, train_cont_levels, label=\"Train Contradiction Subset\", color=\"pink\")\n",
    "plt.plot(steps, train_ent_levels, label=\"Train Entailment Subset\", color=\"skyblue\")\n",
    "plt.plot(steps, val_cont_levels, label=\"Val Contradiction Subset\", color=\"crimson\")\n",
    "plt.plot(steps, val_ent_levels, label=\"Val Entailment Subset\", color=\"dodgerblue\")\n",
    "plt.xlabel(\"Num training samples\")\n",
    "plt.ylabel(\"Average model output\")\n",
    "plt.title(\"Average Gold-Label Model Output per Subset\")\n",
    "plt.legend()"
   ]
  },
  {
   "cell_type": "code",
   "execution_count": 39,
   "id": "6e987b0c-ac54-4eb8-b8c9-88378d66ebcb",
   "metadata": {
    "tags": []
   },
   "outputs": [
    {
     "data": {
      "text/plain": [
       "((392702, 3), (9815,))"
      ]
     },
     "execution_count": 39,
     "metadata": {},
     "output_type": "execute_result"
    }
   ],
   "source": [
    "train_preds[0].shape, targets.shape"
   ]
  },
  {
   "cell_type": "code",
   "execution_count": 40,
   "id": "4e98bc78-b62a-495e-a417-4fbace7758d3",
   "metadata": {},
   "outputs": [
    {
     "name": "stderr",
     "output_type": "stream",
     "text": [
      "Reusing dataset glue (/home/meissner/.cache/huggingface/datasets/glue/mnli/1.0.0/dacbe3125aa31d7f70367a07a8a9e72a5a0bfeb5fc42e75c9db75b96da6053ad)\n"
     ]
    },
    {
     "data": {
      "application/vnd.jupyter.widget-view+json": {
       "model_id": "1ae52e0a16d540f78a2e9be19a026e45",
       "version_major": 2,
       "version_minor": 0
      },
      "text/plain": [
       "  0%|          | 0/5 [00:00<?, ?it/s]"
      ]
     },
     "metadata": {},
     "output_type": "display_data"
    },
    {
     "name": "stderr",
     "output_type": "stream",
     "text": [
      "Reusing dataset glue (/home/meissner/.cache/huggingface/datasets/glue/mnli/1.0.0/dacbe3125aa31d7f70367a07a8a9e72a5a0bfeb5fc42e75c9db75b96da6053ad)\n"
     ]
    },
    {
     "data": {
      "application/vnd.jupyter.widget-view+json": {
       "model_id": "51fea15d0fdb4d288b6b59616a860c49",
       "version_major": 2,
       "version_minor": 0
      },
      "text/plain": [
       "  0%|          | 0/5 [00:00<?, ?it/s]"
      ]
     },
     "metadata": {},
     "output_type": "display_data"
    }
   ],
   "source": [
    "train_targets = np.array(datasets.load_dataset(\"glue\", \"mnli\")[\"train\"][\"label\"])\n",
    "val_targets = np.array(datasets.load_dataset(\"glue\", \"mnli\")[\"validation_matched\"][\"label\"])\n",
    "train_acc_bools = [train_pred.argmax(axis=1) == train_targets for train_pred in train_preds]\n",
    "val_acc_bools = [val_pred.argmax(axis=1) == val_targets for val_pred in val_preds]\n",
    "train_cont_acc = [train_acc_bool[train_conts].mean() for train_acc_bool in train_acc_bools]\n",
    "train_ent_acc = [train_acc_bool[train_ents].mean() for train_acc_bool in train_acc_bools]\n",
    "val_cont_acc = [val_acc_bool[val_conts].mean() for val_acc_bool in val_acc_bools]\n",
    "val_ent_acc = [val_acc_bool[val_ents].mean() for val_acc_bool in val_acc_bools]"
   ]
  },
  {
   "cell_type": "code",
   "execution_count": 42,
   "id": "8bcc477f-2772-4b87-ad65-fa7e3f974e8f",
   "metadata": {},
   "outputs": [
    {
     "data": {
      "text/plain": [
       "<matplotlib.legend.Legend at 0x7f903a45c1f0>"
      ]
     },
     "execution_count": 42,
     "metadata": {},
     "output_type": "execute_result"
    },
    {
     "data": {
      "image/png": "[encoded data removed]",
      "text/plain": [
       "<Figure size 432x288 with 1 Axes>"
      ]
     },
     "metadata": {
      "needs_background": "light"
     },
     "output_type": "display_data"
    }
   ],
   "source": [
    "plt.plot(steps, train_cont_acc, label=\"Train Contradiction Subset\", color=\"pink\")\n",
    "plt.plot(steps, train_ent_acc, label=\"Train Entailment Subset\", color=\"skyblue\")\n",
    "plt.plot(steps, val_cont_acc, label=\"Val Contradiction Subset\", color=\"crimson\")\n",
    "plt.plot(steps, val_ent_acc, label=\"Val Entailment Subset\", color=\"dodgerblue\")\n",
    "plt.xlabel(\"Num training samples\")\n",
    "plt.ylabel(\"Average model acc\")\n",
    "plt.title(\"Average Gold-Label Model Output per Subset\")\n",
    "plt.legend()"
   ]
  },
  {
   "cell_type": "markdown",
   "id": "7c24396f-e16b-4232-8381-138dcebfa7fe",
   "metadata": {},
   "source": [
    "## Worst 10%"
   ]
  },
  {
   "cell_type": "code",
   "execution_count": null,
   "id": "72b50e81-b4a5-4213-8b4b-1da517d2eb86",
   "metadata": {},
   "outputs": [],
   "source": [
    "train_dfs = [pd.DataFrame(array) for array in train_preds]\n",
    "val_dfs = [pd.DataFrame(array) for array in val_preds]"
   ]
  },
  {
   "cell_type": "code",
   "execution_count": null,
   "id": "0d68caba-772c-450f-a3a3-1458f26f977c",
   "metadata": {},
   "outputs": [],
   "source": [
    "for df in train_dfs:\n",
    "    df.loc[train_conts, \"label\"] = \"contradiction\"\n",
    "    df.loc[train_conts, \"gold_pred\"] = df[2]\n",
    "    df.loc[train_ents, \"label\"] = \"entailment\"\n",
    "    df.loc[train_ents, \"gold_pred\"] = df[0]\n",
    "    df.drop([0, 1, 2], axis=1, inplace=True)\n",
    "    df.dropna(inplace=True)\n",
    "    \n",
    "for df in val_dfs:\n",
    "    df.loc[val_conts, \"label\"] = \"contradiction\"\n",
    "    df.loc[val_conts, \"gold_pred\"] = df[2]\n",
    "    df.loc[val_ents, \"label\"] = \"entailment\"\n",
    "    df.loc[val_ents, \"gold_pred\"] = df[0]\n",
    "    df.drop([0, 1, 2], axis=1, inplace=True)\n",
    "    df.dropna(inplace=True)"
   ]
  },
  {
   "cell_type": "code",
   "execution_count": null,
   "id": "a58a0a13-1d66-4318-b15f-40b536f047a4",
   "metadata": {},
   "outputs": [],
   "source": [
    "percent = 0.1\n",
    "negation_train_count = len(train_conts) + len(train_ents)\n",
    "negation_val_count = len(val_conts) + len(val_ents)\n",
    "negation_train_count, negation_val_count"
   ]
  },
  {
   "cell_type": "code",
   "execution_count": null,
   "id": "11dc9b57-fed2-4c14-9f92-71a28ff0445f",
   "metadata": {},
   "outputs": [],
   "source": [
    "train_worst = [df.sort_values(\"gold_pred\", ascending=True).head(int(percent * negation_train_count)).groupby(\"label\").count() for df in train_dfs]\n",
    "val_worst = [df.sort_values(\"gold_pred\", ascending=True).head(int(percent * negation_val_count)).groupby(\"label\").count() for df in val_dfs]"
   ]
  },
  {
   "cell_type": "code",
   "execution_count": null,
   "id": "f446a797-839c-455c-87fd-2e18819e0c1e",
   "metadata": {},
   "outputs": [],
   "source": [
    "plt.rcParams[\"figure.figsize\"] = (9,5)\n",
    "plt.plot(steps, [series.loc['contradiction'] / (percent * negation_train_count) if 'contradiction' in series.index else 0 for series in train_worst], label=\"Train Contradiction Subset\", color=\"pink\")\n",
    "plt.plot(steps, [series.loc['entailment'] / (percent * negation_train_count) if 'entailment' in series.index else 0 for series in train_worst], label=\"Train Entailment Subset\", color=\"skyblue\")\n",
    "plt.plot(steps, [series.loc['contradiction'] / (percent * negation_val_count) if 'contradiction' in series.index else 0 for series in val_worst], label=\"Val Contradiction Subset\", color=\"crimson\")\n",
    "plt.plot(steps, [series.loc['entailment'] / (percent * negation_val_count) if 'entailment' in series.index else 0 for series in val_worst], label=\"Val Entailment Subset\", color=\"dodgerblue\")\n",
    "plt.xlabel(\"Num. Train Samples\")\n",
    "plt.ylabel(\"Percent Samples in Worst\")\n",
    "plt.title(\"Percent of Samples in the Worst 10% by Loss During Training\")\n",
    "plt.legend()\n",
    "plt.tight_layout()\n",
    "plt.show()"
   ]
  },
  {
   "cell_type": "markdown",
   "id": "4271d7a6-76ac-4841-8bd7-e1888b3d40cb",
   "metadata": {
    "tags": []
   },
   "source": [
    "## Check Training Dynamics (old)"
   ]
  },
  {
   "cell_type": "code",
   "execution_count": null,
   "id": "3ba81e57-5915-4c3d-bc38-ab849cf109cc",
   "metadata": {},
   "outputs": [],
   "source": [
    "base_path = \"/remote/csifs1/disk0/meissner/shortcut-pruning/experiments/record_preds/50_percent_train_200_step/multiruns/2022-04-24/18-55-00/0/\"\n",
    "train_preds = [np.load(_file) for _file in [base_path + \"train_predictions/\" f\"{step}.npy\" for step in range(0, 31, 1)]]\n",
    "val_preds = [np.load(_file) for _file in [base_path + \"val_predictions/\" f\"{step}.npy\" for step in range(0, 31, 1)]]"
   ]
  },
  {
   "cell_type": "code",
   "execution_count": null,
   "id": "8df2a765-ab35-449b-b091-9a98832f88ad",
   "metadata": {},
   "outputs": [],
   "source": [
    "len(train_preds), train_preds[0].shape"
   ]
  },
  {
   "cell_type": "code",
   "execution_count": null,
   "id": "ad70eb0f-947f-4e17-aeea-a9420b3d64b7",
   "metadata": {},
   "outputs": [],
   "source": [
    "len(val_preds), val_preds[0].shape"
   ]
  },
  {
   "cell_type": "code",
   "execution_count": null,
   "id": "97fb77e0-751d-470f-b086-49018680ab4c",
   "metadata": {},
   "outputs": [],
   "source": [
    "train_preds[0][train_conts, 0].mean()"
   ]
  },
  {
   "cell_type": "code",
   "execution_count": null,
   "id": "9486fa36-1938-41b1-adcd-a8a792bb9988",
   "metadata": {},
   "outputs": [],
   "source": [
    "val_preds[0][val_conts, 0].mean()"
   ]
  },
  {
   "cell_type": "code",
   "execution_count": null,
   "id": "3b26257f-a773-4aa8-baa1-f4aab210db4c",
   "metadata": {},
   "outputs": [],
   "source": [
    "train_cont_levels = [preds[train_conts, 2].mean() for preds in train_preds]\n",
    "train_ent_levels = [preds[train_ents, 0].mean() for preds in train_preds]\n",
    "val_cont_levels = [preds[val_conts, 2].mean() for preds in val_preds]\n",
    "val_ent_levels = [preds[val_ents, 0].mean() for preds in val_preds]"
   ]
  },
  {
   "cell_type": "code",
   "execution_count": null,
   "id": "ba4c1187-6558-4b06-b220-79a8e2182fbb",
   "metadata": {},
   "outputs": [],
   "source": [
    "steps = [i*32*200 for i in range(len(train_preds))]"
   ]
  },
  {
   "cell_type": "code",
   "execution_count": null,
   "id": "c3298959-41e2-4729-93a2-eeaa70fcb3da",
   "metadata": {},
   "outputs": [],
   "source": [
    "plt.plot(steps, train_cont_levels, label=\"Train Cont Subset\")\n",
    "plt.plot(steps, train_ent_levels, label=\"Train Entail Subset\")\n",
    "plt.plot(steps, val_cont_levels, label=\"Val Cont Subset\")\n",
    "plt.plot(steps, val_ent_levels, label=\"Val Entail Subset\")\n",
    "plt.xlabel(\"Training samples\")\n",
    "plt.title(\"Average gold-label probability prediction per subset\")\n",
    "plt.legend()"
   ]
  },
  {
   "cell_type": "code",
   "execution_count": null,
   "id": "0a8cda6d-3df5-4c1b-bc23-272aebcc5e9b",
   "metadata": {},
   "outputs": [],
   "source": [
    "train_dfs = [pd.DataFrame(array) for array in train_preds]\n",
    "# train_dfs = [df[train_conts][\"label\"] = \"contradiction\" for df in train_dfs]\n",
    "# train_dfs = [df[train_ents][\"label\"] = \"entailment\" for df in train_dfs]"
   ]
  },
  {
   "cell_type": "code",
   "execution_count": null,
   "id": "90e1ce49-27e4-48a2-bc23-4dc971afadc6",
   "metadata": {},
   "outputs": [],
   "source": [
    "for df in train_dfs:\n",
    "    df.loc[train_conts, \"label\"] = \"contradiction\"\n",
    "    df.loc[train_conts, \"gold_pred\"] = df[2]\n",
    "    df.loc[train_ents, \"label\"] = \"entailment\"\n",
    "    df.loc[train_ents, \"gold_pred\"] = df[0]\n",
    "    df.drop([0, 1, 2], axis=1, inplace=True)\n",
    "    df.dropna(inplace=True)"
   ]
  },
  {
   "cell_type": "code",
   "execution_count": null,
   "id": "91f6066e-b8e0-403c-b600-23aa7d29a145",
   "metadata": {},
   "outputs": [],
   "source": [
    "percent = 0.1\n",
    "negation_train_count = len(train_conts) + len(train_ents)\n",
    "negation_val_count = len(val_conts) + len(val_ents)\n",
    "negation_train_count, negation_val_count"
   ]
  },
  {
   "cell_type": "code",
   "execution_count": null,
   "id": "2abef414-77b6-42fd-bef4-82243f847136",
   "metadata": {},
   "outputs": [],
   "source": [
    "train_worst = [df.sort_values(\"gold_pred\", ascending=True).head(int(0.3 * len(train_dfs))).groupby(\"label\").count().unstack(fill_value=0).stack() for df in train_dfs]"
   ]
  },
  {
   "cell_type": "code",
   "execution_count": null,
   "id": "84e80d41-64de-4bb4-8f62-d10cb9c224cd",
   "metadata": {},
   "outputs": [],
   "source": [
    "'contradiction' in train_worst[30].index"
   ]
  },
  {
   "cell_type": "code",
   "execution_count": null,
   "id": "1cca2498-0f0b-45b1-9317-ed5235b3f6a9",
   "metadata": {},
   "outputs": [],
   "source": [
    "plt.rcParams[\"figure.figsize\"] = (9,5)\n",
    "plt.plot(steps, [series.loc['contradiction'] / (percent * negation_train_count) if 'contradiction' in series.index else 0 for series in train_worst], label=\"Train Contradiction Subset\", color=\"pink\")\n",
    "plt.plot(steps, [series.loc['entailment'] / (percent * negation_train_count) if 'entailment' in series.index else 0 for series in train_worst], label=\"Train Entailment Subset\", color=\"skyblue\")\n",
    "plt.plot(steps, [series.loc['contradiction'] / (percent * negation_val_count) if 'contradiction' in series.index else 0 for series in val_worst], label=\"Val Contradiction Subset\", color=\"crimson\")\n",
    "plt.plot(steps, [series.loc['entailment'] / (percent * negation_val_count) if 'entailment' in series.index else 0 for series in val_worst], label=\"Val Entailment Subset\", color=\"dodgerblue\")\n",
    "plt.xlabel(\"Num. Train Samples\")\n",
    "plt.ylabel(\"Percent Samples in Worst\")\n",
    "plt.title(\"Percent of Samples in the Worst 10% by Loss During Training\")\n",
    "plt.legend()\n",
    "plt.tight_layout()\n",
    "plt.show()"
   ]
  },
  {
   "cell_type": "code",
   "execution_count": null,
   "id": "07dbcfcb-4922-44f2-8d34-fc49f901ab53",
   "metadata": {},
   "outputs": [],
   "source": [
    "train_pds = [pd.concat(df[train"
   ]
  },
  {
   "cell_type": "code",
   "execution_count": null,
   "id": "8ee1e22a-9a6c-4c08-9a56-f4b1a803a43a",
   "metadata": {},
   "outputs": [],
   "source": []
  }
 ],
 "metadata": {
  "kernelspec": {
   "display_name": "Python 3 (ipykernel)",
   "language": "python",
   "name": "python3"
  },
  "language_info": {
   "codemirror_mode": {
    "name": "ipython",
    "version": 3
   },
   "file_extension": ".py",
   "mimetype": "text/x-python",
   "name": "python",
   "nbconvert_exporter": "python",
   "pygments_lexer": "ipython3",
   "version": "3.8.12"
  }
 },
 "nbformat": 4,
 "nbformat_minor": 5
}
