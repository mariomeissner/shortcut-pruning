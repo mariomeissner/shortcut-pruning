{
 "cells": [
  {
   "cell_type": "code",
   "execution_count": 11,
   "id": "664dbe44-5ef9-4dab-af7b-c961d0044912",
   "metadata": {},
   "outputs": [],
   "source": [
    "import datasets\n",
    "import torch\n",
    "import numpy as np\n",
    "import json\n",
    "import pickle\n",
    "from tqdm import tqdm\n",
    "\n",
    "from datasets.dataset_dict import DatasetDict"
   ]
  },
  {
   "cell_type": "code",
   "execution_count": null,
   "id": "58a81786-0131-4046-a538-98c62cf01b56",
   "metadata": {},
   "outputs": [],
   "source": []
  },
  {
   "cell_type": "markdown",
   "id": "aa181641-5ec6-424a-8357-d4bef8995753",
   "metadata": {},
   "source": [
    "## Get negation indices"
   ]
  },
  {
   "cell_type": "code",
   "execution_count": 4,
   "id": "d9574211-85b3-4572-a172-3b62c2543dde",
   "metadata": {},
   "outputs": [],
   "source": [
    "data_path = \"/home/meissner/shortcut-pruning/data/fever/\""
   ]
  },
  {
   "cell_type": "code",
   "execution_count": 28,
   "id": "1dd1df3c-5d3c-40af-be47-d793ccdeda04",
   "metadata": {},
   "outputs": [
    {
     "name": "stderr",
     "output_type": "stream",
     "text": [
      "Using custom data configuration default-636923bdd33586c5\n",
      "Reusing dataset json (/home/meissner/.cache/huggingface/datasets/json/default-636923bdd33586c5/0.0.0/c90812beea906fcffe0d5e3bb9eba909a80a998b5f88e9f8acbd320aa91acfde)\n"
     ]
    },
    {
     "data": {
      "application/vnd.jupyter.widget-view+json": {
       "model_id": "2cbddd4b234d43009674fce0656b4223",
       "version_major": 2,
       "version_minor": 0
      },
      "text/plain": [
       "  0%|          | 0/1 [00:00<?, ?it/s]"
      ]
     },
     "metadata": {},
     "output_type": "display_data"
    },
    {
     "name": "stderr",
     "output_type": "stream",
     "text": [
      "Using custom data configuration default-23ebb10018d3e881\n",
      "Reusing dataset json (/home/meissner/.cache/huggingface/datasets/json/default-23ebb10018d3e881/0.0.0/c90812beea906fcffe0d5e3bb9eba909a80a998b5f88e9f8acbd320aa91acfde)\n"
     ]
    },
    {
     "data": {
      "application/vnd.jupyter.widget-view+json": {
       "model_id": "6e813156ee464207ad0086d96cbddcc3",
       "version_major": 2,
       "version_minor": 0
      },
      "text/plain": [
       "  0%|          | 0/1 [00:00<?, ?it/s]"
      ]
     },
     "metadata": {},
     "output_type": "display_data"
    },
    {
     "name": "stderr",
     "output_type": "stream",
     "text": [
      "Using custom data configuration default-ae9f4254e2d8cee5\n",
      "Reusing dataset json (/home/meissner/.cache/huggingface/datasets/json/default-ae9f4254e2d8cee5/0.0.0/c90812beea906fcffe0d5e3bb9eba909a80a998b5f88e9f8acbd320aa91acfde)\n"
     ]
    },
    {
     "data": {
      "application/vnd.jupyter.widget-view+json": {
       "model_id": "b2453fad8f8f43b896b5ce28f79b99d4",
       "version_major": 2,
       "version_minor": 0
      },
      "text/plain": [
       "  0%|          | 0/1 [00:00<?, ?it/s]"
      ]
     },
     "metadata": {},
     "output_type": "display_data"
    }
   ],
   "source": [
    "fever_train = datasets.load_dataset(\"json\", data_files=data_path + \"fever_train.jsonl\")[\"train\"].rename_column(\"gold_label\", \"label\")\n",
    "fever_val = datasets.load_dataset(\"json\", data_files=data_path + \"fever_dev.jsonl\")[\"train\"].rename_column(\"gold_label\", \"label\")\n",
    "fever_symm = datasets.load_dataset(\"json\", data_files=data_path + \"fever_symmetric_full.jsonl\")[\n",
    "    \"train\"\n",
    "]\n",
    "dataset = DatasetDict({\"train\" : fever_train, \"val\": fever_val, \"test\" : fever_symm})"
   ]
  },
  {
   "cell_type": "code",
   "execution_count": null,
   "id": "556dd697-6955-4519-abb5-d44b1c07f9c3",
   "metadata": {},
   "outputs": [],
   "source": []
  },
  {
   "cell_type": "code",
   "execution_count": 29,
   "id": "c5e0982f-824d-45d9-ab75-108097dd1508",
   "metadata": {},
   "outputs": [
    {
     "data": {
      "text/plain": [
       "Dataset({\n",
       "    features: ['label', 'evidence', 'claim', 'id', 'weight'],\n",
       "    num_rows: 242911\n",
       "})"
      ]
     },
     "execution_count": 29,
     "metadata": {},
     "output_type": "execute_result"
    }
   ],
   "source": [
    "dataset['train']"
   ]
  },
  {
   "cell_type": "code",
   "execution_count": 25,
   "id": "bdb5a914-f664-479b-965e-5b4967b758f9",
   "metadata": {},
   "outputs": [
    {
     "data": {
      "text/plain": [
       "Dataset({\n",
       "    features: ['id', 'label', 'claim', 'evidence_sentence'],\n",
       "    num_rows: 956\n",
       "})"
      ]
     },
     "execution_count": 25,
     "metadata": {},
     "output_type": "execute_result"
    }
   ],
   "source": [
    "dataset['test']"
   ]
  },
  {
   "cell_type": "code",
   "execution_count": 7,
   "id": "02b989a9-8b0a-4ad1-a342-1faab6012fbb",
   "metadata": {},
   "outputs": [],
   "source": [
    "negation_words = [\" no \", \" not \", \" don't \", \" none \", \" nothing \", \n",
    "                  \" never \", \" aren’t \", \" isn’t \", \" weren’t \", \n",
    "                  \" neither \", \" don’t \", \" didn’t \", \" doesn’t \", \n",
    "                  \" cannot \", \" hasn’t \", \" won’t \"]"
   ]
  },
  {
   "cell_type": "code",
   "execution_count": 78,
   "id": "44008ba7-688b-49d8-8329-b47b25e0a800",
   "metadata": {},
   "outputs": [],
   "source": [
    "def find_negation_idxs(dataset):\n",
    "    ent_indices, cont_indices = [], []\n",
    "    for idx,sample in enumerate(dataset):\n",
    "        if any([word in sample[\"claim\"].lower() for word in negation_words]):\n",
    "            if sample['label'] == \"SUPPORTS\":\n",
    "                ent_indices.append(idx)\n",
    "            elif sample['label'] == \"REFUTES\":\n",
    "                cont_indices.append(idx)\n",
    "    return ent_indices, cont_indices"
   ]
  },
  {
   "cell_type": "code",
   "execution_count": 79,
   "id": "004a0316-8e52-4f69-9a00-2ada64fda40e",
   "metadata": {},
   "outputs": [],
   "source": [
    "train_ents, train_conts = find_negation_idxs(dataset[\"train\"])\n",
    "val_ents, val_conts = find_negation_idxs(dataset[\"val\"])\n",
    "test_ents, test_conts = find_negation_idxs(dataset[\"test\"])"
   ]
  },
  {
   "cell_type": "code",
   "execution_count": 80,
   "id": "d3564111-28f2-4efe-a79c-9c737bdbb388",
   "metadata": {},
   "outputs": [
    {
     "data": {
      "text/plain": [
       "[908, 6505, 61, 865, 38, 38]"
      ]
     },
     "execution_count": 80,
     "metadata": {},
     "output_type": "execute_result"
    }
   ],
   "source": [
    "list(map(len, [train_ents, train_conts, val_ents, val_conts, test_ents, test_conts]))"
   ]
  },
  {
   "cell_type": "code",
   "execution_count": 81,
   "id": "298c4951-675c-47bb-a1b1-5a6cbb8153af",
   "metadata": {},
   "outputs": [],
   "source": [
    "fever_neg_indices = {\"val_supports\" : val_ents, \"val_refutes\" : val_conts, \"test_supports\" : test_ents, \"test_refutes\" : test_conts}"
   ]
  },
  {
   "cell_type": "code",
   "execution_count": 82,
   "id": "bd07aebc-eba5-4be8-aeae-53eb98d23679",
   "metadata": {},
   "outputs": [],
   "source": [
    "with open(\"/home/meissner/shortcut-pruning/data/subsets/fever_negation_indices.json\", \"w\") as _file:\n",
    "    _file.write(json.dumps(fever_neg_indices))"
   ]
  },
  {
   "cell_type": "code",
   "execution_count": 83,
   "id": "5993b207-39db-4bf2-b65b-540a2868aceb",
   "metadata": {},
   "outputs": [
    {
     "name": "stdout",
     "output_type": "stream",
     "text": [
      "val_supports\n",
      "61\n",
      "val_refutes\n",
      "865\n",
      "test_supports\n",
      "38\n",
      "test_refutes\n",
      "38\n"
     ]
    }
   ],
   "source": [
    "for key, value in fever_neg_indices.items():\n",
    "    print(key)\n",
    "    print(len(value))"
   ]
  },
  {
   "cell_type": "markdown",
   "id": "d3241d21-6d4f-4682-a96e-5283ab3fe439",
   "metadata": {},
   "source": [
    "## Lexical Overlap"
   ]
  },
  {
   "cell_type": "code",
   "execution_count": 34,
   "id": "f435b8fb-3f05-43e3-a1d8-99832c21cb6e",
   "metadata": {},
   "outputs": [],
   "source": [
    "import nltk\n",
    "import string\n",
    "from nltk.tokenize import word_tokenize"
   ]
  },
  {
   "cell_type": "code",
   "execution_count": 35,
   "id": "cd14a39b-349d-44c8-a169-23da97b4d2ba",
   "metadata": {},
   "outputs": [
    {
     "name": "stderr",
     "output_type": "stream",
     "text": [
      "[nltk_data] Downloading package punkt to /home/meissner/nltk_data...\n",
      "[nltk_data]   Package punkt is already up-to-date!\n"
     ]
    },
    {
     "data": {
      "text/plain": [
       "True"
      ]
     },
     "execution_count": 35,
     "metadata": {},
     "output_type": "execute_result"
    }
   ],
   "source": [
    "nltk.download('punkt')"
   ]
  },
  {
   "cell_type": "code",
   "execution_count": 36,
   "id": "97c9496f-0f7b-40d3-8afd-5d33b37a68e9",
   "metadata": {},
   "outputs": [
    {
     "name": "stdout",
     "output_type": "stream",
     "text": [
      "{'&', '?', '{', '#', '`', '%', '+', '!', '*', '~', ',', '|', ':', '_', '=', ')', '^', '/', '\"', '<', '}', '[', '(', ']', '>', '$', '.', '@', '-', '\\\\', \"'\", ';'}\n"
     ]
    }
   ],
   "source": [
    "puncts = set(string.punctuation)\n",
    "print(puncts)"
   ]
  },
  {
   "cell_type": "code",
   "execution_count": 37,
   "id": "cb05103a-b567-499d-94da-0adb7b085fbf",
   "metadata": {},
   "outputs": [],
   "source": [
    "def jaccard_similarity(set1, set2):\n",
    "    return float(len(set1.intersection(set2)) / len(set1.union(set2)))"
   ]
  },
  {
   "cell_type": "code",
   "execution_count": 38,
   "id": "21527867-630d-4201-a414-5a7309c606fe",
   "metadata": {},
   "outputs": [
    {
     "data": {
      "text/plain": [
       "['Ann', 'Richards', 'was', 'professionally', 'involved', 'in', 'politics', '.']"
      ]
     },
     "execution_count": 38,
     "metadata": {},
     "output_type": "execute_result"
    }
   ],
   "source": [
    "word_tokenize(dataset['val'][23]['claim'])"
   ]
  },
  {
   "cell_type": "code",
   "execution_count": 39,
   "id": "3cd7f72d-9b67-4043-af1d-b30bc31e3199",
   "metadata": {},
   "outputs": [],
   "source": [
    "jaccards = []\n",
    "for sample in dataset['val']:\n",
    "    hyposet = set(word_tokenize(sample['claim'].lower())) - puncts\n",
    "    premset = set(word_tokenize(sample['evidence'].lower())) - puncts\n",
    "    jaccards.append(jaccard_similarity(hyposet, premset))\n",
    "jaccards = np.array(jaccards)"
   ]
  },
  {
   "cell_type": "code",
   "execution_count": 40,
   "id": "6bbb56ea-0c10-4af9-9a56-3e70bb8e9ca9",
   "metadata": {},
   "outputs": [
    {
     "data": {
      "text/plain": [
       "(0.0, 0.17720436684426374, 1.0, 5477, 19)"
      ]
     },
     "execution_count": 40,
     "metadata": {},
     "output_type": "execute_result"
    }
   ],
   "source": [
    "np.min(jaccards), np.mean(jaccards), np.max(jaccards), np.argmax(jaccards), np.argmin(jaccards)"
   ]
  },
  {
   "cell_type": "code",
   "execution_count": 41,
   "id": "297698ae-1205-4f86-9ff8-7df422d24485",
   "metadata": {},
   "outputs": [],
   "source": [
    "from matplotlib import pyplot as plt"
   ]
  },
  {
   "cell_type": "code",
   "execution_count": 44,
   "id": "4a54bbbe-71a1-4bb8-bceb-ac09aa9ff5d5",
   "metadata": {},
   "outputs": [
    {
     "data": {
      "image/png": "[encoded data removed]",
      "text/plain": [
       "<Figure size 432x288 with 1 Axes>"
      ]
     },
     "metadata": {
      "needs_background": "light"
     },
     "output_type": "display_data"
    }
   ],
   "source": [
    "bins = np.linspace(0.0, 1.0, 25)\n",
    "labels = np.array(dataset['val']['label'])\n",
    "ent_jaccards = jaccards[labels == \"SUPPORTS\"]\n",
    "cont_jaccards = jaccards[labels == \"REFUTES\"]\n",
    "plt.hist(ent_jaccards, bins, alpha=0.5, label=\"Supports\")\n",
    "plt.hist(cont_jaccards, bins, alpha=0.5, label=\"Refutes\")\n",
    "plt.legend()\n",
    "plt.show()"
   ]
  },
  {
   "cell_type": "code",
   "execution_count": 45,
   "id": "41a9b1a3-0606-45e7-8f2c-56032089394c",
   "metadata": {},
   "outputs": [
    {
     "data": {
      "text/plain": [
       "16664"
      ]
     },
     "execution_count": 45,
     "metadata": {},
     "output_type": "execute_result"
    }
   ],
   "source": [
    "len(labels)"
   ]
  },
  {
   "cell_type": "code",
   "execution_count": 49,
   "id": "02993841-3346-4a13-8018-d06f7d7b1478",
   "metadata": {},
   "outputs": [],
   "source": [
    "top_indices = np.argsort(jaccards)[-500:]"
   ]
  },
  {
   "cell_type": "code",
   "execution_count": 50,
   "id": "76446bc3-802c-46a3-83a3-d86f0f83c8cf",
   "metadata": {},
   "outputs": [
    {
     "data": {
      "text/plain": [
       "0.5"
      ]
     },
     "execution_count": 50,
     "metadata": {},
     "output_type": "execute_result"
    }
   ],
   "source": [
    "jaccards[top_indices[0]] # Cut rate"
   ]
  },
  {
   "cell_type": "code",
   "execution_count": 51,
   "id": "b809ccf8-31d3-4fcf-9f5a-d293c2c343ed",
   "metadata": {},
   "outputs": [
    {
     "data": {
      "text/plain": [
       "0.67"
      ]
     },
     "execution_count": 51,
     "metadata": {},
     "output_type": "execute_result"
    }
   ],
   "source": [
    "np.mean(labels[top_indices] == \"SUPPORTS\") # "
   ]
  },
  {
   "cell_type": "code",
   "execution_count": 61,
   "id": "33f7171f-6a07-4698-aa9f-d3cc25cd57dc",
   "metadata": {},
   "outputs": [],
   "source": [
    "# top_samples = dataset['val'].select(top_indices)\n",
    "top_labels = labels[top_indices]"
   ]
  },
  {
   "cell_type": "code",
   "execution_count": 68,
   "id": "c4a1e0cc-5a0d-4aa7-9941-49c45941fc53",
   "metadata": {},
   "outputs": [],
   "source": [
    "top_refutes_indices = np.argwhere(top_labels == 'REFUTES')\n",
    "top_supports_indices = np.argwhere(top_labels == 'SUPPORTS')"
   ]
  },
  {
   "cell_type": "code",
   "execution_count": 69,
   "id": "60fbbae2-5895-4c42-a1ce-29434d80a6ee",
   "metadata": {},
   "outputs": [],
   "source": [
    "assert len(top_indices) == len(top_supports_indices) + len(top_refutes_indices)"
   ]
  },
  {
   "cell_type": "code",
   "execution_count": 70,
   "id": "3e59554d-c005-4fe4-b1ba-417f19578bcb",
   "metadata": {},
   "outputs": [],
   "source": [
    "fever_dev_indices = {\"val_supports\" : top_supports_indices, \"val_refutes\" : top_refutes_indices}"
   ]
  },
  {
   "cell_type": "code",
   "execution_count": 71,
   "id": "279652c4-5651-4407-94ec-4c1863007965",
   "metadata": {},
   "outputs": [],
   "source": [
    "import numpy\n",
    "import json\n",
    "\n",
    "class MyEncoder(json.JSONEncoder):\n",
    "    def default(self, obj):\n",
    "        if isinstance(obj, numpy.integer):\n",
    "            return int(obj)\n",
    "        elif isinstance(obj, numpy.floating):\n",
    "            return float(obj)\n",
    "        elif isinstance(obj, numpy.ndarray):\n",
    "            return obj.tolist()\n",
    "        else:\n",
    "            return super(MyEncoder, self).default(obj)"
   ]
  },
  {
   "cell_type": "code",
   "execution_count": 72,
   "id": "0a559dfa-8d8d-4201-bc73-18c195c3c2cb",
   "metadata": {},
   "outputs": [],
   "source": [
    "with open(\"/home/meissner/shortcut-pruning/data/subsets/fever_lex_overlap_indices.json\", \"w\") as _file:\n",
    "    _file.write(json.dumps(fever_dev_indices, cls=MyEncoder))"
   ]
  },
  {
   "cell_type": "markdown",
   "id": "89b11541-a3c2-4ff0-a306-3c238831bc6b",
   "metadata": {},
   "source": [
    "--------------------------------------------------------"
   ]
  },
  {
   "cell_type": "code",
   "execution_count": 13,
   "id": "d0a5a1bb-b085-4d8e-9610-a530e74d7b40",
   "metadata": {},
   "outputs": [],
   "source": [
    "def find_high_lex_overlap_idxs(dataset, count_lim=400):\n",
    "    jaccards = []\n",
    "    labels = np.array(dataset['label'])\n",
    "    for sample in dataset:\n",
    "        hyposet = set(word_tokenize(sample['hypothesis'].lower())) - puncts\n",
    "        premset = set(word_tokenize(sample['premise'].lower())) - puncts\n",
    "        jaccards.append(jaccard_similarity(hyposet, premset))\n",
    "    jaccards = np.array(jaccards)\n",
    "    top_indices = np.argsort(jaccards)[-count_lim:]\n",
    "    ent_indices = top_indices[labels[top_indices] == 0]\n",
    "    cont_indices = top_indices[labels[top_indices] == 2]\n",
    "    return ent_indices, cont_indices"
   ]
  },
  {
   "cell_type": "code",
   "execution_count": 14,
   "id": "9c55c564-311b-491a-9603-ff2797ed284b",
   "metadata": {},
   "outputs": [],
   "source": [
    "# train_ents, train_conts = find_high_lex_overlap_idxs(mnli[\"train\"], count_lim=4000)\n",
    "val_m_ents, val_m_conts = find_high_lex_overlap_idxs(mnli[\"validation_matched\"], count_lim=200)\n",
    "val_mm_ents, val_mm_conts = find_high_lex_overlap_idxs(mnli[\"validation_mismatched\"], count_lim=200)"
   ]
  },
  {
   "cell_type": "code",
   "execution_count": 26,
   "id": "5264cc18-d5a5-4b22-a0b4-c075c97f4e89",
   "metadata": {},
   "outputs": [
    {
     "data": {
      "text/plain": [
       "3262"
      ]
     },
     "execution_count": 26,
     "metadata": {},
     "output_type": "execute_result"
    }
   ],
   "source": [
    "val_m_ents[0]"
   ]
  },
  {
   "cell_type": "code",
   "execution_count": 27,
   "id": "d517e8c6-c018-4da8-8c18-6de49cd4422a",
   "metadata": {},
   "outputs": [
    {
     "data": {
      "text/plain": [
       "({'premise': 'Shoot only the ones that face us, Jon had told Adrin.',\n",
       "  'hypothesis': 'Jon instructed Adrin to only shoot the ones that face us.',\n",
       "  'label': 0,\n",
       "  'idx': 3262},\n",
       " {'premise': 'The rain had stopped, but the green glow painted everything around them.',\n",
       "  'hypothesis': 'The red glow painted everything around them after the rain had stopped.',\n",
       "  'label': 2,\n",
       "  'idx': 8901})"
      ]
     },
     "execution_count": 27,
     "metadata": {},
     "output_type": "execute_result"
    }
   ],
   "source": [
    "mnli['validation_matched'][int(val_m_ents[0])], mnli['validation_matched'][int(val_m_conts[0])]"
   ]
  },
  {
   "cell_type": "code",
   "execution_count": 28,
   "id": "1816d35e-c4cd-4b4d-8aae-e5b032ca99c1",
   "metadata": {},
   "outputs": [],
   "source": [
    "all_indices = {\"train_ents\" : list(train_ents), \"train_conts\" : list(train_conts), \"val_m_ents\" : list(val_m_ents), \"val_m_conts\" : list(val_m_conts), \"val_mm_ents\" : list(val_mm_ents), \"val_mm_conts\" : list(val_mm_conts)}"
   ]
  },
  {
   "cell_type": "code",
   "execution_count": 29,
   "id": "5947acdc-5805-4c9d-ba09-43de5a4f6b92",
   "metadata": {},
   "outputs": [
    {
     "name": "stdout",
     "output_type": "stream",
     "text": [
      "train_ents\n",
      "3179\n",
      "train_conts\n",
      "504\n",
      "val_m_ents\n",
      "144\n",
      "val_m_conts\n",
      "36\n",
      "val_mm_ents\n",
      "144\n",
      "val_mm_conts\n",
      "28\n"
     ]
    }
   ],
   "source": [
    "for key, value in all_indices.items():\n",
    "    print(key)\n",
    "    print(len(value))"
   ]
  },
  {
   "cell_type": "code",
   "execution_count": 30,
   "id": "b6bf5b26-e313-4aef-ace3-f17fcb77469b",
   "metadata": {},
   "outputs": [
    {
     "data": {
      "text/plain": [
       "numpy.int64"
      ]
     },
     "execution_count": 30,
     "metadata": {},
     "output_type": "execute_result"
    }
   ],
   "source": [
    "type(all_indices['val_m_ents'][0])"
   ]
  },
  {
   "cell_type": "code",
   "execution_count": 31,
   "id": "97b63487-a845-4823-b8e9-8c6b326b8db5",
   "metadata": {},
   "outputs": [],
   "source": [
    "import numpy\n",
    "import json\n",
    "\n",
    "class MyEncoder(json.JSONEncoder):\n",
    "    def default(self, obj):\n",
    "        if isinstance(obj, numpy.integer):\n",
    "            return int(obj)\n",
    "        elif isinstance(obj, numpy.floating):\n",
    "            return float(obj)\n",
    "        elif isinstance(obj, numpy.ndarray):\n",
    "            return obj.tolist()\n",
    "        else:\n",
    "            return super(MyEncoder, self).default(obj)"
   ]
  },
  {
   "cell_type": "code",
   "execution_count": 32,
   "id": "ba57cf14-de3f-4853-8ffe-dd563d5d6814",
   "metadata": {},
   "outputs": [],
   "source": [
    "with open(\"/home/meissner/shortcut-pruning/data/subsets/mnli_lex_overlap_indices.json\", \"w\") as _file:\n",
    "    _file.write(json.dumps(all_indices, cls=MyEncoder))"
   ]
  },
  {
   "cell_type": "markdown",
   "id": "ee5d498c-4348-4748-9f27-f9bc3ea8e63f",
   "metadata": {},
   "source": [
    "## Negation without lexical overlap"
   ]
  },
  {
   "cell_type": "code",
   "execution_count": 39,
   "id": "730c8365-2704-46c6-b58b-3c51deb052b3",
   "metadata": {},
   "outputs": [],
   "source": [
    "val_negs = all_neg_indices[\"val_m_ents\"]"
   ]
  },
  {
   "cell_type": "code",
   "execution_count": 40,
   "id": "2fffb379-0071-4df3-a747-4cb3535ee18c",
   "metadata": {},
   "outputs": [],
   "source": [
    "val_neg_ent_samples = mnli['validation_matched'].select(val_negs)"
   ]
  },
  {
   "cell_type": "code",
   "execution_count": 41,
   "id": "35f68a83-e7ee-409a-b7f7-04fb4bdb2c6c",
   "metadata": {},
   "outputs": [],
   "source": [
    "top_ent_arr, top_cont_arr = find_high_lex_overlap_idxs(val_neg_ent_samples, count_lim=0)"
   ]
  },
  {
   "cell_type": "code",
   "execution_count": 31,
   "id": "5e6ab227-3b9f-4b1e-aed2-fbaf68c68899",
   "metadata": {
    "collapsed": true,
    "jupyter": {
     "outputs_hidden": true
    },
    "tags": []
   },
   "outputs": [
    {
     "data": {
      "text/plain": [
       "array([284,  87, 186, 150, 471, 466, 595, 553, 274, 318,   3,   1, 567,\n",
       "       465, 242, 425, 478, 299, 387, 126, 199, 217, 569, 128, 346, 434,\n",
       "       428, 545, 506, 502, 234, 246, 268, 243, 447, 120, 556,  63, 517,\n",
       "       539, 152, 170, 207, 280, 245, 116, 522, 562, 123, 139, 205, 203,\n",
       "       481, 554, 140, 297, 563, 163, 173, 209, 108, 578, 180, 586, 229,\n",
       "       571,  17, 546, 550, 508, 467, 371, 518, 175, 459, 415,  45, 135,\n",
       "       394, 104, 480, 392,  97, 399, 412, 460, 379, 505,  67, 233, 343,\n",
       "       498, 538, 141,  53, 212, 112,  41, 368, 252, 166, 362, 125, 489,\n",
       "       106, 319, 367, 220, 321, 192, 335,  92, 581, 464, 155, 390, 598,\n",
       "       285, 499, 194, 329, 105, 408, 317,  78, 584, 146, 406, 475, 528,\n",
       "       336, 202, 369, 386, 440, 495,  66, 544, 560, 168,  39, 215, 491,\n",
       "       119, 383, 332, 345, 354, 124, 353, 342, 366, 527, 130,  19, 298,\n",
       "       521,  76, 174, 444, 303, 251,  70,  14, 576, 441,  20,  81,  30,\n",
       "       237, 497, 501, 289, 219, 402, 277, 424,  62, 312, 283, 484, 450,\n",
       "        96,   2, 250, 263, 417, 453, 149, 504, 165,  83,  58, 158, 575,\n",
       "       591, 271, 461,  74, 585, 426, 257, 111, 282,  46, 281, 197, 577,\n",
       "       169, 463, 442, 286, 157, 118, 258, 351, 200, 261,  82, 487, 132,\n",
       "       445, 122, 564, 418, 276, 227,  37, 384, 296, 470,  52, 208, 293,\n",
       "       172, 573, 403,  15, 117, 327,  34, 349, 260, 262, 435,  27, 446,\n",
       "       131, 574, 407, 228, 269, 496, 143,  98,  85,  99, 596, 292, 422,\n",
       "         8,  64, 543, 232,  55, 350, 548, 113, 421,  68, 240, 291, 473,\n",
       "       566,  86, 187, 177, 443, 433, 457, 136, 307,   4, 361, 302,  36,\n",
       "       311, 107, 359, 198,  95, 301, 397, 159, 509, 432, 309, 201, 164,\n",
       "       328,   0, 190, 533,   5, 552, 154,  65, 254, 503, 557, 249,  23,\n",
       "       411, 138, 400,  32, 222, 537,  91, 536, 377, 287,  10,  33, 376,\n",
       "       129, 241, 587, 153,  75, 515, 414,  60,  48,  12,  84, 468, 398,\n",
       "       114, 230,  38,  73, 356, 364, 375, 438, 223, 344, 144, 360, 265,\n",
       "         9, 305,  13, 594, 427, 259, 255, 458, 239, 423, 437,  56, 479,\n",
       "       507, 393, 127, 395, 551,  42, 191, 531, 304, 231,  71, 510, 601,\n",
       "       454, 456, 469, 137,  44, 582, 561, 316, 513,  79, 235,  47,   7,\n",
       "       270, 100, 490,  93, 580, 429, 413,  69, 322, 171, 592, 436,  54,\n",
       "        89, 593, 264, 102, 462, 523, 493, 511, 290, 483,  25, 148, 485,\n",
       "       314, 176, 218, 382, 236, 266, 449, 589, 565, 597,  21, 216,  61,\n",
       "       324,  88, 325,  80, 133, 358, 391,  57, 279, 472, 331, 278, 500,\n",
       "       288, 492, 338,  35, 142, 323,  28, 183, 572, 145, 181, 339,  40,\n",
       "       535, 372, 477, 416, 334,  49, 430, 337, 599, 514, 189, 488, 431,\n",
       "       167, 253, 151, 221,  43, 579, 193, 308, 330, 519, 320, 103, 405,\n",
       "       549,  90, 256, 294, 525,  72, 381, 540, 583, 333, 244, 534, 541,\n",
       "       378, 196, 588, 121, 161, 448, 315,  11, 341,  29, 295, 482, 178,\n",
       "       396, 101,  22, 306, 214, 326,  24, 348, 532,  59, 380, 494,  16,\n",
       "       363, 352, 365, 300, 110, 267, 210, 590, 224, 162, 272, 109, 385,\n",
       "       570, 226, 559, 204,  50, 313, 370,  31, 419, 340,  77, 310, 524,\n",
       "       409, 600, 355, 238, 347, 451,  51, 184, 455, 179, 420, 275, 476,\n",
       "       213, 558, 526,  94, 374, 404, 516, 115, 211, 156, 188, 547, 147,\n",
       "       373, 182, 512, 357, 410, 195,   6, 388, 401, 520, 439, 206, 225,\n",
       "       273, 530, 486, 452, 185, 568, 474,  18, 542, 555, 134, 248, 160,\n",
       "       389, 247,  26, 529])"
      ]
     },
     "execution_count": 31,
     "metadata": {},
     "output_type": "execute_result"
    }
   ],
   "source": [
    "top_ent_arr"
   ]
  },
  {
   "cell_type": "code",
   "execution_count": 42,
   "id": "7bf3e34c-28ae-4c09-b16f-d9f1b61c72ed",
   "metadata": {},
   "outputs": [
    {
     "data": {
      "text/plain": [
       "(319, 319, 0)"
      ]
     },
     "execution_count": 42,
     "metadata": {},
     "output_type": "execute_result"
    }
   ],
   "source": [
    "len(val_negs), len(top_ent_arr), len(top_cont_arr)"
   ]
  },
  {
   "cell_type": "code",
   "execution_count": 43,
   "id": "52412c68-b1df-4402-aaab-a6fbec2192a8",
   "metadata": {},
   "outputs": [
    {
     "data": {
      "text/plain": [
       "4052"
      ]
     },
     "execution_count": 43,
     "metadata": {},
     "output_type": "execute_result"
    }
   ],
   "source": [
    "val_negs[top_ent_arr[-1]]"
   ]
  },
  {
   "cell_type": "code",
   "execution_count": 48,
   "id": "5a67a183-4023-45f5-b55b-7b2d8796cd05",
   "metadata": {},
   "outputs": [
    {
     "name": "stdout",
     "output_type": "stream",
     "text": [
      "{'premise': 'In short, most of the whale is incompressible.', 'hypothesis': 'Whales cannot be compressed well.', 'label': 0, 'idx': 1445}\n",
      "{'premise': \"Several of its beaches are officially designated for nudism (known locally as naturisme) the most popular being Pointe Tarare and a functionary who is a Chevalier de la L??gion d'Honneur has been appointed to supervise all aspects of sunning in the buff.\", 'hypothesis': 'They do not mind having nude people.', 'label': 0, 'idx': 2517}\n",
      "{'premise': 'Normally, these discussions are kept secret.', 'hypothesis': 'In usual circumstances, what is said is not to be shared..', 'label': 0, 'idx': 7252}\n",
      "{'premise': 'Others watched them with cold eyes and expressionless faces.', 'hypothesis': 'Some people who were not emotive were watching.', 'label': 0, 'idx': 4671}\n",
      "{'premise': 'Even though national saving remains relatively low by U.S. historical standards, economic growth in recent years has been high because more and better investments were made.', 'hypothesis': 'Americans are not saving much.', 'label': 0, 'idx': 8887}\n"
     ]
    }
   ],
   "source": [
    "for i in top_ent_arr[:5]:\n",
    "    print(mnli['validation_matched'][val_negs[i]])"
   ]
  },
  {
   "cell_type": "code",
   "execution_count": 44,
   "id": "29a1113d-7eef-43c3-88e2-edd5d363ecce",
   "metadata": {},
   "outputs": [
    {
     "data": {
      "text/plain": [
       "{'premise': 'Part of the reason for the difference in pieces per possible delivery may be due to the fact that five percent of possible residential deliveries are businesses, and it is thought, but not known, that a lesser percentage of possible deliveries on rural routes are businesses.',\n",
       " 'hypothesis': 'It is thought, but not known, that a lesser percentage of possible deliveries on rural routes are businesses, and part of the reason for the difference in pieces per possible delivery, may be due to the fact that five percent of possible residential deliveries are businesses.',\n",
       " 'label': 0,\n",
       " 'idx': 4052}"
      ]
     },
     "execution_count": 44,
     "metadata": {},
     "output_type": "execute_result"
    }
   ],
   "source": [
    "mnli['validation_matched'][4052]"
   ]
  },
  {
   "cell_type": "code",
   "execution_count": 53,
   "id": "12ba9c8c-9166-448c-a53d-e219b946e4dd",
   "metadata": {},
   "outputs": [
    {
     "data": {
      "text/plain": [
       "int"
      ]
     },
     "execution_count": 53,
     "metadata": {},
     "output_type": "execute_result"
    }
   ],
   "source": [
    "type(val_negs[0])"
   ]
  },
  {
   "cell_type": "code",
   "execution_count": 54,
   "id": "3431279d-c0d5-4ff0-9e27-d84d9fd28e6d",
   "metadata": {},
   "outputs": [],
   "source": [
    "neg_ent_new_indices = [val_negs[i] for i in top_ent_arr[:50]] "
   ]
  },
  {
   "cell_type": "code",
   "execution_count": 55,
   "id": "2393b6f7-89d2-4d4e-90a8-cb8645828fe3",
   "metadata": {},
   "outputs": [],
   "source": [
    "with open(\"/home/meissner/shortcut-pruning/data/subsets/mnli_neg_ent_new2.json\", \"w\") as _file:\n",
    "    _file.write(json.dumps(neg_ent_new_indices))"
   ]
  },
  {
   "cell_type": "code",
   "execution_count": null,
   "id": "80e6be87-6e94-43e5-b1b9-af21767a356f",
   "metadata": {},
   "outputs": [],
   "source": []
  }
 ],
 "metadata": {
  "kernelspec": {
   "display_name": "Python 3 (ipykernel)",
   "language": "python",
   "name": "python3"
  },
  "language_info": {
   "codemirror_mode": {
    "name": "ipython",
    "version": 3
   },
   "file_extension": ".py",
   "mimetype": "text/x-python",
   "name": "python",
   "nbconvert_exporter": "python",
   "pygments_lexer": "ipython3",
   "version": "3.8.12"
  }
 },
 "nbformat": 4,
 "nbformat_minor": 5
}
