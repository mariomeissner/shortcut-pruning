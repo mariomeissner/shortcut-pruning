{
 "cells": [
  {
   "cell_type": "code",
   "execution_count": 3,
   "id": "7f0a082c-08fb-490c-99d2-1277744ac2cd",
   "metadata": {},
   "outputs": [],
   "source": [
    "from typing import Sequence\n",
    "from datasets.dataset_dict import DatasetDict\n",
    "import fire\n",
    "import datasets\n",
    "import sys\n",
    "\n",
    "sys.path.append(\"/home/meissner/shortcut-pruning\")\n",
    "import numpy as np\n",
    "from transformers import AutoTokenizer\n",
    "from pytorch_lightning import LightningModule\n",
    "from torch.utils.data import DataLoader\n",
    "from transformers import DataCollatorWithPadding\n",
    "from tqdm import tqdm\n",
    "import torch \n",
    "from src.models.hf_model import SequenceClassificationTransformer\n",
    "from src.models.hf_model_pruned import PruningTransformer"
   ]
  },
  {
   "cell_type": "code",
   "execution_count": 4,
   "id": "307cea7c-4ada-4832-8711-7d109db17aba",
   "metadata": {},
   "outputs": [],
   "source": [
    "import sklearn as sk\n",
    "from sklearn.svm import SVC\n",
    "from sklearn.linear_model import SGDClassifier"
   ]
  },
  {
   "cell_type": "code",
   "execution_count": 5,
   "id": "d4d10a16-f7f3-4a5e-9e62-797e277e75ee",
   "metadata": {},
   "outputs": [
    {
     "name": "stderr",
     "output_type": "stream",
     "text": [
      "Reusing dataset glue (/home/meissner/.cache/huggingface/datasets/glue/mnli/1.0.0/dacbe3125aa31d7f70367a07a8a9e72a5a0bfeb5fc42e75c9db75b96da6053ad)\n"
     ]
    },
    {
     "data": {
      "application/vnd.jupyter.widget-view+json": {
       "model_id": "fb053210a8f24fe1a042b82e8203c197",
       "version_major": 2,
       "version_minor": 0
      },
      "text/plain": [
       "  0%|          | 0/5 [00:00<?, ?it/s]"
      ]
     },
     "metadata": {},
     "output_type": "display_data"
    }
   ],
   "source": [
    "mnli = datasets.load_dataset(\"glue\", \"mnli\")"
   ]
  },
  {
   "cell_type": "code",
   "execution_count": 6,
   "id": "82cbf43e-c562-4fbc-8a61-8559007e5766",
   "metadata": {},
   "outputs": [],
   "source": [
    "negation_words = [\"no\", \"not\", \"don't\", \"none\", \"nothing\", \n",
    "                  \"never\", \"aren’t\", \"isn’t\", \"weren’t\", \n",
    "                  \"neither\", \"don’t\", \"didn’t\", \"doesn’t\", \n",
    "                  \"cannot\", \"hasn’t\", \"won’t\"]"
   ]
  },
  {
   "cell_type": "code",
   "execution_count": 7,
   "id": "7a36f74d-1df8-4701-b7b0-fc3d77cad671",
   "metadata": {},
   "outputs": [],
   "source": [
    "neg_dataset = []\n",
    "neg_dataset_labels = []\n",
    "is_neg_cont = []\n",
    "is_neg_ent = []\n",
    "\n",
    "for sample in mnli['train']:\n",
    "    hyp_bag = []\n",
    "    # prem_bag = []\n",
    "    for word in negation_words:\n",
    "        if word in sample['hypothesis']:\n",
    "            hyp_bag.append(1)\n",
    "        else:\n",
    "            hyp_bag.append(0)\n",
    "    if any(hyp_bag) and sample['label'] == 2:\n",
    "            is_neg_cont.append(True)\n",
    "            is_neg_ent.append(False)\n",
    "    elif any(hyp_bag) and sample['label'] == 0:\n",
    "            is_neg_cont.append(False)\n",
    "            is_neg_ent.append(True)\n",
    "    else:\n",
    "        is_neg_cont.append(False)\n",
    "        is_neg_ent.append(False)\n",
    "        \n",
    "    neg_dataset.append(hyp_bag)\n",
    "    neg_dataset_labels.append(sample['label'])\n",
    "\n",
    "X = np.array(neg_dataset)\n",
    "y = np.array(neg_dataset_labels)"
   ]
  },
  {
   "cell_type": "code",
   "execution_count": 8,
   "id": "564414aa-e399-4b02-8ebc-9ca4ab49ac21",
   "metadata": {},
   "outputs": [
    {
     "data": {
      "text/plain": [
       "((392702, 16), (392702,))"
      ]
     },
     "execution_count": 8,
     "metadata": {},
     "output_type": "execute_result"
    }
   ],
   "source": [
    "X.shape, y.shape"
   ]
  },
  {
   "cell_type": "code",
   "execution_count": null,
   "id": "a78bd60e-1c96-4939-9d6c-fef11d148675",
   "metadata": {},
   "outputs": [],
   "source": []
  },
  {
   "cell_type": "code",
   "execution_count": 21,
   "id": "238ecba1-f753-4d30-918a-8a8aaaf08b80",
   "metadata": {},
   "outputs": [
    {
     "data": {
      "text/plain": [
       "SGDClassifier(loss='log', max_iter=50000)"
      ]
     },
     "execution_count": 21,
     "metadata": {},
     "output_type": "execute_result"
    }
   ],
   "source": [
    "model = SGDClassifier(loss=\"log\", max_iter=50000)\n",
    "model.fit(X, y)"
   ]
  },
  {
   "cell_type": "code",
   "execution_count": 22,
   "id": "ecc97042-43da-4d44-93b3-eee4e7ce6b4f",
   "metadata": {},
   "outputs": [
    {
     "name": "stdout",
     "output_type": "stream",
     "text": [
      "0.9994339951236503\n",
      "0.0005697464628240433\n"
     ]
    }
   ],
   "source": [
    "print(model.score(X[is_neg_cont], y[is_neg_cont]))\n",
    "print(model.score(X[is_neg_ent], y[is_neg_ent]))"
   ]
  },
  {
   "cell_type": "code",
   "execution_count": 23,
   "id": "e2f24bcb-3c8d-400b-af61-8ccfe9143e06",
   "metadata": {},
   "outputs": [],
   "source": [
    "model_outputs = model.predict_proba(X)"
   ]
  },
  {
   "cell_type": "code",
   "execution_count": 24,
   "id": "636336d5-c7a0-4d60-93f7-d3e14ff4e0a1",
   "metadata": {},
   "outputs": [
    {
     "data": {
      "text/plain": [
       "array([[0.3677667 , 0.35253326, 0.27970004],\n",
       "       [0.3677667 , 0.35253326, 0.27970004],\n",
       "       [0.3677667 , 0.35253326, 0.27970004],\n",
       "       ...,\n",
       "       [0.3677667 , 0.35253326, 0.27970004],\n",
       "       [0.3677667 , 0.35253326, 0.27970004],\n",
       "       [0.3677667 , 0.35253326, 0.27970004]])"
      ]
     },
     "execution_count": 24,
     "metadata": {},
     "output_type": "execute_result"
    }
   ],
   "source": [
    "model_outputs"
   ]
  },
  {
   "cell_type": "code",
   "execution_count": null,
   "id": "fdce3142-2c22-498f-884e-efc1945f391c",
   "metadata": {},
   "outputs": [],
   "source": []
  }
 ],
 "metadata": {
  "kernelspec": {
   "display_name": "Python 3 (ipykernel)",
   "language": "python",
   "name": "python3"
  },
  "language_info": {
   "codemirror_mode": {
    "name": "ipython",
    "version": 3
   },
   "file_extension": ".py",
   "mimetype": "text/x-python",
   "name": "python",
   "nbconvert_exporter": "python",
   "pygments_lexer": "ipython3",
   "version": "3.8.12"
  }
 },
 "nbformat": 4,
 "nbformat_minor": 5
}
