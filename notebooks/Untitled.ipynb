{
 "cells": [
  {
   "cell_type": "code",
   "execution_count": 3,
   "id": "bb5cf5b5-5fa0-479d-ace2-589cd35bebf8",
   "metadata": {},
   "outputs": [],
   "source": [
    "import importlib\n",
    "from typing import Sequence\n",
    "from datasets.dataset_dict import DatasetDict\n",
    "import fire\n",
    "import datasets\n",
    "import sys\n",
    "from collections import defaultdict\n",
    "\n",
    "sys.path.append(\"/home/meissner/shortcut-pruning\")\n",
    "import numpy as np\n",
    "import pandas as pd\n",
    "from transformers import AutoTokenizer\n",
    "from pytorch_lightning import LightningModule\n",
    "from torch.utils.data import DataLoader\n",
    "from transformers import DataCollatorWithPadding\n",
    "from tqdm import tqdm\n",
    "import torch \n",
    "from matplotlib import pyplot as plt\n",
    "from src.models.hf_model import SequenceClassificationTransformer\n",
    "from src.models.hf_model_pruned import PruningTransformer\n",
    "\n",
    "import torch\n",
    "from transformers import AutoModelForSequenceClassification\n",
    "from nn_pruning.patch_coordinator import ModelPatchingCoordinator\n",
    "from nn_pruning.modules.masked_nn import MaskedLinear"
   ]
  },
  {
   "cell_type": "code",
   "execution_count": 4,
   "id": "7e191949-34ea-4f9d-8871-7ff8a607abb1",
   "metadata": {},
   "outputs": [],
   "source": [
    "old = \"/remote/csifs1/disk0/meissner/shortcut-pruning/experiments/baselines/bert/mnli/multiruns/2022-05-25/14-54-19/0/checkpoints/last.ckpt\"\n",
    "new = \"/remote/csifs1/disk0/meissner/shortcut-pruning/experiments/classifier_ablation/3_epoch/runs/2022-06-17/00-43-18/checkpoints/last.ckpt\""
   ]
  },
  {
   "cell_type": "code",
   "execution_count": 5,
   "id": "302cb213-87e8-4af5-a5a3-48b35f79e5af",
   "metadata": {},
   "outputs": [
    {
     "name": "stderr",
     "output_type": "stream",
     "text": [
      "Some weights of the model checkpoint at bert-base-uncased were not used when initializing BertModel: ['cls.predictions.decoder.weight', 'cls.predictions.bias', 'cls.predictions.transform.LayerNorm.weight', 'cls.predictions.transform.dense.bias', 'cls.predictions.transform.LayerNorm.bias', 'cls.predictions.transform.dense.weight', 'cls.seq_relationship.weight', 'cls.seq_relationship.bias']\n",
      "- This IS expected if you are initializing BertModel from the checkpoint of a model trained on another task or with another architecture (e.g. initializing a BertForSequenceClassification model from a BertForPreTraining model).\n",
      "- This IS NOT expected if you are initializing BertModel from the checkpoint of a model that you expect to be exactly identical (initializing a BertForSequenceClassification model from a BertForSequenceClassification model).\n",
      "Some weights of the model checkpoint at bert-base-uncased were not used when initializing BertModel: ['cls.predictions.decoder.weight', 'cls.predictions.bias', 'cls.predictions.transform.LayerNorm.weight', 'cls.predictions.transform.dense.bias', 'cls.predictions.transform.LayerNorm.bias', 'cls.predictions.transform.dense.weight', 'cls.seq_relationship.weight', 'cls.seq_relationship.bias']\n",
      "- This IS expected if you are initializing BertModel from the checkpoint of a model trained on another task or with another architecture (e.g. initializing a BertForSequenceClassification model from a BertForPreTraining model).\n",
      "- This IS NOT expected if you are initializing BertModel from the checkpoint of a model that you expect to be exactly identical (initializing a BertForSequenceClassification model from a BertForSequenceClassification model).\n"
     ]
    }
   ],
   "source": [
    "old_model = SequenceClassificationTransformer.load_from_checkpoint(old)\n",
    "new_model = SequenceClassificationTransformer.load_from_checkpoint(new)"
   ]
  },
  {
   "cell_type": "code",
   "execution_count": 9,
   "id": "aaa03939-0ce8-4343-9b24-0a9b2bf584e4",
   "metadata": {},
   "outputs": [
    {
     "data": {
      "text/plain": [
       "True"
      ]
     },
     "execution_count": 9,
     "metadata": {},
     "output_type": "execute_result"
    }
   ],
   "source": [
    "torch.allclose(old_model.classifier.weight, new_model.classifier.weight)"
   ]
  },
  {
   "cell_type": "code",
   "execution_count": 10,
   "id": "4c638dcf-816f-4f47-809e-ac4341745202",
   "metadata": {},
   "outputs": [
    {
     "data": {
      "text/plain": [
       "(Parameter containing:\n",
       " tensor([[-0.0023, -0.0115,  0.0040,  ..., -0.0247,  0.0227, -0.0029],\n",
       "         [-0.0044,  0.0032, -0.0018,  ...,  0.0419,  0.0060, -0.0034],\n",
       "         [ 0.0433,  0.0028,  0.0247,  ...,  0.0192, -0.0078, -0.0276]],\n",
       "        requires_grad=True),\n",
       " Parameter containing:\n",
       " tensor([[-0.0023, -0.0115,  0.0040,  ..., -0.0247,  0.0227, -0.0029],\n",
       "         [-0.0044,  0.0032, -0.0018,  ...,  0.0419,  0.0060, -0.0034],\n",
       "         [ 0.0433,  0.0028,  0.0247,  ...,  0.0192, -0.0078, -0.0276]],\n",
       "        requires_grad=True))"
      ]
     },
     "execution_count": 10,
     "metadata": {},
     "output_type": "execute_result"
    }
   ],
   "source": [
    "old_model.classifier.weight, new_model.classifier.weight"
   ]
  },
  {
   "cell_type": "code",
   "execution_count": null,
   "id": "8ded2bcc-73b4-4cce-a15d-f2bf90ffd980",
   "metadata": {},
   "outputs": [],
   "source": []
  }
 ],
 "metadata": {
  "kernelspec": {
   "display_name": "Python 3 (ipykernel)",
   "language": "python",
   "name": "python3"
  },
  "language_info": {
   "codemirror_mode": {
    "name": "ipython",
    "version": 3
   },
   "file_extension": ".py",
   "mimetype": "text/x-python",
   "name": "python",
   "nbconvert_exporter": "python",
   "pygments_lexer": "ipython3",
   "version": "3.8.12"
  }
 },
 "nbformat": 4,
 "nbformat_minor": 5
}
