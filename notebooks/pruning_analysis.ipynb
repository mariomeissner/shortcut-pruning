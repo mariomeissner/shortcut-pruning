{
 "cells": [
  {
   "cell_type": "code",
   "execution_count": 1,
   "id": "07c9145f-b7fb-4218-bb64-dd09309cca14",
   "metadata": {},
   "outputs": [],
   "source": [
    "import importlib\n",
    "from typing import Sequence\n",
    "from datasets.dataset_dict import DatasetDict\n",
    "import fire\n",
    "import datasets\n",
    "import sys\n",
    "from collections import defaultdict\n",
    "\n",
    "sys.path.append(\"/home/meissner/shortcut-pruning\")\n",
    "import numpy as np\n",
    "import pandas as pd\n",
    "from transformers import AutoTokenizer\n",
    "from pytorch_lightning import LightningModule\n",
    "from torch.utils.data import DataLoader\n",
    "from transformers import DataCollatorWithPadding\n",
    "from tqdm import tqdm\n",
    "import torch \n",
    "from matplotlib import pyplot as plt\n",
    "from src.models.hf_model import SequenceClassificationTransformer\n",
    "from src.models.hf_model_pruned import PruningTransformer\n",
    "\n",
    "import torch\n",
    "from transformers import AutoModelForSequenceClassification\n",
    "from nn_pruning.patch_coordinator import ModelPatchingCoordinator\n",
    "from nn_pruning.modules.masked_nn import MaskedLinear"
   ]
  },
  {
   "cell_type": "code",
   "execution_count": 2,
   "id": "b981223b-eea6-4b42-9647-02fa89f7001f",
   "metadata": {},
   "outputs": [],
   "source": [
    "# model_path = \"/remote/csifs1/disk0/meissner/shortcut-pruning/experiments/pruning/vanilla_then_prune/runs/2022-05-24/11-35-12/checkpoints/last.ckpt\"\n",
    "# model_path = \"/remote/csifs1/disk0/meissner/shortcut-pruning/experiments/pruning/with_tiny/vanilla_then_prune_sigmoid/runs/2022-05-30/12-59-30/checkpoints/last.ckpt\"\n",
    "# model_path = \"/remote/csifs1/disk0/meissner/shortcut-pruning/experiments/pruning/with_undertrain/vanilla_then_prune/unstructured_sigmoid/runs/2022-06-08/13-48-50/checkpoints/last.ckpt\"\n",
    "model_path = \"/remote/csifs1/disk0/meissner/shortcut-pruning/experiments/pruning/with_undertrain/vanilla_then_prune/unstructured_sigmoid/runs/2022-06-08/15-43-47/checkpoints/last.ckpt\""
   ]
  },
  {
   "cell_type": "code",
   "execution_count": 3,
   "id": "66010072-d9da-498c-9780-142e042033bb",
   "metadata": {
    "tags": []
   },
   "outputs": [
    {
     "name": "stderr",
     "output_type": "stream",
     "text": [
      "Some weights of the model checkpoint at bert-base-uncased were not used when initializing BertModel: ['cls.predictions.transform.LayerNorm.weight', 'cls.predictions.transform.dense.bias', 'cls.predictions.bias', 'cls.predictions.transform.LayerNorm.bias', 'cls.seq_relationship.bias', 'cls.predictions.decoder.weight', 'cls.seq_relationship.weight', 'cls.predictions.transform.dense.weight']\n",
      "- This IS expected if you are initializing BertModel from the checkpoint of a model trained on another task or with another architecture (e.g. initializing a BertForSequenceClassification model from a BertForPreTraining model).\n",
      "- This IS NOT expected if you are initializing BertModel from the checkpoint of a model that you expect to be exactly identical (initializing a BertForSequenceClassification model from a BertForSequenceClassification model).\n"
     ]
    }
   ],
   "source": [
    "model = PruningTransformer.load_from_checkpoint(model_path)\n",
    "model.eval();"
   ]
  },
  {
   "cell_type": "code",
   "execution_count": 58,
   "id": "869ab584-f99c-494c-9ce5-07eb08190bbf",
   "metadata": {
    "collapsed": true,
    "jupyter": {
     "outputs_hidden": true
    },
    "tags": []
   },
   "outputs": [
    {
     "name": "stderr",
     "output_type": "stream",
     "text": [
      "Some weights of the model checkpoint at bert-base-uncased were not used when initializing BertModel: ['cls.seq_relationship.weight', 'cls.predictions.transform.dense.bias', 'cls.predictions.decoder.weight', 'cls.predictions.transform.LayerNorm.weight', 'cls.predictions.bias', 'cls.seq_relationship.bias', 'cls.predictions.transform.LayerNorm.bias', 'cls.predictions.transform.dense.weight']\n",
      "- This IS expected if you are initializing BertModel from the checkpoint of a model trained on another task or with another architecture (e.g. initializing a BertForSequenceClassification model from a BertForPreTraining model).\n",
      "- This IS NOT expected if you are initializing BertModel from the checkpoint of a model that you expect to be exactly identical (initializing a BertForSequenceClassification model from a BertForSequenceClassification model).\n"
     ]
    },
    {
     "data": {
      "text/plain": [
       "SequenceClassificationTransformer(\n",
       "  (model): BertModel(\n",
       "    (embeddings): BertEmbeddings(\n",
       "      (word_embeddings): Embedding(30522, 768, padding_idx=0)\n",
       "      (position_embeddings): Embedding(512, 768)\n",
       "      (token_type_embeddings): Embedding(2, 768)\n",
       "      (LayerNorm): LayerNorm((768,), eps=1e-12, elementwise_affine=True)\n",
       "      (dropout): Dropout(p=0.1, inplace=False)\n",
       "    )\n",
       "    (encoder): BertEncoder(\n",
       "      (layer): ModuleList(\n",
       "        (0): BertLayer(\n",
       "          (attention): BertAttention(\n",
       "            (self): BertSelfAttention(\n",
       "              (query): Linear(in_features=768, out_features=768, bias=True)\n",
       "              (key): Linear(in_features=768, out_features=768, bias=True)\n",
       "              (value): Linear(in_features=768, out_features=768, bias=True)\n",
       "              (dropout): Dropout(p=0.1, inplace=False)\n",
       "            )\n",
       "            (output): BertSelfOutput(\n",
       "              (dense): Linear(in_features=768, out_features=768, bias=True)\n",
       "              (LayerNorm): LayerNorm((768,), eps=1e-12, elementwise_affine=True)\n",
       "              (dropout): Dropout(p=0.1, inplace=False)\n",
       "            )\n",
       "          )\n",
       "          (intermediate): BertIntermediate(\n",
       "            (dense): Linear(in_features=768, out_features=3072, bias=True)\n",
       "          )\n",
       "          (output): BertOutput(\n",
       "            (dense): Linear(in_features=3072, out_features=768, bias=True)\n",
       "            (LayerNorm): LayerNorm((768,), eps=1e-12, elementwise_affine=True)\n",
       "            (dropout): Dropout(p=0.1, inplace=False)\n",
       "          )\n",
       "        )\n",
       "        (1): BertLayer(\n",
       "          (attention): BertAttention(\n",
       "            (self): BertSelfAttention(\n",
       "              (query): Linear(in_features=768, out_features=768, bias=True)\n",
       "              (key): Linear(in_features=768, out_features=768, bias=True)\n",
       "              (value): Linear(in_features=768, out_features=768, bias=True)\n",
       "              (dropout): Dropout(p=0.1, inplace=False)\n",
       "            )\n",
       "            (output): BertSelfOutput(\n",
       "              (dense): Linear(in_features=768, out_features=768, bias=True)\n",
       "              (LayerNorm): LayerNorm((768,), eps=1e-12, elementwise_affine=True)\n",
       "              (dropout): Dropout(p=0.1, inplace=False)\n",
       "            )\n",
       "          )\n",
       "          (intermediate): BertIntermediate(\n",
       "            (dense): Linear(in_features=768, out_features=3072, bias=True)\n",
       "          )\n",
       "          (output): BertOutput(\n",
       "            (dense): Linear(in_features=3072, out_features=768, bias=True)\n",
       "            (LayerNorm): LayerNorm((768,), eps=1e-12, elementwise_affine=True)\n",
       "            (dropout): Dropout(p=0.1, inplace=False)\n",
       "          )\n",
       "        )\n",
       "        (2): BertLayer(\n",
       "          (attention): BertAttention(\n",
       "            (self): BertSelfAttention(\n",
       "              (query): Linear(in_features=768, out_features=768, bias=True)\n",
       "              (key): Linear(in_features=768, out_features=768, bias=True)\n",
       "              (value): Linear(in_features=768, out_features=768, bias=True)\n",
       "              (dropout): Dropout(p=0.1, inplace=False)\n",
       "            )\n",
       "            (output): BertSelfOutput(\n",
       "              (dense): Linear(in_features=768, out_features=768, bias=True)\n",
       "              (LayerNorm): LayerNorm((768,), eps=1e-12, elementwise_affine=True)\n",
       "              (dropout): Dropout(p=0.1, inplace=False)\n",
       "            )\n",
       "          )\n",
       "          (intermediate): BertIntermediate(\n",
       "            (dense): Linear(in_features=768, out_features=3072, bias=True)\n",
       "          )\n",
       "          (output): BertOutput(\n",
       "            (dense): Linear(in_features=3072, out_features=768, bias=True)\n",
       "            (LayerNorm): LayerNorm((768,), eps=1e-12, elementwise_affine=True)\n",
       "            (dropout): Dropout(p=0.1, inplace=False)\n",
       "          )\n",
       "        )\n",
       "        (3): BertLayer(\n",
       "          (attention): BertAttention(\n",
       "            (self): BertSelfAttention(\n",
       "              (query): Linear(in_features=768, out_features=768, bias=True)\n",
       "              (key): Linear(in_features=768, out_features=768, bias=True)\n",
       "              (value): Linear(in_features=768, out_features=768, bias=True)\n",
       "              (dropout): Dropout(p=0.1, inplace=False)\n",
       "            )\n",
       "            (output): BertSelfOutput(\n",
       "              (dense): Linear(in_features=768, out_features=768, bias=True)\n",
       "              (LayerNorm): LayerNorm((768,), eps=1e-12, elementwise_affine=True)\n",
       "              (dropout): Dropout(p=0.1, inplace=False)\n",
       "            )\n",
       "          )\n",
       "          (intermediate): BertIntermediate(\n",
       "            (dense): Linear(in_features=768, out_features=3072, bias=True)\n",
       "          )\n",
       "          (output): BertOutput(\n",
       "            (dense): Linear(in_features=3072, out_features=768, bias=True)\n",
       "            (LayerNorm): LayerNorm((768,), eps=1e-12, elementwise_affine=True)\n",
       "            (dropout): Dropout(p=0.1, inplace=False)\n",
       "          )\n",
       "        )\n",
       "        (4): BertLayer(\n",
       "          (attention): BertAttention(\n",
       "            (self): BertSelfAttention(\n",
       "              (query): Linear(in_features=768, out_features=768, bias=True)\n",
       "              (key): Linear(in_features=768, out_features=768, bias=True)\n",
       "              (value): Linear(in_features=768, out_features=768, bias=True)\n",
       "              (dropout): Dropout(p=0.1, inplace=False)\n",
       "            )\n",
       "            (output): BertSelfOutput(\n",
       "              (dense): Linear(in_features=768, out_features=768, bias=True)\n",
       "              (LayerNorm): LayerNorm((768,), eps=1e-12, elementwise_affine=True)\n",
       "              (dropout): Dropout(p=0.1, inplace=False)\n",
       "            )\n",
       "          )\n",
       "          (intermediate): BertIntermediate(\n",
       "            (dense): Linear(in_features=768, out_features=3072, bias=True)\n",
       "          )\n",
       "          (output): BertOutput(\n",
       "            (dense): Linear(in_features=3072, out_features=768, bias=True)\n",
       "            (LayerNorm): LayerNorm((768,), eps=1e-12, elementwise_affine=True)\n",
       "            (dropout): Dropout(p=0.1, inplace=False)\n",
       "          )\n",
       "        )\n",
       "        (5): BertLayer(\n",
       "          (attention): BertAttention(\n",
       "            (self): BertSelfAttention(\n",
       "              (query): Linear(in_features=768, out_features=768, bias=True)\n",
       "              (key): Linear(in_features=768, out_features=768, bias=True)\n",
       "              (value): Linear(in_features=768, out_features=768, bias=True)\n",
       "              (dropout): Dropout(p=0.1, inplace=False)\n",
       "            )\n",
       "            (output): BertSelfOutput(\n",
       "              (dense): Linear(in_features=768, out_features=768, bias=True)\n",
       "              (LayerNorm): LayerNorm((768,), eps=1e-12, elementwise_affine=True)\n",
       "              (dropout): Dropout(p=0.1, inplace=False)\n",
       "            )\n",
       "          )\n",
       "          (intermediate): BertIntermediate(\n",
       "            (dense): Linear(in_features=768, out_features=3072, bias=True)\n",
       "          )\n",
       "          (output): BertOutput(\n",
       "            (dense): Linear(in_features=3072, out_features=768, bias=True)\n",
       "            (LayerNorm): LayerNorm((768,), eps=1e-12, elementwise_affine=True)\n",
       "            (dropout): Dropout(p=0.1, inplace=False)\n",
       "          )\n",
       "        )\n",
       "        (6): BertLayer(\n",
       "          (attention): BertAttention(\n",
       "            (self): BertSelfAttention(\n",
       "              (query): Linear(in_features=768, out_features=768, bias=True)\n",
       "              (key): Linear(in_features=768, out_features=768, bias=True)\n",
       "              (value): Linear(in_features=768, out_features=768, bias=True)\n",
       "              (dropout): Dropout(p=0.1, inplace=False)\n",
       "            )\n",
       "            (output): BertSelfOutput(\n",
       "              (dense): Linear(in_features=768, out_features=768, bias=True)\n",
       "              (LayerNorm): LayerNorm((768,), eps=1e-12, elementwise_affine=True)\n",
       "              (dropout): Dropout(p=0.1, inplace=False)\n",
       "            )\n",
       "          )\n",
       "          (intermediate): BertIntermediate(\n",
       "            (dense): Linear(in_features=768, out_features=3072, bias=True)\n",
       "          )\n",
       "          (output): BertOutput(\n",
       "            (dense): Linear(in_features=3072, out_features=768, bias=True)\n",
       "            (LayerNorm): LayerNorm((768,), eps=1e-12, elementwise_affine=True)\n",
       "            (dropout): Dropout(p=0.1, inplace=False)\n",
       "          )\n",
       "        )\n",
       "        (7): BertLayer(\n",
       "          (attention): BertAttention(\n",
       "            (self): BertSelfAttention(\n",
       "              (query): Linear(in_features=768, out_features=768, bias=True)\n",
       "              (key): Linear(in_features=768, out_features=768, bias=True)\n",
       "              (value): Linear(in_features=768, out_features=768, bias=True)\n",
       "              (dropout): Dropout(p=0.1, inplace=False)\n",
       "            )\n",
       "            (output): BertSelfOutput(\n",
       "              (dense): Linear(in_features=768, out_features=768, bias=True)\n",
       "              (LayerNorm): LayerNorm((768,), eps=1e-12, elementwise_affine=True)\n",
       "              (dropout): Dropout(p=0.1, inplace=False)\n",
       "            )\n",
       "          )\n",
       "          (intermediate): BertIntermediate(\n",
       "            (dense): Linear(in_features=768, out_features=3072, bias=True)\n",
       "          )\n",
       "          (output): BertOutput(\n",
       "            (dense): Linear(in_features=3072, out_features=768, bias=True)\n",
       "            (LayerNorm): LayerNorm((768,), eps=1e-12, elementwise_affine=True)\n",
       "            (dropout): Dropout(p=0.1, inplace=False)\n",
       "          )\n",
       "        )\n",
       "        (8): BertLayer(\n",
       "          (attention): BertAttention(\n",
       "            (self): BertSelfAttention(\n",
       "              (query): Linear(in_features=768, out_features=768, bias=True)\n",
       "              (key): Linear(in_features=768, out_features=768, bias=True)\n",
       "              (value): Linear(in_features=768, out_features=768, bias=True)\n",
       "              (dropout): Dropout(p=0.1, inplace=False)\n",
       "            )\n",
       "            (output): BertSelfOutput(\n",
       "              (dense): Linear(in_features=768, out_features=768, bias=True)\n",
       "              (LayerNorm): LayerNorm((768,), eps=1e-12, elementwise_affine=True)\n",
       "              (dropout): Dropout(p=0.1, inplace=False)\n",
       "            )\n",
       "          )\n",
       "          (intermediate): BertIntermediate(\n",
       "            (dense): Linear(in_features=768, out_features=3072, bias=True)\n",
       "          )\n",
       "          (output): BertOutput(\n",
       "            (dense): Linear(in_features=3072, out_features=768, bias=True)\n",
       "            (LayerNorm): LayerNorm((768,), eps=1e-12, elementwise_affine=True)\n",
       "            (dropout): Dropout(p=0.1, inplace=False)\n",
       "          )\n",
       "        )\n",
       "        (9): BertLayer(\n",
       "          (attention): BertAttention(\n",
       "            (self): BertSelfAttention(\n",
       "              (query): Linear(in_features=768, out_features=768, bias=True)\n",
       "              (key): Linear(in_features=768, out_features=768, bias=True)\n",
       "              (value): Linear(in_features=768, out_features=768, bias=True)\n",
       "              (dropout): Dropout(p=0.1, inplace=False)\n",
       "            )\n",
       "            (output): BertSelfOutput(\n",
       "              (dense): Linear(in_features=768, out_features=768, bias=True)\n",
       "              (LayerNorm): LayerNorm((768,), eps=1e-12, elementwise_affine=True)\n",
       "              (dropout): Dropout(p=0.1, inplace=False)\n",
       "            )\n",
       "          )\n",
       "          (intermediate): BertIntermediate(\n",
       "            (dense): Linear(in_features=768, out_features=3072, bias=True)\n",
       "          )\n",
       "          (output): BertOutput(\n",
       "            (dense): Linear(in_features=3072, out_features=768, bias=True)\n",
       "            (LayerNorm): LayerNorm((768,), eps=1e-12, elementwise_affine=True)\n",
       "            (dropout): Dropout(p=0.1, inplace=False)\n",
       "          )\n",
       "        )\n",
       "        (10): BertLayer(\n",
       "          (attention): BertAttention(\n",
       "            (self): BertSelfAttention(\n",
       "              (query): Linear(in_features=768, out_features=768, bias=True)\n",
       "              (key): Linear(in_features=768, out_features=768, bias=True)\n",
       "              (value): Linear(in_features=768, out_features=768, bias=True)\n",
       "              (dropout): Dropout(p=0.1, inplace=False)\n",
       "            )\n",
       "            (output): BertSelfOutput(\n",
       "              (dense): Linear(in_features=768, out_features=768, bias=True)\n",
       "              (LayerNorm): LayerNorm((768,), eps=1e-12, elementwise_affine=True)\n",
       "              (dropout): Dropout(p=0.1, inplace=False)\n",
       "            )\n",
       "          )\n",
       "          (intermediate): BertIntermediate(\n",
       "            (dense): Linear(in_features=768, out_features=3072, bias=True)\n",
       "          )\n",
       "          (output): BertOutput(\n",
       "            (dense): Linear(in_features=3072, out_features=768, bias=True)\n",
       "            (LayerNorm): LayerNorm((768,), eps=1e-12, elementwise_affine=True)\n",
       "            (dropout): Dropout(p=0.1, inplace=False)\n",
       "          )\n",
       "        )\n",
       "        (11): BertLayer(\n",
       "          (attention): BertAttention(\n",
       "            (self): BertSelfAttention(\n",
       "              (query): Linear(in_features=768, out_features=768, bias=True)\n",
       "              (key): Linear(in_features=768, out_features=768, bias=True)\n",
       "              (value): Linear(in_features=768, out_features=768, bias=True)\n",
       "              (dropout): Dropout(p=0.1, inplace=False)\n",
       "            )\n",
       "            (output): BertSelfOutput(\n",
       "              (dense): Linear(in_features=768, out_features=768, bias=True)\n",
       "              (LayerNorm): LayerNorm((768,), eps=1e-12, elementwise_affine=True)\n",
       "              (dropout): Dropout(p=0.1, inplace=False)\n",
       "            )\n",
       "          )\n",
       "          (intermediate): BertIntermediate(\n",
       "            (dense): Linear(in_features=768, out_features=3072, bias=True)\n",
       "          )\n",
       "          (output): BertOutput(\n",
       "            (dense): Linear(in_features=3072, out_features=768, bias=True)\n",
       "            (LayerNorm): LayerNorm((768,), eps=1e-12, elementwise_affine=True)\n",
       "            (dropout): Dropout(p=0.1, inplace=False)\n",
       "          )\n",
       "        )\n",
       "      )\n",
       "    )\n",
       "    (pooler): BertPooler(\n",
       "      (dense): Linear(in_features=768, out_features=768, bias=True)\n",
       "      (activation): Tanh()\n",
       "    )\n",
       "  )\n",
       "  (classifier): Linear(in_features=768, out_features=3, bias=True)\n",
       "  (dropout): Dropout(p=0.1, inplace=False)\n",
       "  (loss_fn): CrossEntropyLoss()\n",
       "  (train_acc): Accuracy()\n",
       "  (val_acc): Accuracy()\n",
       "  (test_accs): ModuleList(\n",
       "    (0): Accuracy()\n",
       "    (1): Accuracy()\n",
       "    (2): Accuracy()\n",
       "    (3): Accuracy()\n",
       "    (4): Accuracy()\n",
       "  )\n",
       "  (val_acc_best): MaxMetric()\n",
       ")"
      ]
     },
     "execution_count": 58,
     "metadata": {},
     "output_type": "execute_result"
    }
   ],
   "source": [
    "original_model = SequenceClassificationTransformer.load_from_checkpoint(\"/remote/csifs1/disk0/meissner/shortcut-pruning/experiments/baselines/bert/mnli/multiruns/2022-04-18/13-07-56/4/checkpoints/last.ckpt\")\n",
    "original_model.eval();"
   ]
  },
  {
   "cell_type": "code",
   "execution_count": 59,
   "id": "deca03d8-59dc-413a-80ac-4bbf1d76f3e4",
   "metadata": {},
   "outputs": [
    {
     "data": {
      "text/plain": [
       "True"
      ]
     },
     "execution_count": 59,
     "metadata": {},
     "output_type": "execute_result"
    }
   ],
   "source": [
    "torch.allclose(original_model.model.encoder.layer[0].attention.self.query.weight, model.model.encoder.layer[0].attention.self.query.weight)"
   ]
  },
  {
   "cell_type": "code",
   "execution_count": 60,
   "id": "7b48ad92-3545-4c20-8c08-841020c0431e",
   "metadata": {},
   "outputs": [
    {
     "data": {
      "text/plain": [
       "True"
      ]
     },
     "execution_count": 60,
     "metadata": {},
     "output_type": "execute_result"
    }
   ],
   "source": [
    "torch.allclose(original_model.classifier.weight, model.classifier.weight)"
   ]
  },
  {
   "cell_type": "code",
   "execution_count": 70,
   "id": "e7684a7d-ef45-465f-a698-d11b56ade532",
   "metadata": {},
   "outputs": [
    {
     "data": {
      "text/plain": [
       "Parameter containing:\n",
       "tensor([[-0.0156,  0.0260, -0.0240,  ...,  0.0176,  0.0789,  0.0591],\n",
       "        [-0.0344,  0.0318, -0.0442,  ..., -0.0514,  0.1413,  0.0040],\n",
       "        [ 0.0127,  0.0285,  0.0074,  ..., -0.0259,  0.0275, -0.0493],\n",
       "        ...,\n",
       "        [-0.0131,  0.0487,  0.0541,  ...,  0.0247,  0.0590, -0.0562],\n",
       "        [-0.0215,  0.0926,  0.0611,  ..., -0.1051,  0.0601,  0.0457],\n",
       "        [ 0.0027, -0.0918,  0.0101,  ..., -0.0182, -0.0533, -0.0099]],\n",
       "       requires_grad=True)"
      ]
     },
     "execution_count": 70,
     "metadata": {},
     "output_type": "execute_result"
    }
   ],
   "source": [
    "model.model.encoder.layer[0].attention.self.query.weight"
   ]
  },
  {
   "cell_type": "code",
   "execution_count": 4,
   "id": "a3ee1dbd-a321-483b-a2cf-b73a098d7b33",
   "metadata": {},
   "outputs": [],
   "source": [
    "modules = {}; masks = {}\n",
    "for name, module in model.named_modules():\n",
    "    if type(module) == MaskedLinear:\n",
    "        modules[name] = module\n",
    "        masks[name] = module.mask_module(module.weight, 0.1).detach().numpy()"
   ]
  },
  {
   "cell_type": "code",
   "execution_count": 5,
   "id": "3513dfc6-97e0-4e36-b1c9-435aa21a520d",
   "metadata": {
    "tags": []
   },
   "outputs": [],
   "source": [
    "# for name, mask in masks.items():\n",
    "#     print(name)\n",
    "#     plt.imshow(mask, interpolation=\"none\")\n",
    "#     plt.show()"
   ]
  },
  {
   "cell_type": "code",
   "execution_count": 6,
   "id": "c9bb7cb3-d99b-454a-abf2-59386e28ce46",
   "metadata": {},
   "outputs": [],
   "source": [
    "sparsities = defaultdict(list)\n",
    "for key in masks:\n",
    "    components = key.split(\".\")\n",
    "    layer_num = components[3]\n",
    "    if components[4] == \"attention\":\n",
    "        layer_type = components[6]\n",
    "    else:\n",
    "        layer_type = components[4]\n",
    "    mask = masks[key]\n",
    "    sparsity = np.mean(mask).item()\n",
    "    sparsities[layer_type].append(sparsity)"
   ]
  },
  {
   "cell_type": "code",
   "execution_count": 11,
   "id": "5da77af8-758d-422b-9dd1-c1b9be20b456",
   "metadata": {},
   "outputs": [
    {
     "data": {
      "image/png": "[encoded data removed]",
      "text/plain": [
       "<Figure size 432x288 with 1 Axes>"
      ]
     },
     "metadata": {
      "needs_background": "light"
     },
     "output_type": "display_data"
    }
   ],
   "source": [
    "for name in sparsities:\n",
    "    plt.plot(sparsities[name], label=name)\n",
    "plt.legend()\n",
    "plt.savefig(\"sparsity.pdf\", format=\"pdf\")\n",
    "plt.show()"
   ]
  },
  {
   "cell_type": "code",
   "execution_count": 7,
   "id": "ddb6f28f-3ab5-4ad9-b0ac-2c5d0ffc1321",
   "metadata": {},
   "outputs": [
    {
     "data": {
      "text/html": [
       "<div>\n",
       "<style scoped>\n",
       "    .dataframe tbody tr th:only-of-type {\n",
       "        vertical-align: middle;\n",
       "    }\n",
       "\n",
       "    .dataframe tbody tr th {\n",
       "        vertical-align: top;\n",
       "    }\n",
       "\n",
       "    .dataframe thead th {\n",
       "        text-align: right;\n",
       "    }\n",
       "</style>\n",
       "<table border=\"1\" class=\"dataframe\">\n",
       "  <thead>\n",
       "    <tr style=\"text-align: right;\">\n",
       "      <th></th>\n",
       "      <th>Type</th>\n",
       "      <th>Layer</th>\n",
       "      <th>Pruning Rate</th>\n",
       "    </tr>\n",
       "  </thead>\n",
       "  <tbody>\n",
       "    <tr>\n",
       "      <th>0</th>\n",
       "      <td>Attn: Query</td>\n",
       "      <td>1</td>\n",
       "      <td>0.092882</td>\n",
       "    </tr>\n",
       "    <tr>\n",
       "      <th>1</th>\n",
       "      <td>Attn: Query</td>\n",
       "      <td>2</td>\n",
       "      <td>0.095054</td>\n",
       "    </tr>\n",
       "    <tr>\n",
       "      <th>2</th>\n",
       "      <td>Attn: Query</td>\n",
       "      <td>3</td>\n",
       "      <td>0.094371</td>\n",
       "    </tr>\n",
       "    <tr>\n",
       "      <th>3</th>\n",
       "      <td>Attn: Query</td>\n",
       "      <td>4</td>\n",
       "      <td>0.096741</td>\n",
       "    </tr>\n",
       "    <tr>\n",
       "      <th>4</th>\n",
       "      <td>Attn: Query</td>\n",
       "      <td>5</td>\n",
       "      <td>0.095544</td>\n",
       "    </tr>\n",
       "    <tr>\n",
       "      <th>...</th>\n",
       "      <td>...</td>\n",
       "      <td>...</td>\n",
       "      <td>...</td>\n",
       "    </tr>\n",
       "    <tr>\n",
       "      <th>67</th>\n",
       "      <td>Linear: Output</td>\n",
       "      <td>8</td>\n",
       "      <td>0.069974</td>\n",
       "    </tr>\n",
       "    <tr>\n",
       "      <th>68</th>\n",
       "      <td>Linear: Output</td>\n",
       "      <td>9</td>\n",
       "      <td>0.067097</td>\n",
       "    </tr>\n",
       "    <tr>\n",
       "      <th>69</th>\n",
       "      <td>Linear: Output</td>\n",
       "      <td>10</td>\n",
       "      <td>0.053161</td>\n",
       "    </tr>\n",
       "    <tr>\n",
       "      <th>70</th>\n",
       "      <td>Linear: Output</td>\n",
       "      <td>11</td>\n",
       "      <td>0.034547</td>\n",
       "    </tr>\n",
       "    <tr>\n",
       "      <th>71</th>\n",
       "      <td>Linear: Output</td>\n",
       "      <td>12</td>\n",
       "      <td>0.016090</td>\n",
       "    </tr>\n",
       "  </tbody>\n",
       "</table>\n",
       "<p>72 rows × 3 columns</p>\n",
       "</div>"
      ],
      "text/plain": [
       "              Type  Layer  Pruning Rate\n",
       "0      Attn: Query      1      0.092882\n",
       "1      Attn: Query      2      0.095054\n",
       "2      Attn: Query      3      0.094371\n",
       "3      Attn: Query      4      0.096741\n",
       "4      Attn: Query      5      0.095544\n",
       "..             ...    ...           ...\n",
       "67  Linear: Output      8      0.069974\n",
       "68  Linear: Output      9      0.067097\n",
       "69  Linear: Output     10      0.053161\n",
       "70  Linear: Output     11      0.034547\n",
       "71  Linear: Output     12      0.016090\n",
       "\n",
       "[72 rows x 3 columns]"
      ]
     },
     "execution_count": 7,
     "metadata": {},
     "output_type": "execute_result"
    }
   ],
   "source": [
    "import seaborn as sns\n",
    "data = []\n",
    "name_mapping = {\n",
    "    \"query\" : \"Attn: Query\",\n",
    "    \"key\" : \"Attn: Key\",\n",
    "    \"value\" : \"Attn: Value\",\n",
    "    \"dense\" : \"Attn: Output\",\n",
    "    \"intermediate\" : \"Linear: Interm.\",\n",
    "    \"output\": \"Linear: Output\",\n",
    "}\n",
    "for name in sparsities:\n",
    "    for layer in range(12):\n",
    "        data.append([name_mapping[name], layer + 1, 1 - sparsities[name][layer]])\n",
    "data = pd.DataFrame(data, columns=[\"Type\", \"Layer\", \"Pruning Rate\"])\n",
    "data"
   ]
  },
  {
   "cell_type": "code",
   "execution_count": 54,
   "id": "a5de4ffa-0e16-4abd-a8ed-bb201447c834",
   "metadata": {},
   "outputs": [
    {
     "ename": "AttributeError",
     "evalue": "'BertModel' object has no attribute 'classifier'",
     "output_type": "error",
     "traceback": [
      "\u001b[0;31m---------------------------------------------------------------------------\u001b[0m",
      "\u001b[0;31mAttributeError\u001b[0m                            Traceback (most recent call last)",
      "\u001b[0;32m/tmp/ipykernel_18341/3167686192.py\u001b[0m in \u001b[0;36m<module>\u001b[0;34m\u001b[0m\n\u001b[0;32m----> 1\u001b[0;31m \u001b[0mmodel\u001b[0m\u001b[0;34m.\u001b[0m\u001b[0mmodel\u001b[0m\u001b[0;34m.\u001b[0m\u001b[0mclassifier\u001b[0m\u001b[0;34m\u001b[0m\u001b[0;34m\u001b[0m\u001b[0m\n\u001b[0m",
      "\u001b[0;32m~/miniconda3/envs/lightning/lib/python3.8/site-packages/torch/nn/modules/module.py\u001b[0m in \u001b[0;36m__getattr__\u001b[0;34m(self, name)\u001b[0m\n\u001b[1;32m   1175\u001b[0m             \u001b[0;32mif\u001b[0m \u001b[0mname\u001b[0m \u001b[0;32min\u001b[0m \u001b[0mmodules\u001b[0m\u001b[0;34m:\u001b[0m\u001b[0;34m\u001b[0m\u001b[0;34m\u001b[0m\u001b[0m\n\u001b[1;32m   1176\u001b[0m                 \u001b[0;32mreturn\u001b[0m \u001b[0mmodules\u001b[0m\u001b[0;34m[\u001b[0m\u001b[0mname\u001b[0m\u001b[0;34m]\u001b[0m\u001b[0;34m\u001b[0m\u001b[0;34m\u001b[0m\u001b[0m\n\u001b[0;32m-> 1177\u001b[0;31m         raise AttributeError(\"'{}' object has no attribute '{}'\".format(\n\u001b[0m\u001b[1;32m   1178\u001b[0m             type(self).__name__, name))\n\u001b[1;32m   1179\u001b[0m \u001b[0;34m\u001b[0m\u001b[0m\n",
      "\u001b[0;31mAttributeError\u001b[0m: 'BertModel' object has no attribute 'classifier'"
     ]
    }
   ],
   "source": [
    "model.model.classifier"
   ]
  },
  {
   "cell_type": "code",
   "execution_count": 21,
   "id": "ad8ade4c-83b6-462b-8f99-ba4dfdf37a53",
   "metadata": {
    "tags": []
   },
   "outputs": [
    {
     "data": {
      "text/plain": [
       "['Solarize_Light2',\n",
       " '_classic_test_patch',\n",
       " '_mpl-gallery',\n",
       " '_mpl-gallery-nogrid',\n",
       " 'bmh',\n",
       " 'classic',\n",
       " 'dark_background',\n",
       " 'fast',\n",
       " 'fivethirtyeight',\n",
       " 'ggplot',\n",
       " 'grayscale',\n",
       " 'seaborn',\n",
       " 'seaborn-bright',\n",
       " 'seaborn-colorblind',\n",
       " 'seaborn-dark',\n",
       " 'seaborn-dark-palette',\n",
       " 'seaborn-darkgrid',\n",
       " 'seaborn-deep',\n",
       " 'seaborn-muted',\n",
       " 'seaborn-notebook',\n",
       " 'seaborn-paper',\n",
       " 'seaborn-pastel',\n",
       " 'seaborn-poster',\n",
       " 'seaborn-talk',\n",
       " 'seaborn-ticks',\n",
       " 'seaborn-white',\n",
       " 'seaborn-whitegrid',\n",
       " 'tableau-colorblind10']"
      ]
     },
     "execution_count": 21,
     "metadata": {},
     "output_type": "execute_result"
    }
   ],
   "source": [
    "import matplotlib.style as style\n",
    "style.available"
   ]
  },
  {
   "cell_type": "code",
   "execution_count": 9,
   "id": "85a9d28e-be63-4d4d-a356-84c381f49e87",
   "metadata": {
    "tags": []
   },
   "outputs": [],
   "source": [
    "# style.use('seaborn-poster') #sets the size of the charts\n",
    "# style.use('seaborn-muted')\n",
    "sns.set_palette('pastel')"
   ]
  },
  {
   "cell_type": "code",
   "execution_count": 22,
   "id": "b56802a5-9ca2-44f7-aed1-a5b668bec14d",
   "metadata": {},
   "outputs": [
    {
     "data": {
      "image/png": "[encoded data removed]",
      "text/plain": [
       "<Figure size 360x216 with 1 Axes>"
      ]
     },
     "metadata": {
      "needs_background": "light"
     },
     "output_type": "display_data"
    }
   ],
   "source": [
    "plt.figure(figsize=(5, 3))\n",
    "sns.lineplot(data=data, x=\"Layer\", y=\"Pruning Rate\", hue=\"Type\")\n",
    "plt.savefig(\"pruning_rate.pdf\", format=\"pdf\", bbox_inches=\"tight\")"
   ]
  },
  {
   "cell_type": "code",
   "execution_count": null,
   "id": "42dd1681-805c-4d3a-8019-b4a716b9efef",
   "metadata": {},
   "outputs": [],
   "source": []
  },
  {
   "cell_type": "code",
   "execution_count": null,
   "id": "ef15a2f9-bcff-4a46-baa7-6efb8a5f8e31",
   "metadata": {},
   "outputs": [],
   "source": [
    "model.model.encoder.layer[0].attention.self.query.weight.shape"
   ]
  },
  {
   "cell_type": "code",
   "execution_count": null,
   "id": "e45c29d4-5b75-43d1-9890-47bb8ba5bbe7",
   "metadata": {},
   "outputs": [],
   "source": [
    "# Queries\n",
    "\n",
    "query_sparsities = []\n",
    "for key in masks:\n",
    "    \n",
    "    if \"query\" in key:\n",
    "        \n",
    "        mask = masks[key]\n",
    "        sparsities = []\n",
    "        for i in range(0, mask.shape[0], 64):\n",
    "            head = mask[i:i+64, :]\n",
    "            sparsities.append(head.mean())\n",
    "        query_sparsities.append(sparsities)"
   ]
  },
  {
   "cell_type": "code",
   "execution_count": null,
   "id": "31db4029-5aa4-4099-bac8-7c6eb5de0ba4",
   "metadata": {},
   "outputs": [],
   "source": [
    "for i in range(len(query_sparsities[0])):\n",
    "    head_spars = [heads[i] for heads in query_sparsities]\n",
    "    plt.plot(head_spars, label=str(i))\n",
    "# plt.legend()\n",
    "plt.show()"
   ]
  },
  {
   "cell_type": "code",
   "execution_count": null,
   "id": "595e6c2a-94b0-4403-9c82-81f3d07ff121",
   "metadata": {},
   "outputs": [],
   "source": [
    "# Value\n",
    "\n",
    "value_sparsities = []\n",
    "for key in masks:\n",
    "    \n",
    "    if \"value\" in key:\n",
    "        \n",
    "        mask = masks[key]\n",
    "        sparsities = []\n",
    "        for i in range(0, mask.shape[0], 64):\n",
    "            head = mask[i:i+64, :]\n",
    "            sparsities.append(head.mean())\n",
    "        value_sparsities.append(sparsities)"
   ]
  },
  {
   "cell_type": "code",
   "execution_count": null,
   "id": "aa81204d-ce78-4112-abee-7096c50a7e2e",
   "metadata": {},
   "outputs": [],
   "source": [
    "for i in range(len(value_sparsities[0])):\n",
    "    head_spars = [heads[i] for heads in value_sparsities]\n",
    "    plt.plot(head_spars, label=str(i))\n",
    "# plt.legend()\n",
    "plt.show()"
   ]
  },
  {
   "cell_type": "code",
   "execution_count": null,
   "id": "1cbbe8f5-6a2e-4005-b441-8522b80671fe",
   "metadata": {},
   "outputs": [],
   "source": [
    "# Keys\n",
    "\n",
    "key_sparsities = []\n",
    "for key in masks:\n",
    "    \n",
    "    if \"key\" in key:\n",
    "        \n",
    "        mask = masks[key]\n",
    "        sparsities = []\n",
    "        for i in range(0, mask.shape[0], 64):\n",
    "            head = mask[i:i+64, :]\n",
    "            sparsities.append(head.mean())\n",
    "        key_sparsities.append(sparsities)"
   ]
  },
  {
   "cell_type": "code",
   "execution_count": null,
   "id": "3e6757f9-9958-4ad7-8608-cd8014cfb832",
   "metadata": {},
   "outputs": [],
   "source": [
    "for i in range(len(key_sparsities[0])):\n",
    "    head_spars = [heads[i] for heads in key_sparsities]\n",
    "    plt.plot(head_spars, label=str(i))\n",
    "# plt.legend()\n",
    "plt.show()"
   ]
  },
  {
   "cell_type": "code",
   "execution_count": null,
   "id": "fd4926f2-28e7-4b5b-86c4-70095b70e2a3",
   "metadata": {},
   "outputs": [],
   "source": []
  },
  {
   "cell_type": "code",
   "execution_count": null,
   "id": "45059ea0-b68a-49b1-b526-df2518cf12b2",
   "metadata": {},
   "outputs": [],
   "source": [
    "# Outputs\n",
    "\n",
    "output_sparsities = []\n",
    "for key in masks:\n",
    "    \n",
    "    if \"value\" in key:\n",
    "        \n",
    "        mask = masks[key]\n",
    "        sparsities = []\n",
    "        for i in range(0, mask.shape[0], 64):\n",
    "            head = mask[:, i:i+64]\n",
    "            sparsities.append(head.mean())\n",
    "        output_sparsities.append(sparsities)"
   ]
  },
  {
   "cell_type": "code",
   "execution_count": null,
   "id": "87d2fc87-e896-41e8-b39f-467765179202",
   "metadata": {},
   "outputs": [],
   "source": [
    "for i in range(len(output_sparsities[0])):\n",
    "    head_spars = [heads[i] for heads in output_sparsities]\n",
    "    plt.plot(head_spars, label=str(i))\n",
    "# plt.legend()\n",
    "plt.show()"
   ]
  },
  {
   "cell_type": "code",
   "execution_count": null,
   "id": "7cc4a8ce-c9a2-4979-9758-7e551b42bbea",
   "metadata": {},
   "outputs": [],
   "source": []
  }
 ],
 "metadata": {
  "kernelspec": {
   "display_name": "Python 3 (ipykernel)",
   "language": "python",
   "name": "python3"
  },
  "language_info": {
   "codemirror_mode": {
    "name": "ipython",
    "version": 3
   },
   "file_extension": ".py",
   "mimetype": "text/x-python",
   "name": "python",
   "nbconvert_exporter": "python",
   "pygments_lexer": "ipython3",
   "version": "3.8.12"
  }
 },
 "nbformat": 4,
 "nbformat_minor": 5
}
