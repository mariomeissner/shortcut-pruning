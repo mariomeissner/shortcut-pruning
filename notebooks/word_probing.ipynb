{
 "cells": [
  {
   "cell_type": "code",
   "execution_count": 10,
   "id": "4b426246-82ca-4d4b-bd70-9f35645e5834",
   "metadata": {},
   "outputs": [],
   "source": [
    "import importlib\n",
    "from typing import Sequence\n",
    "from datasets.dataset_dict import DatasetDict\n",
    "import fire\n",
    "import datasets\n",
    "import sys\n",
    "\n",
    "sys.path.append(\"/home/meissner/shortcut-pruning\")\n",
    "import numpy as np\n",
    "from transformers import AutoTokenizer\n",
    "from pytorch_lightning import LightningModule\n",
    "from torch.utils.data import DataLoader\n",
    "from transformers import DataCollatorWithPadding\n",
    "from tqdm import tqdm\n",
    "import torch \n",
    "from src.models.hf_model import SequenceClassificationTransformer\n",
    "from src.models.hf_model_pruned import PruningTransformer"
   ]
  },
  {
   "cell_type": "code",
   "execution_count": 22,
   "id": "da24e1e8-174b-4824-931a-5a4067ce2d5e",
   "metadata": {},
   "outputs": [],
   "source": [
    "from torch import softmax"
   ]
  },
  {
   "cell_type": "code",
   "execution_count": 11,
   "id": "93c90870-6afd-4b73-b93f-a537aa9a3046",
   "metadata": {},
   "outputs": [],
   "source": [
    "baseline_checkpoint = \"/remote/csifs1/disk0/meissner/shortcut-pruning/experiments/baselines/bert/mnli/multiruns/2022-04-18/13-07-56/0/checkpoints/last.ckpt\""
   ]
  },
  {
   "cell_type": "code",
   "execution_count": 19,
   "id": "6c5e626b-f760-4396-b586-4e19ad3d2237",
   "metadata": {},
   "outputs": [],
   "source": [
    "model_names = [\n",
    "    # \"baseline\", \n",
    "    # \"undertrain\", \n",
    "    # \"tinybert\", \n",
    "    # \"earlystop\", \n",
    "    # \"ensemble_v3_max\",\n",
    "]\n",
    "pruned_names = [\n",
    "    \"pruning_tiny\",\n",
    "    \"pruning_utama_under\",\n",
    "    \"pruning_stop160\",\n",
    "]\n",
    "checkpoint_paths = [\n",
    "    # \"/remote/csifs1/disk0/meissner/shortcut-pruning/experiments/debiasing/undertrain/bert/mnli/runs/2022-04-18/21-33-11/checkpoints/last.ckpt\",\n",
    "    # \"/remote/csifs1/disk0/meissner/shortcut-pruning/experiments/debias/with_tiny/bert/mnli/runs/2022-05-25/18-31-33/checkpoints/last.ckpt\",\n",
    "    # \"/remote/csifs1/disk0/meissner/shortcut-pruning/experiments/debias/new_undertrain_with_limit/bert/mnli/runs/2022-04-27/15-35-33/checkpoints/last.ckpt\",\n",
    "    # \"/remote/csifs1/disk0/meissner/shortcut-pruning/experiments/debias/ensemble_v3_max_scaled/bert/mnli/multiruns/2022-05-25/20-32-15/0/checkpoints/last.ckpt\",\n",
    "]\n",
    "pruned_checkpoint_paths = [\n",
    "    \"/remote/csifs1/disk0/meissner/shortcut-pruning/experiments/pruning/with_tiny/vanilla_then_prune_v2/runs/2022-05-28/09-56-29/checkpoints/last.ckpt\",\n",
    "    \"/remote/csifs1/disk0/meissner/shortcut-pruning/experiments/pruning/vanilla_then_prune/runs/2022-05-24/11-35-12/checkpoints/last.ckpt\",\n",
    "    \"/remote/csifs1/disk0/meissner/shortcut-pruning/experiments/pruning/with_stop_160/vanilla_then_prune_v2/runs/2022-05-30/15-12-34/checkpoints/last.ckpt\",\n",
    "]"
   ]
  },
  {
   "cell_type": "code",
   "execution_count": 14,
   "id": "5027a5bb-ef42-409b-9a5d-9429122a2bd8",
   "metadata": {},
   "outputs": [],
   "source": [
    "negation_words = [\"no\", \"not\", \"don't\", \"none\", \"nothing\", \n",
    "                  \"never\", \"aren’t\", \"isn’t\", \"weren’t\", \n",
    "                  \"neither\", \"don’t\", \"didn’t\", \"doesn’t\", \n",
    "                  \"cannot\", \"hasn’t\", \"won’t\"]"
   ]
  },
  {
   "cell_type": "code",
   "execution_count": 26,
   "id": "21d564cd-d7c8-4e66-861b-53c451d7b93f",
   "metadata": {},
   "outputs": [
    {
     "name": "stderr",
     "output_type": "stream",
     "text": [
      "Some weights of the model checkpoint at bert-base-uncased were not used when initializing BertModel: ['cls.predictions.transform.dense.bias', 'cls.predictions.decoder.weight', 'cls.predictions.transform.dense.weight', 'cls.seq_relationship.weight', 'cls.predictions.transform.LayerNorm.weight', 'cls.predictions.bias', 'cls.predictions.transform.LayerNorm.bias', 'cls.seq_relationship.bias']\n",
      "- This IS expected if you are initializing BertModel from the checkpoint of a model trained on another task or with another architecture (e.g. initializing a BertForSequenceClassification model from a BertForPreTraining model).\n",
      "- This IS NOT expected if you are initializing BertModel from the checkpoint of a model that you expect to be exactly identical (initializing a BertForSequenceClassification model from a BertForSequenceClassification model).\n"
     ]
    },
    {
     "name": "stdout",
     "output_type": "stream",
     "text": [
      "pruning_stop160\n",
      "0.23411992192268372 0.6482416391372681\n"
     ]
    }
   ],
   "source": [
    "baseline_model = SequenceClassificationTransformer.load_from_checkpoint(baseline_checkpoint)\n",
    "baseline_model.eval()\n",
    "tokenizer = AutoTokenizer.from_pretrained(baseline_model.hparams.huggingface_model)\n",
    "baseline_model.to(\"cuda\")\n",
    "print(model_name)\n",
    "for word in negation_words:\n",
    "    prem_logits = []\n",
    "    hyp_logits = []\n",
    "    input1 = tokenizer(word, \"\", return_tensors='pt').to(\"cuda\")\n",
    "    input2 = tokenizer(\"\", word, return_tensors='pt').to(\"cuda\")\n",
    "    output1 = torch.softmax(model(input1)[0][0], -1).detach().cpu().tolist()[2]\n",
    "    output2 = torch.softmax(model(input2)[0][0], -1).detach().cpu().tolist()[2]\n",
    "    prem_logits.append(output1)\n",
    "    hyp_logits.append(output2)\n",
    "print(np.mean(prem_logits), np.mean(hyp_logits))"
   ]
  },
  {
   "cell_type": "code",
   "execution_count": 27,
   "id": "8c27e2a5-87ea-40d7-b887-d4799b65f06e",
   "metadata": {},
   "outputs": [
    {
     "name": "stderr",
     "output_type": "stream",
     "text": [
      "Some weights of the model checkpoint at bert-base-uncased were not used when initializing BertModel: ['cls.predictions.transform.dense.bias', 'cls.predictions.decoder.weight', 'cls.predictions.transform.dense.weight', 'cls.seq_relationship.weight', 'cls.predictions.transform.LayerNorm.weight', 'cls.predictions.bias', 'cls.predictions.transform.LayerNorm.bias', 'cls.seq_relationship.bias']\n",
      "- This IS expected if you are initializing BertModel from the checkpoint of a model trained on another task or with another architecture (e.g. initializing a BertForSequenceClassification model from a BertForPreTraining model).\n",
      "- This IS NOT expected if you are initializing BertModel from the checkpoint of a model that you expect to be exactly identical (initializing a BertForSequenceClassification model from a BertForSequenceClassification model).\n",
      "Could not compute total_training_steps, returninng -1 instead.\n",
      "This should only happen if you are evaluating with your own prediction loop.\n",
      "Make sure to set model.eval() before calling model inference, so that pruning scheduler sets final threshold.\n"
     ]
    },
    {
     "name": "stdout",
     "output_type": "stream",
     "text": [
      "pruning_tiny\n",
      "0.20935477316379547 0.39354830980300903\n"
     ]
    },
    {
     "name": "stderr",
     "output_type": "stream",
     "text": [
      "Some weights of the model checkpoint at bert-base-uncased were not used when initializing BertModel: ['cls.predictions.transform.dense.bias', 'cls.predictions.decoder.weight', 'cls.predictions.transform.dense.weight', 'cls.seq_relationship.weight', 'cls.predictions.transform.LayerNorm.weight', 'cls.predictions.bias', 'cls.predictions.transform.LayerNorm.bias', 'cls.seq_relationship.bias']\n",
      "- This IS expected if you are initializing BertModel from the checkpoint of a model trained on another task or with another architecture (e.g. initializing a BertForSequenceClassification model from a BertForPreTraining model).\n",
      "- This IS NOT expected if you are initializing BertModel from the checkpoint of a model that you expect to be exactly identical (initializing a BertForSequenceClassification model from a BertForSequenceClassification model).\n",
      "Could not compute total_training_steps, returninng -1 instead.\n",
      "This should only happen if you are evaluating with your own prediction loop.\n",
      "Make sure to set model.eval() before calling model inference, so that pruning scheduler sets final threshold.\n"
     ]
    },
    {
     "name": "stdout",
     "output_type": "stream",
     "text": [
      "pruning_utama_under\n",
      "0.0076430244371294975 0.12544234097003937\n"
     ]
    },
    {
     "name": "stderr",
     "output_type": "stream",
     "text": [
      "Some weights of the model checkpoint at bert-base-uncased were not used when initializing BertModel: ['cls.predictions.transform.dense.bias', 'cls.predictions.decoder.weight', 'cls.predictions.transform.dense.weight', 'cls.seq_relationship.weight', 'cls.predictions.transform.LayerNorm.weight', 'cls.predictions.bias', 'cls.predictions.transform.LayerNorm.bias', 'cls.seq_relationship.bias']\n",
      "- This IS expected if you are initializing BertModel from the checkpoint of a model trained on another task or with another architecture (e.g. initializing a BertForSequenceClassification model from a BertForPreTraining model).\n",
      "- This IS NOT expected if you are initializing BertModel from the checkpoint of a model that you expect to be exactly identical (initializing a BertForSequenceClassification model from a BertForSequenceClassification model).\n",
      "Could not compute total_training_steps, returninng -1 instead.\n",
      "This should only happen if you are evaluating with your own prediction loop.\n",
      "Make sure to set model.eval() before calling model inference, so that pruning scheduler sets final threshold.\n"
     ]
    },
    {
     "name": "stdout",
     "output_type": "stream",
     "text": [
      "pruning_stop160\n",
      "0.23411992192268372 0.6482416391372681\n"
     ]
    }
   ],
   "source": [
    "# Pruned models\n",
    "for model_name, model_checkpoint in zip(pruned_names, pruned_checkpoint_paths):\n",
    "    model = PruningTransformer.load_from_checkpoint(model_checkpoint)\n",
    "    model.eval()\n",
    "    model.to(\"cuda\")\n",
    "    print(model_name)\n",
    "    for word in negation_words:\n",
    "        prem_logits = []\n",
    "        hyp_logits = []\n",
    "        input1 = tokenizer(word, \"\", return_tensors='pt').to(\"cuda\")\n",
    "        input2 = tokenizer(\"\", word, return_tensors='pt').to(\"cuda\")\n",
    "        output1 = torch.softmax(model(input1)[0][0], -1).detach().cpu().tolist()[2]\n",
    "        output2 = torch.softmax(model(input2)[0][0], -1).detach().cpu().tolist()[2]\n",
    "        prem_logits.append(output1)\n",
    "        hyp_logits.append(output2)\n",
    "    print(np.mean(prem_logits), np.mean(hyp_logits))"
   ]
  },
  {
   "cell_type": "code",
   "execution_count": null,
   "id": "fee61c42-588b-4eed-b1a3-7ce25dbc45a2",
   "metadata": {},
   "outputs": [],
   "source": []
  }
 ],
 "metadata": {
  "kernelspec": {
   "display_name": "Python 3 (ipykernel)",
   "language": "python",
   "name": "python3"
  },
  "language_info": {
   "codemirror_mode": {
    "name": "ipython",
    "version": 3
   },
   "file_extension": ".py",
   "mimetype": "text/x-python",
   "name": "python",
   "nbconvert_exporter": "python",
   "pygments_lexer": "ipython3",
   "version": "3.8.12"
  }
 },
 "nbformat": 4,
 "nbformat_minor": 5
}
